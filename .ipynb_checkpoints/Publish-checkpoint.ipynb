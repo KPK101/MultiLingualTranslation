{
 "cells": [
  {
   "cell_type": "code",
   "execution_count": 5,
   "id": "1c35cdfb-c76d-4446-b38d-361f77a43c33",
   "metadata": {},
   "outputs": [],
   "source": [
    "from google.cloud import pubsub_v1"
   ]
  },
  {
   "cell_type": "code",
   "execution_count": 2,
   "id": "7eb8da5f-e0c8-4181-b125-935106eff8a7",
   "metadata": {},
   "outputs": [],
   "source": [
    "project_id = \"e6889-pkk2125\"\n",
    "topic_name = \"translation-stream\""
   ]
  },
  {
   "cell_type": "code",
   "execution_count": 3,
   "id": "00e2ba72-4a43-4d97-8094-4f3d5b75d8ca",
   "metadata": {},
   "outputs": [],
   "source": [
    "publisher = pubsub_v1.PublisherClient()\n",
    "topic_path = publisher.topic_path(project_id, topic_name)"
   ]
  },
  {
   "cell_type": "code",
   "execution_count": 8,
   "id": "152ee027-f744-4fb7-9c6c-675addeab065",
   "metadata": {},
   "outputs": [
    {
     "name": "stdout",
     "output_type": "stream",
     "text": [
      "9483812649126850\n"
     ]
    }
   ],
   "source": [
    "data = b\"This is a new new test message.\"\n",
    "future = publisher.publish(topic_path, data)\n",
    "print(future.result())"
   ]
  }
 ],
 "metadata": {
  "kernelspec": {
   "display_name": "env",
   "language": "python",
   "name": "env"
  },
  "language_info": {
   "codemirror_mode": {
    "name": "ipython",
    "version": 3
   },
   "file_extension": ".py",
   "mimetype": "text/x-python",
   "name": "python",
   "nbconvert_exporter": "python",
   "pygments_lexer": "ipython3",
   "version": "3.10.5"
  }
 },
 "nbformat": 4,
 "nbformat_minor": 5
}
