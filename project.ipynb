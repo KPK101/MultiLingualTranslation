{
 "cells": [
  {
   "cell_type": "markdown",
   "metadata": {
    "id": "LrcyWAqnApYc"
   },
   "source": [
    "[Reference Link](https://colab.research.google.com/github/apache/beam/blob/master/examples/notebooks/get-started/learn_beam_basics_by_doing.ipynb#scrollTo=30l8_MD-undP)"
   ]
  },
  {
   "cell_type": "code",
   "execution_count": null,
   "metadata": {
    "colab": {
     "base_uri": "https://localhost:8080/"
    },
    "executionInfo": {
     "elapsed": 46510,
     "status": "ok",
     "timestamp": 1713736051889,
     "user": {
      "displayName": "Harsh Benahalkar",
      "userId": "09467154720224739289"
     },
     "user_tz": 240
    },
    "id": "116B4f7JfZoO",
    "outputId": "1c6061fe-4ba8-4f3f-b23c-b80407a47afa"
   },
   "outputs": [
    {
     "name": "stdout",
     "output_type": "stream",
     "text": [
      "Mounted at /content/drive\n"
     ]
    }
   ],
   "source": [
    "from google.colab import drive\n",
    "drive.mount('/content/drive')\n",
    "\n",
    "import os\n",
    "os.chdir(\"/content/drive/MyDrive/Colab Notebooks/LSSP_code/project/MultiLingualTranslation\")"
   ]
  },
  {
   "cell_type": "code",
   "execution_count": null,
   "metadata": {
    "colab": {
     "base_uri": "https://localhost:8080/"
    },
    "executionInfo": {
     "elapsed": 66727,
     "status": "ok",
     "timestamp": 1713376506670,
     "user": {
      "displayName": "Isabel Verghese",
      "userId": "12550681401940775104"
     },
     "user_tz": 240
    },
    "id": "Q0e5xP6othcc",
    "outputId": "933ec26f-b9e3-4d41-cae5-0ca8ecc54596"
   },
   "outputs": [
    {
     "name": "stdout",
     "output_type": "stream",
     "text": [
      "\u001b[2K     \u001b[90m━━━━━━━━━━━━━━━━━━━━━━━━━━━━━━━━━━━━━━━━\u001b[0m \u001b[32m14.8/14.8 MB\u001b[0m \u001b[31m25.9 MB/s\u001b[0m eta \u001b[36m0:00:00\u001b[0m\n",
      "\u001b[2K     \u001b[90m━━━━━━━━━━━━━━━━━━━━━━━━━━━━━━━━━━━━━━━━\u001b[0m \u001b[32m89.7/89.7 kB\u001b[0m \u001b[31m5.2 MB/s\u001b[0m eta \u001b[36m0:00:00\u001b[0m\n",
      "\u001b[?25h  Preparing metadata (setup.py) ... \u001b[?25l\u001b[?25hdone\n",
      "\u001b[2K     \u001b[90m━━━━━━━━━━━━━━━━━━━━━━━━━━━━━━━━━━━━━━━━\u001b[0m \u001b[32m141.1/141.1 kB\u001b[0m \u001b[31m838.2 kB/s\u001b[0m eta \u001b[36m0:00:00\u001b[0m\n",
      "\u001b[2K     \u001b[90m━━━━━━━━━━━━━━━━━━━━━━━━━━━━━━━━━━━━━━━━\u001b[0m \u001b[32m152.0/152.0 kB\u001b[0m \u001b[31m3.9 MB/s\u001b[0m eta \u001b[36m0:00:00\u001b[0m\n",
      "\u001b[?25h  Preparing metadata (setup.py) ... \u001b[?25l\u001b[?25hdone\n",
      "\u001b[2K     \u001b[90m━━━━━━━━━━━━━━━━━━━━━━━━━━━━━━━━━━━━━━━━\u001b[0m \u001b[32m3.1/3.1 MB\u001b[0m \u001b[31m21.5 MB/s\u001b[0m eta \u001b[36m0:00:00\u001b[0m\n",
      "\u001b[2K     \u001b[90m━━━━━━━━━━━━━━━━━━━━━━━━━━━━━━━━━━━━━━━━\u001b[0m \u001b[32m43.5/43.5 kB\u001b[0m \u001b[31m2.4 MB/s\u001b[0m eta \u001b[36m0:00:00\u001b[0m\n",
      "\u001b[?25h  Preparing metadata (setup.py) ... \u001b[?25l\u001b[?25hdone\n",
      "\u001b[2K     \u001b[90m━━━━━━━━━━━━━━━━━━━━━━━━━━━━━━━━━━━━━━━━\u001b[0m \u001b[32m1.0/1.0 MB\u001b[0m \u001b[31m16.1 MB/s\u001b[0m eta \u001b[36m0:00:00\u001b[0m\n",
      "\u001b[2K     \u001b[90m━━━━━━━━━━━━━━━━━━━━━━━━━━━━━━━━━━━━━━━━\u001b[0m \u001b[32m676.9/676.9 kB\u001b[0m \u001b[31m8.8 MB/s\u001b[0m eta \u001b[36m0:00:00\u001b[0m\n",
      "\u001b[2K     \u001b[90m━━━━━━━━━━━━━━━━━━━━━━━━━━━━━━━━━━━━━━━━\u001b[0m \u001b[32m5.4/5.4 MB\u001b[0m \u001b[31m19.4 MB/s\u001b[0m eta \u001b[36m0:00:00\u001b[0m\n",
      "\u001b[?25h  Preparing metadata (setup.py) ... \u001b[?25l\u001b[?25hdone\n",
      "  Preparing metadata (setup.py) ... \u001b[?25l\u001b[?25hdone\n",
      "\u001b[2K     \u001b[90m━━━━━━━━━━━━━━━━━━━━━━━━━━━━━━━━━━━━━━━━\u001b[0m \u001b[32m307.7/307.7 kB\u001b[0m \u001b[31m12.4 MB/s\u001b[0m eta \u001b[36m0:00:00\u001b[0m\n",
      "\u001b[?25h  Building wheel for crcmod (setup.py) ... \u001b[?25l\u001b[?25hdone\n",
      "  Building wheel for dill (setup.py) ... \u001b[?25l\u001b[?25hdone\n",
      "  Building wheel for hdfs (setup.py) ... \u001b[?25l\u001b[?25hdone\n",
      "  Building wheel for pyjsparser (setup.py) ... \u001b[?25l\u001b[?25hdone\n",
      "  Building wheel for docopt (setup.py) ... \u001b[?25l\u001b[?25hdone\n"
     ]
    }
   ],
   "source": [
    "! pip install --quiet apache-beam\n",
    "! pip install --quiet transformers"
   ]
  },
  {
   "cell_type": "code",
   "execution_count": null,
   "metadata": {
    "colab": {
     "base_uri": "https://localhost:8080/",
     "height": 357
    },
    "executionInfo": {
     "elapsed": 320,
     "status": "error",
     "timestamp": 1713380752363,
     "user": {
      "displayName": "Isabel Verghese",
      "userId": "12550681401940775104"
     },
     "user_tz": 240
    },
    "id": "Ml9BVfYEAfhC",
    "outputId": "e32d6e84-e076-44ee-87bf-41119501f461"
   },
   "outputs": [
    {
     "ename": "ModuleNotFoundError",
     "errorDetails": {
      "actions": [
       {
        "action": "open_url",
        "actionText": "Open Examples",
        "url": "/notebooks/snippets/importing_libraries.ipynb"
       }
      ]
     },
     "evalue": "No module named 'utils.evaluate'",
     "output_type": "error",
     "traceback": [
      "\u001b[0;31m---------------------------------------------------------------------------\u001b[0m",
      "\u001b[0;31mModuleNotFoundError\u001b[0m                       Traceback (most recent call last)",
      "\u001b[0;32m<ipython-input-4-fbae1b0e7fc2>\u001b[0m in \u001b[0;36m<cell line: 8>\u001b[0;34m()\u001b[0m\n\u001b[1;32m      6\u001b[0m \u001b[0;34m\u001b[0m\u001b[0m\n\u001b[1;32m      7\u001b[0m \u001b[0;34m\u001b[0m\u001b[0m\n\u001b[0;32m----> 8\u001b[0;31m \u001b[0;32mfrom\u001b[0m \u001b[0mutils\u001b[0m\u001b[0;34m.\u001b[0m\u001b[0mevaluate\u001b[0m \u001b[0;32mimport\u001b[0m \u001b[0mEvaluate\u001b[0m\u001b[0;34m\u001b[0m\u001b[0;34m\u001b[0m\u001b[0m\n\u001b[0m",
      "\u001b[0;31mModuleNotFoundError\u001b[0m: No module named 'utils.evaluate'",
      "",
      "\u001b[0;31m---------------------------------------------------------------------------\u001b[0;32m\nNOTE: If your import is failing due to a missing package, you can\nmanually install dependencies using either !pip or !apt.\n\nTo view examples of installing some common dependencies, click the\n\"Open Examples\" button below.\n\u001b[0;31m---------------------------------------------------------------------------\u001b[0m\n"
     ]
    }
   ],
   "source": [
    "import apache_beam as beam\n",
    "from transformers import AutoTokenizer, AutoModelForSeq2SeqLM, pipeline\n",
    "\n",
    "import logging\n",
    "logging.root.setLevel(logging.ERROR)\n",
    "\n",
    "\n",
    "from utils.evaluate import Evaluate"
   ]
  },
  {
   "cell_type": "code",
   "execution_count": null,
   "metadata": {
    "id": "OURrIvwhPQFc"
   },
   "outputs": [],
   "source": [
    "\n",
    "input_file = './dataset.txt'\n",
    "\n",
    "# lines_to_write = [\n",
    "#     \"In the vast expanse of the cosmos, among the countless stars and galaxies that stretch beyond the reaches of imagination, there exists a tapestry of wonder and mystery.\",\n",
    "#     \"Within this cosmic quilt, celestial bodies dance to the rhythm of gravity's embrace, weaving intricate patterns across the velvet canvas of space.\",\n",
    "#     \"Nebulas swirl with colors unseen on Earth, their ethereal beauty captivating the gaze of distant observers.\",\n",
    "#     \"Planets, each a world unto itself, orbit their parent stars in a delicate ballet of motion and time.\",\n",
    "#     \"Moons, silent sentinels in the night sky, watch over their planetary companions with quiet vigilance.\",\n",
    "#     \"Comets streak through the darkness, leaving trails of stardust in their wake as they journey through the cold depths of space.\",\n",
    "#     \"Asteroids, remnants of ancient collisions, drift silently through the void, silent witnesses to the tumultuous history of the cosmos.\",\n",
    "#     \"In the depths of the cosmos, black holes lurk like cosmic predators, their gravitational pull devouring everything that dares to venture too close.\",\n",
    "#     \"But amidst the chaos and violence of the cosmos, there exists a rare beauty, a harmony that transcends the boundaries of time and space.\",\n",
    "#     \"Stars are born in fiery explosions of light and energy, their radiance illuminating the darkness of the void.\",\n",
    "#     \"And in their death, they scatter the building blocks of life, seeding the cosmos with the raw materials from which new worlds will one day arise.\",\n",
    "#     \"Throughout the ages, civilizations have gazed upon the stars with wonder and awe, seeking to unlock the secrets of the universe.\",\n",
    "#     \"And though the cosmos may seem vast and unknowable, it is also a place of boundless possibility, where the dreams of humanity can take flight and soar among the stars.\",\n",
    "#     \"In this vast celestial expanse, the wonders of the universe await discovery, beckoning explorers to journey beyond the confines of their world and into the unknown depths of space.\",\n",
    "#     \"From distant galaxies to the smallest subatomic particles, the cosmos is a playground of infinite diversity, offering endless opportunities for exploration and discovery.\",\n",
    "#     \"And as humanity ventures further into the cosmos, new mysteries and wonders await, challenging our understanding of the universe and our place within it.\",\n",
    "#     \"For in the grand tapestry of the cosmos, every star, planet, and galaxy has a story to tell, a history written in the language of physics and mathematics.\",\n",
    "#     \"And as we unravel these mysteries, we come to understand not only the nature of the universe, but also ourselves, and our place within the vastness of creation,\"\n",
    "# ]\n",
    "\n",
    "# with open(input_file, 'w') as file:\n",
    "#     for line in lines_to_write:\n",
    "#         file.write(line + '\\n')\n",
    "\n",
    "#     file.close()\n",
    "\n",
    "# ! cat dataset.txt"
   ]
  },
  {
   "cell_type": "code",
   "execution_count": null,
   "metadata": {
    "colab": {
     "base_uri": "https://localhost:8080/"
    },
    "executionInfo": {
     "elapsed": 42831,
     "status": "ok",
     "timestamp": 1712866653673,
     "user": {
      "displayName": "Harsh Benahalkar",
      "userId": "09467154720224739289"
     },
     "user_tz": 240
    },
    "id": "_hXlmh-3O3HT",
    "outputId": "fddff953-f540-404b-e16d-fb43fd9e6d3c"
   },
   "outputs": [
    {
     "name": "stderr",
     "output_type": "stream",
     "text": [
      "/usr/local/lib/python3.10/dist-packages/huggingface_hub/utils/_token.py:88: UserWarning: \n",
      "The secret `HF_TOKEN` does not exist in your Colab secrets.\n",
      "To authenticate with the Hugging Face Hub, create a token in your settings tab (https://huggingface.co/settings/tokens), set it as secret in your Google Colab and restart your session.\n",
      "You will be able to reuse this secret in all of your notebooks.\n",
      "Please note that authentication is recommended but still optional to access public models or datasets.\n",
      "  warnings.warn(\n"
     ]
    }
   ],
   "source": [
    "model_name = 'facebook/nllb-200-distilled-1.3B'\n",
    "\n",
    "model = AutoModelForSeq2SeqLM.from_pretrained(model_name)\n",
    "tokenizer = AutoTokenizer.from_pretrained(model_name)\n"
   ]
  },
  {
   "cell_type": "code",
   "execution_count": null,
   "metadata": {
    "id": "p2NUvEvXAwuW"
   },
   "outputs": [],
   "source": [
    "import time\n",
    "\n",
    "# class llm_conversion():\n",
    "#     def __init__(self, source, target):\n",
    "#         self.source = source\n",
    "#         self.target = target\n",
    "\n",
    "#         self.llm_pipeline_forward = pipeline('translation', model=model, tokenizer=tokenizer, src_lang=source, tgt_lang=target)\n",
    "#         self.llm_pipeline_backward = pipeline('translation', model=model, tokenizer=tokenizer, src_lang=target, tgt_lang=source)\n",
    "\n",
    "#         self.input_stream = \"\"\n",
    "#         self.output_stram = \"\"\n",
    "\n",
    "#         self.conversion_time = []\n",
    "#         self.input_size = []\n",
    "\n",
    "\n",
    "#     def infer_forward(self, text):\n",
    "#         self.input_stream = self.input_stream + text\n",
    "\n",
    "#         start = time.time()\n",
    "#         output = self.llm_pipeline_forward(text, max_length=1000)\n",
    "\n",
    "#         self.conversion_time.append(time.time() - start)\n",
    "#         self.input_size.append(len(text))\n",
    "\n",
    "#         translated_text = output[0]['translation_text']\n",
    "\n",
    "#         return translated_text\n",
    "\n",
    "\n",
    "#     def infer_backward(self, text):\n",
    "#         output = self.llm_pipeline_backward(text, max_length=1000)\n",
    "#         translated_text = output[0]['translation_text']\n",
    "\n",
    "#         self.output_stram = self.output_stram + text\n",
    "\n",
    "#         return translated_text\n",
    "\n",
    "\n",
    "#     def get(self):\n",
    "#         print(self.input_stream)\n",
    "#         print()\n",
    "#         print(self.output_stram)\n",
    "\n",
    "# source = \"eng_Latn\"\n",
    "# target = \"hin_Deva\"\n",
    "\n",
    "# obj = llm_conversion(source, target)\n",
    "\n",
    "\n",
    "source = \"eng_Latn\"\n",
    "target = \"hin_Deva\"\n",
    "\n",
    "llm_pipeline_forward = pipeline('translation', model=model, tokenizer=tokenizer, src_lang=source, tgt_lang=target)\n",
    "llm_pipeline_backward = pipeline('translation', model=model, tokenizer=tokenizer, src_lang=target, tgt_lang=source)\n",
    "\n",
    "input_stream = \"\"\n",
    "output_stream = \"\"\n",
    "\n",
    "conversion_time = []\n",
    "input_size = []\n",
    "\n",
    "\n",
    "def infer_forward(text):\n",
    "    global input_stream, conversion_time, input_size\n",
    "\n",
    "    input_stream = input_stream + text\n",
    "\n",
    "    start = time.time()\n",
    "    output = llm_pipeline_forward(text, max_length=1000)\n",
    "\n",
    "    conversion_time.append(time.time() - start)\n",
    "    input_size.append(len(text))\n",
    "\n",
    "    translated_text = output[0]['translation_text']\n",
    "\n",
    "    return translated_text\n",
    "\n",
    "\n",
    "def infer_backward(text):\n",
    "    global output_stream\n",
    "\n",
    "    output = llm_pipeline_backward(text, max_length=1000)\n",
    "    translated_text = output[0]['translation_text']\n",
    "\n",
    "    output_stream = output_stream + translated_text\n",
    "\n",
    "    return translated_text\n",
    "\n",
    "\n",
    "def get():\n",
    "    print(input_stream)\n",
    "    print()\n",
    "    print(output_stream)\n"
   ]
  },
  {
   "cell_type": "code",
   "execution_count": null,
   "metadata": {
    "colab": {
     "base_uri": "https://localhost:8080/",
     "height": 34
    },
    "executionInfo": {
     "elapsed": 556836,
     "status": "ok",
     "timestamp": 1712867210499,
     "user": {
      "displayName": "Harsh Benahalkar",
      "userId": "09467154720224739289"
     },
     "user_tz": 240
    },
    "id": "34VEBJopA5Eh",
    "outputId": "ee2d7701-283e-4ca1-f164-d298f4900291"
   },
   "outputs": [
    {
     "data": {
      "application/javascript": [
       "\n",
       "        if (typeof window.interactive_beam_jquery == 'undefined') {\n",
       "          var jqueryScript = document.createElement('script');\n",
       "          jqueryScript.src = 'https://code.jquery.com/jquery-3.4.1.slim.min.js';\n",
       "          jqueryScript.type = 'text/javascript';\n",
       "          jqueryScript.onload = function() {\n",
       "            var datatableScript = document.createElement('script');\n",
       "            datatableScript.src = 'https://cdn.datatables.net/1.10.20/js/jquery.dataTables.min.js';\n",
       "            datatableScript.type = 'text/javascript';\n",
       "            datatableScript.onload = function() {\n",
       "              window.interactive_beam_jquery = jQuery.noConflict(true);\n",
       "              window.interactive_beam_jquery(document).ready(function($){\n",
       "                \n",
       "              });\n",
       "            }\n",
       "            document.head.appendChild(datatableScript);\n",
       "          };\n",
       "          document.head.appendChild(jqueryScript);\n",
       "        } else {\n",
       "          window.interactive_beam_jquery(document).ready(function($){\n",
       "            \n",
       "          });\n",
       "        }"
      ]
     },
     "metadata": {},
     "output_type": "display_data"
    },
    {
     "data": {
      "text/plain": [
       "<apache_beam.runners.portability.fn_api_runner.fn_runner.RunnerResult at 0x7a4fd3d587f0>"
      ]
     },
     "execution_count": 7,
     "metadata": {},
     "output_type": "execute_result"
    }
   ],
   "source": [
    "beam_pipeline = beam.Pipeline()\n",
    "\n",
    "output_file_name = \"output\"\n",
    "\n",
    "outputs = (\n",
    "    beam_pipeline\n",
    "      | 'read the dataset' >> beam.io.ReadFromText(input_file)\n",
    "      | 'forward translation' >> beam.Map(infer_forward)\n",
    "      | 'backward translation' >> beam.Map(infer_backward)\n",
    "      # | 'write results 2' >> beam.io.WriteToText(output_file_name, file_name_suffix = \".txt\")\n",
    "      # | 'print the text file name' >> beam.Map(print)\n",
    ")\n",
    "\n",
    "beam_pipeline.run()"
   ]
  },
  {
   "cell_type": "code",
   "execution_count": null,
   "metadata": {
    "colab": {
     "base_uri": "https://localhost:8080/"
    },
    "executionInfo": {
     "elapsed": 160,
     "status": "ok",
     "timestamp": 1712867540926,
     "user": {
      "displayName": "Harsh Benahalkar",
      "userId": "09467154720224739289"
     },
     "user_tz": 240
    },
    "id": "zTHIs5HCrUE8",
    "outputId": "6371625e-78e4-4de7-d122-8d0b82c0d7e1"
   },
   "outputs": [
    {
     "name": "stdout",
     "output_type": "stream",
     "text": [
      "In the vast expanse of the cosmos, among the countless stars and galaxies that stretch beyond the reaches of imagination, there exists a tapestry of wonder and mystery.Within this cosmic quilt, celestial bodies dance to the rhythm of gravity's embrace, weaving intricate patterns across the velvet canvas of space.Nebulas swirl with colors unseen on Earth, their ethereal beauty captivating the gaze of distant observers.Planets, each a world unto itself, orbit their parent stars in a delicate ballet of motion and time.Moons, silent sentinels in the night sky, watch over their planetary companions with quiet vigilance.Comets streak through the darkness, leaving trails of stardust in their wake as they journey through the cold depths of space.Asteroids, remnants of ancient collisions, drift silently through the void, silent witnesses to the tumultuous history of the cosmos.In the depths of the cosmos, black holes lurk like cosmic predators, their gravitational pull devouring everything that dares to venture too close.But amidst the chaos and violence of the cosmos, there exists a rare beauty, a harmony that transcends the boundaries of time and space.Stars are born in fiery explosions of light and energy, their radiance illuminating the darkness of the void.And in their death, they scatter the building blocks of life, seeding the cosmos with the raw materials from which new worlds will one day arise.Throughout the ages, civilizations have gazed upon the stars with wonder and awe, seeking to unlock the secrets of the universe.And though the cosmos may seem vast and unknowable, it is also a place of boundless possibility, where the dreams of humanity can take flight and soar among the stars.In this vast celestial expanse, the wonders of the universe await discovery, beckoning explorers to journey beyond the confines of their world and into the unknown depths of space.From distant galaxies to the smallest subatomic particles, the cosmos is a playground of infinite diversity, offering endless opportunities for exploration and discovery.And as humanity ventures further into the cosmos, new mysteries and wonders await, challenging our understanding of the universe and our place within it.For in the grand tapestry of the cosmos, every star, planet, and galaxy has a story to tell, a history written in the language of physics and mathematics.And as we unravel these mysteries, we come to understand not only the nature of the universe, but also ourselves, and our place within the vastness of creation,\n",
      "\n",
      "In the vast expanse of the universe, among countless stars and galaxies that stretch beyond the limits of imagination, there exists a tapestry of wonder and mystery.Within this cosmic blanket, celestial bodies dance to the rhythm of gravity's embrace, weaving intricate patterns on the velvet canvas of space.The blobs are surrounded by colors not seen on Earth, their abstract beauty catching the eye of distant observers.The planets, each a world unto themselves, orbit their parent stars in a delicate ballet of speed and time.The moon, silent watchman in the night sky, silently watches over its planetary companion with vigilance.Comets orbit in the dark, traveling through the cold depths of space, leaving behind traces of stellar dust.Asteroids, remnants of ancient collisions, flow silently through the void, silent witnesses to the turbulent history of the universe.Deep in the universe, black holes lurk like space predators, their gravity force eating away at anything that dares to get too close.But amid the chaos and violence of the universe, there is a rare beauty, a harmony that transcends the boundaries of time and space.Stars are born in bursts of light and energy, their brilliance shining light into the darkness of nothingness.And in their deaths, they scatter the building blocks of life, sowing the universe with raw materials that will one day give birth to new worlds.For centuries, civilizations have looked up at the stars with wonder and awe, trying to unlock the mysteries of the universe.And although the universe may seem vast and unknown, it is also a place of infinite possibilities, where humanity's dreams can fly and fly among the stars.In this vast sky, the wonders of the universe await discovery, inviting explorers to travel beyond the confines of their world and into the unknown depths of space.From distant galaxies to the smallest subatomic particles, the universe is a playground of infinite diversity, offering endless opportunities for exploration and discovery.And as mankind advances into the universe, new mysteries and wonders await, challenging our understanding of the universe and our place within it.Because in the vast tapestry of the universe, every star, planet and galaxy has a story, a history written in the language of physics and mathematics.And as we unravel these mysteries, we understand not only the nature of the universe, but also ourselves, and our place in the vastness of creation.\n",
      "0.54392\n",
      "0.96199\n",
      "16.8523\n"
     ]
    }
   ],
   "source": [
    "get()\n",
    "\n",
    "metric = Evaluate()\n",
    "\n",
    "print(metric.jaccard_similarity(input_stream, output_stream))\n",
    "print(metric.cosine_similarity(input_stream, output_stream))\n",
    "print(metric.eucledian_distance(input_stream, output_stream))"
   ]
  },
  {
   "cell_type": "code",
   "execution_count": null,
   "metadata": {
    "colab": {
     "base_uri": "https://localhost:8080/",
     "height": 472
    },
    "executionInfo": {
     "elapsed": 1735,
     "status": "ok",
     "timestamp": 1712867212232,
     "user": {
      "displayName": "Harsh Benahalkar",
      "userId": "09467154720224739289"
     },
     "user_tz": 240
    },
    "id": "H01Zd6V6xl-y",
    "outputId": "8dd77f7f-266b-47e0-fef3-280affa51c1c"
   },
   "outputs": [
    {
     "data": {
      "image/png": "[encoded data removed]",
      "text/plain": [
       "<Figure size 640x480 with 1 Axes>"
      ]
     },
     "metadata": {},
     "output_type": "display_data"
    }
   ],
   "source": [
    "import matplotlib.pyplot as plt\n",
    "\n",
    "plt.scatter(input_size, conversion_time, marker='o')\n",
    "\n",
    "plt.xlabel('word length')\n",
    "plt.ylabel('seconds')\n",
    "plt.title('LLM inference time')\n",
    "\n",
    "plt.show()"
   ]
  },
  {
   "cell_type": "code",
   "execution_count": null,
   "metadata": {
    "colab": {
     "base_uri": "https://localhost:8080/"
    },
    "executionInfo": {
     "elapsed": 25,
     "status": "ok",
     "timestamp": 1712867212232,
     "user": {
      "displayName": "Harsh Benahalkar",
      "userId": "09467154720224739289"
     },
     "user_tz": 240
    },
    "id": "XSn0f0pxPzbW",
    "outputId": "a4114906-2f02-4496-8294-6601a0bad5eb"
   },
   "outputs": [
    {
     "name": "stdout",
     "output_type": "stream",
     "text": [
      "original text\n",
      "In the vast expanse of the cosmos, among the countless stars and galaxies that stretch beyond the reaches of imagination, there exists a tapestry of wonder and mystery.\n",
      "Within this cosmic quilt, celestial bodies dance to the rhythm of gravity's embrace, weaving intricate patterns across the velvet canvas of space.\n",
      "Nebulas swirl with colors unseen on Earth, their ethereal beauty captivating the gaze of distant observers.\n",
      "Planets, each a world unto itself, orbit their parent stars in a delicate ballet of motion and time.\n",
      "Moons, silent sentinels in the night sky, watch over their planetary companions with quiet vigilance.\n",
      "Comets streak through the darkness, leaving trails of stardust in their wake as they journey through the cold depths of space.\n",
      "Asteroids, remnants of ancient collisions, drift silently through the void, silent witnesses to the tumultuous history of the cosmos.\n",
      "In the depths of the cosmos, black holes lurk like cosmic predators, their gravitational pull devouring everything that dares to venture too close.\n",
      "But amidst the chaos and violence of the cosmos, there exists a rare beauty, a harmony that transcends the boundaries of time and space.\n",
      "Stars are born in fiery explosions of light and energy, their radiance illuminating the darkness of the void.\n",
      "And in their death, they scatter the building blocks of life, seeding the cosmos with the raw materials from which new worlds will one day arise.\n",
      "Throughout the ages, civilizations have gazed upon the stars with wonder and awe, seeking to unlock the secrets of the universe.\n",
      "And though the cosmos may seem vast and unknowable, it is also a place of boundless possibility, where the dreams of humanity can take flight and soar among the stars.\n",
      "In this vast celestial expanse, the wonders of the universe await discovery, beckoning explorers to journey beyond the confines of their world and into the unknown depths of space.\n",
      "From distant galaxies to the smallest subatomic particles, the cosmos is a playground of infinite diversity, offering endless opportunities for exploration and discovery.\n",
      "And as humanity ventures further into the cosmos, new mysteries and wonders await, challenging our understanding of the universe and our place within it.\n",
      "For in the grand tapestry of the cosmos, every star, planet, and galaxy has a story to tell, a history written in the language of physics and mathematics.\n",
      "And as we unravel these mysteries, we come to understand not only the nature of the universe, but also ourselves, and our place within the vastness of creation,\n",
      "\n",
      "\n",
      "\n",
      "\n",
      "translated text\n",
      "cat: output-00000-of-00001.txt: No such file or directory\n"
     ]
    }
   ],
   "source": [
    "print(\"original text\")\n",
    "! cat dataset.txt\n",
    "\n",
    "print(\"\\n\\n\\n\")\n",
    "print(\"translated text\")\n",
    "! cat output-00000-of-00001.txt"
   ]
  },
  {
   "cell_type": "code",
   "execution_count": null,
   "metadata": {
    "colab": {
     "base_uri": "https://localhost:8080/"
    },
    "executionInfo": {
     "elapsed": 13,
     "status": "ok",
     "timestamp": 1712867212232,
     "user": {
      "displayName": "Harsh Benahalkar",
      "userId": "09467154720224739289"
     },
     "user_tz": 240
    },
    "id": "uwYfaYS6fJbk",
    "outputId": "ff9241c5-dde7-4366-9e49-a9fbc0f76e72"
   },
   "outputs": [
    {
     "name": "stdout",
     "output_type": "stream",
     "text": [
      "data  dataset.txt  project.ipynb  testing.ipynb  testing_LLMs.ipynb  utils\n"
     ]
    }
   ],
   "source": [
    "! ls"
   ]
  }
 ],
 "metadata": {
  "colab": {
   "provenance": []
  },
  "kernelspec": {
   "display_name": "Python 3",
   "language": "python",
   "name": "python3"
  },
  "language_info": {
   "codemirror_mode": {
    "name": "ipython",
    "version": 3
   },
   "file_extension": ".py",
   "mimetype": "text/x-python",
   "name": "python",
   "nbconvert_exporter": "python",
   "pygments_lexer": "ipython3",
   "version": "3.7.12"
  }
 },
 "nbformat": 4,
 "nbformat_minor": 4
}
