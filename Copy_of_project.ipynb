{
  "cells": [
    {
      "cell_type": "markdown",
      "metadata": {
        "id": "view-in-github",
        "colab_type": "text"
      },
      "source": [
        "<a href=\"https://colab.research.google.com/github/KPK101/MultiLingualTranslation/blob/main/Copy_of_project.ipynb\" target=\"_parent\"><img src=\"https://colab.research.google.com/assets/colab-badge.svg\" alt=\"Open In Colab\"/></a>"
      ]
    },
    {
      "cell_type": "markdown",
      "metadata": {
        "id": "LrcyWAqnApYc"
      },
      "source": [
        "[Reference Link](https://colab.research.google.com/github/apache/beam/blob/master/examples/notebooks/get-started/learn_beam_basics_by_doing.ipynb#scrollTo=30l8_MD-undP)"
      ]
    },
    {
      "cell_type": "code",
      "execution_count": 2,
      "metadata": {
        "colab": {
          "base_uri": "https://localhost:8080/"
        },
        "id": "116B4f7JfZoO",
        "outputId": "3bfc42c4-4d97-4610-9bb6-54fcfda60b76"
      },
      "outputs": [
        {
          "output_type": "stream",
          "name": "stdout",
          "text": [
            "Mounted at /content/drive\n"
          ]
        }
      ],
      "source": [
        "from google.colab import drive\n",
        "drive.mount('/content/drive')\n",
        "\n",
        "# import os\n",
        "# os.chdir(\"/content/drive/MyDrive/Colab Notebooks/LSSP_code/project/MultiLingualTranslation\")"
      ]
    },
    {
      "cell_type": "code",
      "execution_count": 3,
      "metadata": {
        "colab": {
          "base_uri": "https://localhost:8080/"
        },
        "id": "Q0e5xP6othcc",
        "outputId": "564b684f-f647-4f0c-9dbf-1d7f10c6383c"
      },
      "outputs": [
        {
          "output_type": "stream",
          "name": "stdout",
          "text": [
            "\u001b[2K     \u001b[90m━━━━━━━━━━━━━━━━━━━━━━━━━━━━━━━━━━━━━━━━\u001b[0m \u001b[32m14.5/14.5 MB\u001b[0m \u001b[31m41.3 MB/s\u001b[0m eta \u001b[36m0:00:00\u001b[0m\n",
            "\u001b[2K     \u001b[90m━━━━━━━━━━━━━━━━━━━━━━━━━━━━━━━━━━━━━━━━\u001b[0m \u001b[32m89.7/89.7 kB\u001b[0m \u001b[31m8.4 MB/s\u001b[0m eta \u001b[36m0:00:00\u001b[0m\n",
            "\u001b[?25h  Preparing metadata (setup.py) ... \u001b[?25l\u001b[?25hdone\n",
            "\u001b[2K     \u001b[90m━━━━━━━━━━━━━━━━━━━━━━━━━━━━━━━━━━━━━━━━\u001b[0m \u001b[32m142.5/142.5 kB\u001b[0m \u001b[31m13.6 MB/s\u001b[0m eta \u001b[36m0:00:00\u001b[0m\n",
            "\u001b[2K     \u001b[90m━━━━━━━━━━━━━━━━━━━━━━━━━━━━━━━━━━━━━━━━\u001b[0m \u001b[32m152.0/152.0 kB\u001b[0m \u001b[31m14.7 MB/s\u001b[0m eta \u001b[36m0:00:00\u001b[0m\n",
            "\u001b[?25h  Preparing metadata (setup.py) ... \u001b[?25l\u001b[?25hdone\n",
            "\u001b[2K     \u001b[90m━━━━━━━━━━━━━━━━━━━━━━━━━━━━━━━━━━━━━━━━\u001b[0m \u001b[32m3.1/3.1 MB\u001b[0m \u001b[31m53.6 MB/s\u001b[0m eta \u001b[36m0:00:00\u001b[0m\n",
            "\u001b[2K     \u001b[90m━━━━━━━━━━━━━━━━━━━━━━━━━━━━━━━━━━━━━━━━\u001b[0m \u001b[32m43.5/43.5 kB\u001b[0m \u001b[31m4.0 MB/s\u001b[0m eta \u001b[36m0:00:00\u001b[0m\n",
            "\u001b[?25h  Preparing metadata (setup.py) ... \u001b[?25l\u001b[?25hdone\n",
            "\u001b[2K     \u001b[90m━━━━━━━━━━━━━━━━━━━━━━━━━━━━━━━━━━━━━━━━\u001b[0m \u001b[32m670.0/670.0 kB\u001b[0m \u001b[31m35.9 MB/s\u001b[0m eta \u001b[36m0:00:00\u001b[0m\n",
            "\u001b[2K     \u001b[90m━━━━━━━━━━━━━━━━━━━━━━━━━━━━━━━━━━━━━━━━\u001b[0m \u001b[32m252.0/252.0 kB\u001b[0m \u001b[31m17.8 MB/s\u001b[0m eta \u001b[36m0:00:00\u001b[0m\n",
            "\u001b[2K     \u001b[90m━━━━━━━━━━━━━━━━━━━━━━━━━━━━━━━━━━━━━━━━\u001b[0m \u001b[32m5.4/5.4 MB\u001b[0m \u001b[31m45.3 MB/s\u001b[0m eta \u001b[36m0:00:00\u001b[0m\n",
            "\u001b[2K     \u001b[90m━━━━━━━━━━━━━━━━━━━━━━━━━━━━━━━━━━━━━━━━\u001b[0m \u001b[32m1.0/1.0 MB\u001b[0m \u001b[31m51.5 MB/s\u001b[0m eta \u001b[36m0:00:00\u001b[0m\n",
            "\u001b[?25h  Preparing metadata (setup.py) ... \u001b[?25l\u001b[?25hdone\n",
            "  Preparing metadata (setup.py) ... \u001b[?25l\u001b[?25hdone\n",
            "\u001b[2K     \u001b[90m━━━━━━━━━━━━━━━━━━━━━━━━━━━━━━━━━━━━━━━━\u001b[0m \u001b[32m307.7/307.7 kB\u001b[0m \u001b[31m28.0 MB/s\u001b[0m eta \u001b[36m0:00:00\u001b[0m\n",
            "\u001b[?25h  Building wheel for crcmod (setup.py) ... \u001b[?25l\u001b[?25hdone\n",
            "  Building wheel for dill (setup.py) ... \u001b[?25l\u001b[?25hdone\n",
            "  Building wheel for hdfs (setup.py) ... \u001b[?25l\u001b[?25hdone\n",
            "  Building wheel for pyjsparser (setup.py) ... \u001b[?25l\u001b[?25hdone\n",
            "  Building wheel for docopt (setup.py) ... \u001b[?25l\u001b[?25hdone\n"
          ]
        }
      ],
      "source": [
        "! pip install --quiet apache-beam\n",
        "# ! pip install --quiet transformers"
      ]
    },
    {
      "cell_type": "code",
      "source": [
        "!git clone https://github.com/KPK101/MultiLingualTranslation.git"
      ],
      "metadata": {
        "id": "zLRlU_bNM9Oa",
        "outputId": "2f5b751e-979b-4df2-f4d4-9d970764f8e3",
        "colab": {
          "base_uri": "https://localhost:8080/"
        }
      },
      "execution_count": 4,
      "outputs": [
        {
          "output_type": "stream",
          "name": "stdout",
          "text": [
            "Cloning into 'MultiLingualTranslation'...\n",
            "remote: Enumerating objects: 61, done.\u001b[K\n",
            "remote: Counting objects: 100% (61/61), done.\u001b[K\n",
            "remote: Compressing objects: 100% (51/51), done.\u001b[K\n",
            "remote: Total 61 (delta 22), reused 38 (delta 9), pack-reused 0\u001b[K\n",
            "Receiving objects: 100% (61/61), 75.36 KiB | 2.28 MiB/s, done.\n",
            "Resolving deltas: 100% (22/22), done.\n"
          ]
        }
      ]
    },
    {
      "cell_type": "code",
      "source": [
        "# import os\n",
        "# os.chdir('MultiLingualTranslation')\n",
        "import sys\n",
        "sys.path.append('/content/MultiLingualTranslation')\n"
      ],
      "metadata": {
        "id": "_ciP1GCKNzAf"
      },
      "execution_count": 5,
      "outputs": []
    },
    {
      "cell_type": "code",
      "execution_count": 53,
      "metadata": {
        "id": "Ml9BVfYEAfhC"
      },
      "outputs": [],
      "source": [
        "import apache_beam as beam\n",
        "from transformers import AutoTokenizer, AutoModelForSeq2SeqLM, pipeline\n",
        "\n",
        "import logging\n",
        "logging.root.setLevel(logging.ERROR)\n",
        "\n",
        "\n",
        "from utils.evaluate import Evaluate\n",
        "\n",
        "import matplotlib.pyplot as plt\n",
        "import numpy as np\n",
        "import re\n"
      ]
    },
    {
      "cell_type": "code",
      "execution_count": 7,
      "metadata": {
        "id": "OURrIvwhPQFc"
      },
      "outputs": [],
      "source": [
        "\n",
        "input_file = './dataset.txt'\n",
        "\n",
        "lines_to_write = [\n",
        "    \"In the vast expanse of the cosmos, among the countless stars and galaxies that stretch beyond the reaches of imagination, there exists a tapestry of wonder and mystery.\",\n",
        "    \"Within this cosmic quilt, celestial bodies dance to the rhythm of gravity's embrace, weaving intricate patterns across the velvet canvas of space.\",\n",
        "    \"Nebulas swirl with colors unseen on Earth, their ethereal beauty captivating the gaze of distant observers.\",\n",
        "    \"Planets, each a world unto itself, orbit their parent stars in a delicate ballet of motion and time.\",\n",
        "    \"Moons, silent sentinels in the night sky, watch over their planetary companions with quiet vigilance.\",\n",
        "    \"Comets streak through the darkness, leaving trails of stardust in their wake as they journey through the cold depths of space.\",\n",
        "    \"Asteroids, remnants of ancient collisions, drift silently through the void, silent witnesses to the tumultuous history of the cosmos.\",\n",
        "    \"In the depths of the cosmos, black holes lurk like cosmic predators, their gravitational pull devouring everything that dares to venture too close.\",\n",
        "    \"But amidst the chaos and violence of the cosmos, there exists a rare beauty, a harmony that transcends the boundaries of time and space.\",\n",
        "    \"Stars are born in fiery explosions of light and energy, their radiance illuminating the darkness of the void.\",\n",
        "    \"And in their death, they scatter the building blocks of life, seeding the cosmos with the raw materials from which new worlds will one day arise.\",\n",
        "    \"Throughout the ages, civilizations have gazed upon the stars with wonder and awe, seeking to unlock the secrets of the universe.\",\n",
        "    \"And though the cosmos may seem vast and unknowable, it is also a place of boundless possibility, where the dreams of humanity can take flight and soar among the stars.\",\n",
        "    \"In this vast celestial expanse, the wonders of the universe await discovery, beckoning explorers to journey beyond the confines of their world and into the unknown depths of space.\",\n",
        "    \"From distant galaxies to the smallest subatomic particles, the cosmos is a playground of infinite diversity, offering endless opportunities for exploration and discovery.\",\n",
        "    \"And as humanity ventures further into the cosmos, new mysteries and wonders await, challenging our understanding of the universe and our place within it.\",\n",
        "    \"For in the grand tapestry of the cosmos, every star, planet, and galaxy has a story to tell, a history written in the language of physics and mathematics.\",\n",
        "    \"And as we unravel these mysteries, we come to understand not only the nature of the universe, but also ourselves, and our place within the vastness of creation.\"\n",
        "]\n",
        "\n",
        "with open(input_file, 'w') as file:\n",
        "    for line in lines_to_write:\n",
        "        file.write(line + '\\n')\n",
        "\n",
        "    file.close()\n",
        "\n",
        "# ! cat dataset.txt"
      ]
    },
    {
      "cell_type": "code",
      "source": [
        "# !cp /content/dataset.txt \"/content/drive/My Drive/Colab Notebooks/outputs\""
      ],
      "metadata": {
        "id": "S70miCckit9f"
      },
      "execution_count": 9,
      "outputs": []
    },
    {
      "cell_type": "code",
      "execution_count": 8,
      "metadata": {
        "colab": {
          "base_uri": "https://localhost:8080/",
          "height": 368,
          "referenced_widgets": [
            "8f37e9ff1c454b05bcab2f7443c22a2c",
            "83c044f5f74f4cbabbf49ff562c52ce3",
            "1dcaa81e8d554fdd8dc039589c8e4a96",
            "d37970f84ab942fd95af24ceea3e1fa5",
            "eb527e61fefc4b26a1cd80420779abbc",
            "f9c9057121ef47b380af7c7fa7fd472e",
            "be04cb4c603d48389a496f9622a4e0dc",
            "56df267e937041399c521c7389051b01",
            "5e8e1855bbc141bf9ec6adda93d130b7",
            "f41d894573be4f9ebfac718a35c169da",
            "de20a53960864d4da75a1d77b1acd716",
            "f7c8f15d13e5451ebfefdda978808261",
            "944cb470b8f04ba69d90762acd3db669",
            "ba29085181554fd5b117a0cbd7da5fe1",
            "04e5f70872aa448ebf10bb3d067c25ae",
            "253f39d19e22477ba6ee74f54030ba47",
            "9419bde5d3884f5d9aa0fbeaad4d6adf",
            "857255c978274c7ea14a86c20ce22234",
            "146f5937496c42a1ba27d69d2d0b8753",
            "86726fa57a0e415cb529b977f8d6d5a1",
            "95dd34c945554546aa909a060c43dc05",
            "dec4640d798d48cb831e6da6d0bb7e77",
            "fab7c87bc7564a7082cf31c5fcf33620",
            "c4fcd21df458486d8c9ac4ba2c341af9",
            "e97f2d72f7ae4a5091819052405abbdc",
            "3edbbc7748dc4fd6ac3b5f8c9e62cb29",
            "4cac84e6572f4aafbea2191cae9574a2",
            "c5228e052aa94c7bbf69e2295b48be67",
            "2b0eea6e1b5f40b9839403e2a5906bf7",
            "8a3385cd852f49a19499988b1fda628a",
            "6df641d0712f4e139979a47c0a0fa55b",
            "fd8df3bfb77a4cab81a7050cfeaba455",
            "cd81b6d6d637484084aecc0ea941578b",
            "0290ccc8c6ee468b89bf5d70037f1e2f",
            "e65d49b6212948ffa3e5ba862ef514bd",
            "49ca4e1898d64d5b98bbe6037bc7bd4e",
            "272f45d96c194952b9f38de827b3a92e",
            "d88f462bd4584a2b90cf2f95b025fafa",
            "78aa3f5989e44e1f82824c48358b00a9",
            "cd3aaa55caa94382b31a34c47b766e5c",
            "ecf22eecf2554fb3ae926f5ae4e64092",
            "fae4b80000a445ceb2d90b7e9d6ce98f",
            "4601882b563f4d13b244a5b8a3b8ae5b",
            "056c5ce299934fbb849682d467012b8e",
            "7d9d71c749944a86af04ca9b4ba16b5e",
            "c54aa5962efa4b77aeb735afc75cd5fd",
            "ef44dbd40677481d8892759a0c48ca59",
            "27a2b739b35644bf886907e5ded49f92",
            "52473569cbdb4de68e149e99d5f6670b",
            "42c9b2036cf740a992395230a40473e8",
            "341c6f67062043ada04359b1dc3a1039",
            "24eb000454eb4e4b93d707df7a7bd354",
            "46ed9c1395c94e74a7f0bf268157a66a",
            "843b9a1246dd42a98ceb752110dc810d",
            "41fcc25b35984894ade923bc69ceeb85",
            "50784a7f236f40b0bf06d86f23095fe5",
            "4d6bfec5422942dc980876be613b0bab",
            "9349916dddc0442c909cfc0a9c520b0a",
            "039c45f1e4924b3e993fb916a5ff5253",
            "e64d351dc2b74271a9fa9b100dfdbfdf",
            "be67026985c047f6abed114e703da5f4",
            "2bd462d8f56642c58534c76646ba7b33",
            "c5d42c8d8f47461ea7028475cd5aba66",
            "bb8d96e960204125848deadc78171e65",
            "6e5b532759944b2589470c01e0c646f5",
            "ceacbd8ef8a04c39a65f0aef95d46f5d",
            "ec4d0a41c95248a39de71a6bcd1db70d",
            "eb78b9106de34000a058e755a8e91991",
            "f652b1a7e9924d7489306ac297b59221",
            "fef22b6270d14286975a97fe24311795",
            "11da906089b246508b933de8d5ba1d14",
            "0b700a0b6df049d2a90c8628a4cbb743",
            "324ec1b6ac8c4761b222910bff4d79f1",
            "9c04c31e3d5d439880b567370851656d",
            "8ab61b4bfb404b2593b3cb30574f8fa2",
            "10032587d4d3433ca46fc0f0bbe6fae4",
            "38d79d8b6a664387b0e5cbbc96f19b19"
          ]
        },
        "id": "_hXlmh-3O3HT",
        "outputId": "0ff50a8b-c318-4573-ab9f-f65d9fceb9dc"
      },
      "outputs": [
        {
          "output_type": "stream",
          "name": "stderr",
          "text": [
            "/usr/local/lib/python3.10/dist-packages/huggingface_hub/utils/_token.py:88: UserWarning: \n",
            "The secret `HF_TOKEN` does not exist in your Colab secrets.\n",
            "To authenticate with the Hugging Face Hub, create a token in your settings tab (https://huggingface.co/settings/tokens), set it as secret in your Google Colab and restart your session.\n",
            "You will be able to reuse this secret in all of your notebooks.\n",
            "Please note that authentication is recommended but still optional to access public models or datasets.\n",
            "  warnings.warn(\n"
          ]
        },
        {
          "output_type": "display_data",
          "data": {
            "text/plain": [
              "config.json:   0%|          | 0.00/808 [00:00<?, ?B/s]"
            ],
            "application/vnd.jupyter.widget-view+json": {
              "version_major": 2,
              "version_minor": 0,
              "model_id": "8f37e9ff1c454b05bcab2f7443c22a2c"
            }
          },
          "metadata": {}
        },
        {
          "output_type": "display_data",
          "data": {
            "text/plain": [
              "pytorch_model.bin:   0%|          | 0.00/5.48G [00:00<?, ?B/s]"
            ],
            "application/vnd.jupyter.widget-view+json": {
              "version_major": 2,
              "version_minor": 0,
              "model_id": "f7c8f15d13e5451ebfefdda978808261"
            }
          },
          "metadata": {}
        },
        {
          "output_type": "display_data",
          "data": {
            "text/plain": [
              "generation_config.json:   0%|          | 0.00/189 [00:00<?, ?B/s]"
            ],
            "application/vnd.jupyter.widget-view+json": {
              "version_major": 2,
              "version_minor": 0,
              "model_id": "fab7c87bc7564a7082cf31c5fcf33620"
            }
          },
          "metadata": {}
        },
        {
          "output_type": "display_data",
          "data": {
            "text/plain": [
              "tokenizer_config.json:   0%|          | 0.00/564 [00:00<?, ?B/s]"
            ],
            "application/vnd.jupyter.widget-view+json": {
              "version_major": 2,
              "version_minor": 0,
              "model_id": "0290ccc8c6ee468b89bf5d70037f1e2f"
            }
          },
          "metadata": {}
        },
        {
          "output_type": "display_data",
          "data": {
            "text/plain": [
              "sentencepiece.bpe.model:   0%|          | 0.00/4.85M [00:00<?, ?B/s]"
            ],
            "application/vnd.jupyter.widget-view+json": {
              "version_major": 2,
              "version_minor": 0,
              "model_id": "7d9d71c749944a86af04ca9b4ba16b5e"
            }
          },
          "metadata": {}
        },
        {
          "output_type": "display_data",
          "data": {
            "text/plain": [
              "tokenizer.json:   0%|          | 0.00/17.3M [00:00<?, ?B/s]"
            ],
            "application/vnd.jupyter.widget-view+json": {
              "version_major": 2,
              "version_minor": 0,
              "model_id": "50784a7f236f40b0bf06d86f23095fe5"
            }
          },
          "metadata": {}
        },
        {
          "output_type": "display_data",
          "data": {
            "text/plain": [
              "special_tokens_map.json:   0%|          | 0.00/3.55k [00:00<?, ?B/s]"
            ],
            "application/vnd.jupyter.widget-view+json": {
              "version_major": 2,
              "version_minor": 0,
              "model_id": "ec4d0a41c95248a39de71a6bcd1db70d"
            }
          },
          "metadata": {}
        }
      ],
      "source": [
        "model_name = 'facebook/nllb-200-distilled-1.3B'\n",
        "\n",
        "model = AutoModelForSeq2SeqLM.from_pretrained(model_name)\n",
        "tokenizer = AutoTokenizer.from_pretrained(model_name)\n"
      ]
    },
    {
      "cell_type": "code",
      "execution_count": 9,
      "metadata": {
        "id": "p2NUvEvXAwuW"
      },
      "outputs": [],
      "source": [
        "import time\n",
        "\n",
        "# class llm_conversion():\n",
        "#     def __init__(self, source, target):\n",
        "#         self.source = source\n",
        "#         self.target = target\n",
        "\n",
        "#         self.llm_pipeline_forward = pipeline('translation', model=model, tokenizer=tokenizer, src_lang=source, tgt_lang=target)\n",
        "#         self.llm_pipeline_backward = pipeline('translation', model=model, tokenizer=tokenizer, src_lang=target, tgt_lang=source)\n",
        "\n",
        "#         self.input_stream = \"\"\n",
        "#         self.output_stram = \"\"\n",
        "\n",
        "#         self.conversion_time = []\n",
        "#         self.input_size = []\n",
        "\n",
        "\n",
        "#     def infer_forward(self, text):\n",
        "#         self.input_stream = self.input_stream + text\n",
        "\n",
        "#         start = time.time()\n",
        "#         output = self.llm_pipeline_forward(text, max_length=1000)\n",
        "\n",
        "#         self.conversion_time.append(time.time() - start)\n",
        "#         self.input_size.append(len(text))\n",
        "\n",
        "#         translated_text = output[0]['translation_text']\n",
        "\n",
        "#         return translated_text\n",
        "\n",
        "\n",
        "#     def infer_backward(self, text):\n",
        "#         output = self.llm_pipeline_backward(text, max_length=1000)\n",
        "#         translated_text = output[0]['translation_text']\n",
        "\n",
        "#         self.output_stram = self.output_stram + text\n",
        "\n",
        "#         return translated_text\n",
        "\n",
        "\n",
        "#     def get(self):\n",
        "#         print(self.input_stream)\n",
        "#         print()\n",
        "#         print(self.output_stram)\n",
        "\n",
        "# source = \"eng_Latn\"\n",
        "# target = \"hin_Deva\"\n",
        "\n",
        "# obj = llm_conversion(source, target)\n",
        "\n",
        "\n",
        "source = \"eng_Latn\"\n",
        "target = \"fra_Latn\"\n",
        "\n",
        "llm_pipeline_forward = pipeline('translation', model=model, tokenizer=tokenizer, src_lang=source, tgt_lang=target)\n",
        "llm_pipeline_backward = pipeline('translation', model=model, tokenizer=tokenizer, src_lang=target, tgt_lang=source)\n",
        "\n",
        "input_stream = \"\"\n",
        "output_stream = \"\"\n",
        "\n",
        "conversion_time = []\n",
        "input_size = []\n",
        "\n",
        "\n",
        "def infer_forward(text):\n",
        "    global input_stream, conversion_time, input_size\n",
        "\n",
        "    input_stream = input_stream + text\n",
        "\n",
        "    start = time.time()\n",
        "    output = llm_pipeline_forward(text, max_length=1000)\n",
        "\n",
        "    conversion_time.append(time.time() - start)\n",
        "    input_size.append(len(text))\n",
        "\n",
        "    translated_text = output[0]['translation_text']\n",
        "\n",
        "    return translated_text\n",
        "\n",
        "\n",
        "def infer_backward(text):\n",
        "    global output_stream\n",
        "\n",
        "    output = llm_pipeline_backward(text, max_length=1000)\n",
        "    translated_text = output[0]['translation_text']\n",
        "\n",
        "    output_stream = output_stream + translated_text\n",
        "\n",
        "    return translated_text\n",
        "\n",
        "\n",
        "def get():\n",
        "    print(input_stream)\n",
        "    print()\n",
        "    print(output_stream)\n"
      ]
    },
    {
      "cell_type": "code",
      "source": [
        "from nltk.translate.bleu_score import sentence_bleu, SmoothingFunction\n",
        "\n",
        "# Prepare the reference and candidate sentences\n",
        "reference = [['this', 'is', 'a', 'test']]\n",
        "candidate = ['this', 'is', 'a', 'test']\n",
        "\n",
        "# Calculate the BLEU score\n",
        "bleu_score = sentence_bleu(reference, candidate)\n",
        "print(\"BLEU score:\", bleu_score)"
      ],
      "metadata": {
        "colab": {
          "base_uri": "https://localhost:8080/"
        },
        "id": "teicA3K2HGre",
        "outputId": "6d4841d4-7def-44d9-8ffe-7e0c64be1c26"
      },
      "execution_count": 10,
      "outputs": [
        {
          "output_type": "stream",
          "name": "stdout",
          "text": [
            "BLEU score: 1.0\n"
          ]
        }
      ]
    },
    {
      "cell_type": "code",
      "source": [
        "def break_paragraph(paragraph, chunk_size):\n",
        "    chunks = []\n",
        "    start_index = 0\n",
        "    lists = paragraph.split(' ')\n",
        "    # print(lists)\n",
        "    csize = len(lists)//chunk_size\n",
        "    while(start_index+csize<len(lists)+csize):\n",
        "        chunk = lists[start_index:start_index+csize]\n",
        "        chunks.append(chunk)\n",
        "        start_index += csize\n",
        "    return chunks\n",
        "\n",
        "def break_paragraph_by_length(paragraph, csize):\n",
        "    chunks = []\n",
        "    start_index = 0\n",
        "    lists = paragraph.split(' ')\n",
        "    # print(lists)\n",
        "    # csize = len(lists)//chunk_size\n",
        "    while(start_index+csize<len(lists)+csize):\n",
        "        chunk = lists[start_index:start_index+csize]\n",
        "        chunks.append(chunk)\n",
        "        start_index += csize\n",
        "    return chunks\n",
        "\n",
        "def process_chunks(chunks):\n",
        "    phrases = []\n",
        "    for c in chunks:\n",
        "        phrases.append(\" \".join(c))\n",
        "    return phrases"
      ],
      "metadata": {
        "id": "aaxJCwwMHOAY"
      },
      "execution_count": 11,
      "outputs": []
    },
    {
      "cell_type": "code",
      "source": [
        "class translate():\n",
        "  def __init__(self, source, target):\n",
        "    self.source = source\n",
        "    self.target = target\n",
        "    self.pipeline = pipeline('translation', model=model, tokenizer=tokenizer, src_lang=source, tgt_lang=target)\n",
        "\n",
        "  def infer(self, text, max_length=1000):\n",
        "    output = self.pipeline(text, max_length=max_length)\n",
        "    translated_text = output[0]['translation_text']\n",
        "    return translated_text\n",
        "\n",
        "  def infer_back(self, text, max_length=1000):\n",
        "    output = self.pipeline(text, max_length=max_length)\n",
        "    translated_text_back = output[0]['translation_text']\n",
        "    return translated_text_back\n",
        "\n",
        "source = 'eng_Latn'\n",
        "\n",
        "def make_life_easy(class_obj):\n",
        "  time1 = time.perf_counter()\n",
        "  print(f\"Translated to '{class_obj.target}' Translation is '{class_obj.infer(text)}'\")\n",
        "  print(f\"Inference time = {time.perf_counter() - time1}\")\n",
        "  print()"
      ],
      "metadata": {
        "id": "uhh_l3qDHsXb"
      },
      "execution_count": 12,
      "outputs": []
    },
    {
      "cell_type": "code",
      "source": [
        "paragraph = ''\n",
        "# read the input_file into \"paragraph\"\n",
        "with open(input_file, 'r', encoding='utf-8') as file:\n",
        "    paragraph = file.read()\n",
        "paragraph = paragraph.replace('\\n', ' ')\n",
        "print(paragraph)"
      ],
      "metadata": {
        "colab": {
          "base_uri": "https://localhost:8080/"
        },
        "id": "X9GmZi5SDOYD",
        "outputId": "48d90f4f-7306-44cc-a87e-e3f92a28a6c4"
      },
      "execution_count": 78,
      "outputs": [
        {
          "output_type": "stream",
          "name": "stdout",
          "text": [
            "In the vast expanse of the cosmos, among the countless stars and galaxies that stretch beyond the reaches of imagination, there exists a tapestry of wonder and mystery. Within this cosmic quilt, celestial bodies dance to the rhythm of gravity's embrace, weaving intricate patterns across the velvet canvas of space. Nebulas swirl with colors unseen on Earth, their ethereal beauty captivating the gaze of distant observers. Planets, each a world unto itself, orbit their parent stars in a delicate ballet of motion and time. Moons, silent sentinels in the night sky, watch over their planetary companions with quiet vigilance. Comets streak through the darkness, leaving trails of stardust in their wake as they journey through the cold depths of space. Asteroids, remnants of ancient collisions, drift silently through the void, silent witnesses to the tumultuous history of the cosmos. In the depths of the cosmos, black holes lurk like cosmic predators, their gravitational pull devouring everything that dares to venture too close. But amidst the chaos and violence of the cosmos, there exists a rare beauty, a harmony that transcends the boundaries of time and space. Stars are born in fiery explosions of light and energy, their radiance illuminating the darkness of the void. And in their death, they scatter the building blocks of life, seeding the cosmos with the raw materials from which new worlds will one day arise. Throughout the ages, civilizations have gazed upon the stars with wonder and awe, seeking to unlock the secrets of the universe. And though the cosmos may seem vast and unknowable, it is also a place of boundless possibility, where the dreams of humanity can take flight and soar among the stars. In this vast celestial expanse, the wonders of the universe await discovery, beckoning explorers to journey beyond the confines of their world and into the unknown depths of space. From distant galaxies to the smallest subatomic particles, the cosmos is a playground of infinite diversity, offering endless opportunities for exploration and discovery. And as humanity ventures further into the cosmos, new mysteries and wonders await, challenging our understanding of the universe and our place within it. For in the grand tapestry of the cosmos, every star, planet, and galaxy has a story to tell, a history written in the language of physics and mathematics. And as we unravel these mysteries, we come to understand not only the nature of the universe, but also ourselves, and our place within the vastness of creation. \n"
          ]
        }
      ]
    },
    {
      "cell_type": "code",
      "source": [
        "# def break_paragraph_by_length(paragraph, csize):\n",
        "#     chunks = []\n",
        "#     start_index = 0\n",
        "#     words = paragraph.split(' ')\n",
        "#     num_words = len(words)  # Total number of words\n",
        "\n",
        "#     while start_index < num_words:\n",
        "#         # Create chunk from start_index to start_index+csize\n",
        "#         chunk = words[start_index:start_index + csize]\n",
        "#         chunks.append(chunk)\n",
        "#         start_index += csize\n",
        "\n",
        "#     return chunks\n",
        "\n",
        "# Function to break paragraph by number of words\n",
        "def break_paragraph_by_length(paragraph, csize):\n",
        "    chunks = []\n",
        "    start_index = 0\n",
        "    words = paragraph.split(' ')\n",
        "    while start_index + csize <= len(words):\n",
        "        chunk = words[start_index:start_index + csize]\n",
        "        chunks.append(\" \".join(chunk))\n",
        "        start_index += csize\n",
        "    # Append any remaining words as a smaller chunk\n",
        "    if start_index < len(words):\n",
        "        chunks.append(\" \".join(words[start_index:]))\n",
        "    return chunks\n",
        "\n",
        "\n",
        "def process_chunks(chunks):\n",
        "    # Join words in each chunk to form phrases\n",
        "    phrases = [\" \".join(chunk) for chunk in chunks]\n",
        "    return phrases\n",
        "\n",
        "def break_paragraph_by_sentences(paragraph):\n",
        "    # Use regular expression to split by sentence terminators\n",
        "    sentences = re.split(r'[.!?,]', paragraph)\n",
        "    return [sentence.strip() for sentence in sentences if sentence]\n",
        "\n",
        "# def break_paragraph_by_delimiters(paragraph, delimiters, max_sentences=None):\n",
        "#     # Create a regular expression pattern from the list of delimiters\n",
        "#     # Join delimiters to form a regex pattern. Escape delimiters as needed.\n",
        "#     pattern = '|'.join(re.escape(delimiter) for delimiter in delimiters)\n",
        "\n",
        "#     # Split the paragraph using the compiled pattern\n",
        "#     chunks = re.split(pattern, paragraph)\n",
        "\n",
        "#     # Optionally group chunks to form larger segments based on max_sentences\n",
        "#     if max_sentences:\n",
        "#         grouped_chunks = []\n",
        "#         sentence_count = 0\n",
        "#         current_group = []\n",
        "\n",
        "#         for chunk in chunks:\n",
        "#             if sentence_count < max_sentences:\n",
        "#                 current_group.append(chunk)\n",
        "#                 sentence_count += 1\n",
        "#             else:\n",
        "#                 grouped_chunks.append(' '.join(current_group).strip())\n",
        "#                 current_group = [chunk]\n",
        "#                 sentence_count = 1\n",
        "\n",
        "#         # Add the last group if any\n",
        "#         if current_group:\n",
        "#             grouped_chunks.append(' '.join(current_group).strip())\n",
        "#         chunks = grouped_chunks\n",
        "\n",
        "#     # Strip whitespace and filter out empty strings\n",
        "#     return [chunk.strip() for chunk in chunks if chunk.strip()]\n",
        "\n",
        "# Function to break by various delimiters\n",
        "def break_paragraph_by_delimiters(paragraph, delimiters, max_sentences=None):\n",
        "    pattern = '(?<=' + '|'.join(re.escape(delimiter) for delimiter in delimiters) + ')'\n",
        "    chunks = re.split(pattern, paragraph)\n",
        "    if max_sentences:\n",
        "        grouped_chunks = []\n",
        "        sentence_count = 0\n",
        "        current_group = []\n",
        "        for chunk in chunks:\n",
        "            if sentence_count < max_sentences:\n",
        "                current_group.append(chunk)\n",
        "                if re.search('|'.join(re.escape(delimiter) for delimiter in delimiters), chunk):\n",
        "                    sentence_count += 1\n",
        "            else:\n",
        "                grouped_chunks.append(' '.join(current_group).strip())\n",
        "                current_group = [chunk]\n",
        "                sentence_count = 1\n",
        "        if current_group:\n",
        "            grouped_chunks.append(' '.join(current_group).strip())\n",
        "        chunks = grouped_chunks\n",
        "    return [chunk.strip() for chunk in chunks if chunk.strip()]\n",
        "\n",
        "\n",
        "\n",
        "# paragraph = 'This is a very long paragraph, detailing every account of what may or may not happen in life. Life as we know it, is not linear but rather karmic and cyclic.'\n",
        "print(paragraph)\n",
        "# chunk_sizes = [5, 10, 15, 20]\n",
        "chunk_sizes = [5, 10, 20]\n",
        "pr_par = []\n",
        "\n",
        "# for chunk_size in chunk_sizes:\n",
        "#     chunks = break_paragraph_by_length(paragraph, chunk_size)\n",
        "#     processed_paragraph = process_chunks(chunks)\n",
        "#     print(f\"Chunks for size {chunk_size}: {processed_paragraph}\")\n",
        "#     pr_par.append(processed_paragraph)\n",
        "\n",
        "# # Different delimiters and scenarios\n",
        "# print(\"Chunks by commas, periods, etc.:\", break_paragraph_by_delimiters(paragraph, [',', '.', ';', ':', '-']))\n",
        "# print(\"Chunks by periods only (1 sentence each):\", break_paragraph_by_delimiters(paragraph, ['.']))\n",
        "# print(\"Chunks by 2 sentences each:\", break_paragraph_by_delimiters(paragraph, ['.'], max_sentences=2))\n",
        "# print(\"Chunks by newline (each line is a chunk):\", break_paragraph_by_delimiters(paragraph, ['\\n']))\n",
        "\n",
        "# Process chunks by word-based sizes\n",
        "for chunk_size in chunk_sizes:\n",
        "    chunks = break_paragraph_by_length(paragraph, chunk_size)\n",
        "    pr_par.append(chunks)\n",
        "\n",
        "# Process chunks by different delimiter-based strategies\n",
        "delimiter_strategies = [\n",
        "    ('commas, periods, etc.', [',', '.', ';', ':', '-'])\n",
        "    ,('periods only (1 sentence each)', ['.'])\n",
        "    # ,('2 sentences each', ['.'], 2)\n",
        "    # ,('newline', ['\\n'])\n",
        "]\n",
        "\n",
        "for name, *args in delimiter_strategies:\n",
        "    chunks = break_paragraph_by_delimiters(paragraph, *args)\n",
        "    pr_par.append(chunks)\n",
        "\n",
        "# Print results\n",
        "for idx, chunks in enumerate(pr_par):\n",
        "    print(f\"Chunk set {idx + 1}: {chunks}\")"
      ],
      "metadata": {
        "colab": {
          "base_uri": "https://localhost:8080/"
        },
        "id": "gRn2r9alFvso",
        "outputId": "c49b817f-5e2e-43fe-b5c8-247a77ae4cd9"
      },
      "execution_count": 79,
      "outputs": [
        {
          "output_type": "stream",
          "name": "stdout",
          "text": [
            "In the vast expanse of the cosmos, among the countless stars and galaxies that stretch beyond the reaches of imagination, there exists a tapestry of wonder and mystery. Within this cosmic quilt, celestial bodies dance to the rhythm of gravity's embrace, weaving intricate patterns across the velvet canvas of space. Nebulas swirl with colors unseen on Earth, their ethereal beauty captivating the gaze of distant observers. Planets, each a world unto itself, orbit their parent stars in a delicate ballet of motion and time. Moons, silent sentinels in the night sky, watch over their planetary companions with quiet vigilance. Comets streak through the darkness, leaving trails of stardust in their wake as they journey through the cold depths of space. Asteroids, remnants of ancient collisions, drift silently through the void, silent witnesses to the tumultuous history of the cosmos. In the depths of the cosmos, black holes lurk like cosmic predators, their gravitational pull devouring everything that dares to venture too close. But amidst the chaos and violence of the cosmos, there exists a rare beauty, a harmony that transcends the boundaries of time and space. Stars are born in fiery explosions of light and energy, their radiance illuminating the darkness of the void. And in their death, they scatter the building blocks of life, seeding the cosmos with the raw materials from which new worlds will one day arise. Throughout the ages, civilizations have gazed upon the stars with wonder and awe, seeking to unlock the secrets of the universe. And though the cosmos may seem vast and unknowable, it is also a place of boundless possibility, where the dreams of humanity can take flight and soar among the stars. In this vast celestial expanse, the wonders of the universe await discovery, beckoning explorers to journey beyond the confines of their world and into the unknown depths of space. From distant galaxies to the smallest subatomic particles, the cosmos is a playground of infinite diversity, offering endless opportunities for exploration and discovery. And as humanity ventures further into the cosmos, new mysteries and wonders await, challenging our understanding of the universe and our place within it. For in the grand tapestry of the cosmos, every star, planet, and galaxy has a story to tell, a history written in the language of physics and mathematics. And as we unravel these mysteries, we come to understand not only the nature of the universe, but also ourselves, and our place within the vastness of creation. \n",
            "Chunk set 1: ['In the vast expanse of', 'the cosmos, among the countless', 'stars and galaxies that stretch', 'beyond the reaches of imagination,', 'there exists a tapestry of', 'wonder and mystery. Within this', 'cosmic quilt, celestial bodies dance', \"to the rhythm of gravity's\", 'embrace, weaving intricate patterns across', 'the velvet canvas of space.', 'Nebulas swirl with colors unseen', 'on Earth, their ethereal beauty', 'captivating the gaze of distant', 'observers. Planets, each a world', 'unto itself, orbit their parent', 'stars in a delicate ballet', 'of motion and time. Moons,', 'silent sentinels in the night', 'sky, watch over their planetary', 'companions with quiet vigilance. Comets', 'streak through the darkness, leaving', 'trails of stardust in their', 'wake as they journey through', 'the cold depths of space.', 'Asteroids, remnants of ancient collisions,', 'drift silently through the void,', 'silent witnesses to the tumultuous', 'history of the cosmos. In', 'the depths of the cosmos,', 'black holes lurk like cosmic', 'predators, their gravitational pull devouring', 'everything that dares to venture', 'too close. But amidst the', 'chaos and violence of the', 'cosmos, there exists a rare', 'beauty, a harmony that transcends', 'the boundaries of time and', 'space. Stars are born in', 'fiery explosions of light and', 'energy, their radiance illuminating the', 'darkness of the void. And', 'in their death, they scatter', 'the building blocks of life,', 'seeding the cosmos with the', 'raw materials from which new', 'worlds will one day arise.', 'Throughout the ages, civilizations have', 'gazed upon the stars with', 'wonder and awe, seeking to', 'unlock the secrets of the', 'universe. And though the cosmos', 'may seem vast and unknowable,', 'it is also a place', 'of boundless possibility, where the', 'dreams of humanity can take', 'flight and soar among the', 'stars. In this vast celestial', 'expanse, the wonders of the', 'universe await discovery, beckoning explorers', 'to journey beyond the confines', 'of their world and into', 'the unknown depths of space.', 'From distant galaxies to the', 'smallest subatomic particles, the cosmos', 'is a playground of infinite', 'diversity, offering endless opportunities for', 'exploration and discovery. And as', 'humanity ventures further into the', 'cosmos, new mysteries and wonders', 'await, challenging our understanding of', 'the universe and our place', 'within it. For in the', 'grand tapestry of the cosmos,', 'every star, planet, and galaxy', 'has a story to tell,', 'a history written in the', 'language of physics and mathematics.', 'And as we unravel these', 'mysteries, we come to understand', 'not only the nature of', 'the universe, but also ourselves,', 'and our place within the', 'vastness of creation. ']\n",
            "Chunk set 2: ['In the vast expanse of the cosmos, among the countless', 'stars and galaxies that stretch beyond the reaches of imagination,', 'there exists a tapestry of wonder and mystery. Within this', \"cosmic quilt, celestial bodies dance to the rhythm of gravity's\", 'embrace, weaving intricate patterns across the velvet canvas of space.', 'Nebulas swirl with colors unseen on Earth, their ethereal beauty', 'captivating the gaze of distant observers. Planets, each a world', 'unto itself, orbit their parent stars in a delicate ballet', 'of motion and time. Moons, silent sentinels in the night', 'sky, watch over their planetary companions with quiet vigilance. Comets', 'streak through the darkness, leaving trails of stardust in their', 'wake as they journey through the cold depths of space.', 'Asteroids, remnants of ancient collisions, drift silently through the void,', 'silent witnesses to the tumultuous history of the cosmos. In', 'the depths of the cosmos, black holes lurk like cosmic', 'predators, their gravitational pull devouring everything that dares to venture', 'too close. But amidst the chaos and violence of the', 'cosmos, there exists a rare beauty, a harmony that transcends', 'the boundaries of time and space. Stars are born in', 'fiery explosions of light and energy, their radiance illuminating the', 'darkness of the void. And in their death, they scatter', 'the building blocks of life, seeding the cosmos with the', 'raw materials from which new worlds will one day arise.', 'Throughout the ages, civilizations have gazed upon the stars with', 'wonder and awe, seeking to unlock the secrets of the', 'universe. And though the cosmos may seem vast and unknowable,', 'it is also a place of boundless possibility, where the', 'dreams of humanity can take flight and soar among the', 'stars. In this vast celestial expanse, the wonders of the', 'universe await discovery, beckoning explorers to journey beyond the confines', 'of their world and into the unknown depths of space.', 'From distant galaxies to the smallest subatomic particles, the cosmos', 'is a playground of infinite diversity, offering endless opportunities for', 'exploration and discovery. And as humanity ventures further into the', 'cosmos, new mysteries and wonders await, challenging our understanding of', 'the universe and our place within it. For in the', 'grand tapestry of the cosmos, every star, planet, and galaxy', 'has a story to tell, a history written in the', 'language of physics and mathematics. And as we unravel these', 'mysteries, we come to understand not only the nature of', 'the universe, but also ourselves, and our place within the', 'vastness of creation. ']\n",
            "Chunk set 3: ['In the vast expanse of the cosmos, among the countless stars and galaxies that stretch beyond the reaches of imagination,', \"there exists a tapestry of wonder and mystery. Within this cosmic quilt, celestial bodies dance to the rhythm of gravity's\", 'embrace, weaving intricate patterns across the velvet canvas of space. Nebulas swirl with colors unseen on Earth, their ethereal beauty', 'captivating the gaze of distant observers. Planets, each a world unto itself, orbit their parent stars in a delicate ballet', 'of motion and time. Moons, silent sentinels in the night sky, watch over their planetary companions with quiet vigilance. Comets', 'streak through the darkness, leaving trails of stardust in their wake as they journey through the cold depths of space.', 'Asteroids, remnants of ancient collisions, drift silently through the void, silent witnesses to the tumultuous history of the cosmos. In', 'the depths of the cosmos, black holes lurk like cosmic predators, their gravitational pull devouring everything that dares to venture', 'too close. But amidst the chaos and violence of the cosmos, there exists a rare beauty, a harmony that transcends', 'the boundaries of time and space. Stars are born in fiery explosions of light and energy, their radiance illuminating the', 'darkness of the void. And in their death, they scatter the building blocks of life, seeding the cosmos with the', 'raw materials from which new worlds will one day arise. Throughout the ages, civilizations have gazed upon the stars with', 'wonder and awe, seeking to unlock the secrets of the universe. And though the cosmos may seem vast and unknowable,', 'it is also a place of boundless possibility, where the dreams of humanity can take flight and soar among the', 'stars. In this vast celestial expanse, the wonders of the universe await discovery, beckoning explorers to journey beyond the confines', 'of their world and into the unknown depths of space. From distant galaxies to the smallest subatomic particles, the cosmos', 'is a playground of infinite diversity, offering endless opportunities for exploration and discovery. And as humanity ventures further into the', 'cosmos, new mysteries and wonders await, challenging our understanding of the universe and our place within it. For in the', 'grand tapestry of the cosmos, every star, planet, and galaxy has a story to tell, a history written in the', 'language of physics and mathematics. And as we unravel these mysteries, we come to understand not only the nature of', 'the universe, but also ourselves, and our place within the vastness of creation. ']\n",
            "Chunk set 4: ['In the vast expanse of the cosmos,', 'among the countless stars and galaxies that stretch beyond the reaches of imagination,', 'there exists a tapestry of wonder and mystery.', 'Within this cosmic quilt,', \"celestial bodies dance to the rhythm of gravity's embrace,\", 'weaving intricate patterns across the velvet canvas of space.', 'Nebulas swirl with colors unseen on Earth,', 'their ethereal beauty captivating the gaze of distant observers.', 'Planets,', 'each a world unto itself,', 'orbit their parent stars in a delicate ballet of motion and time.', 'Moons,', 'silent sentinels in the night sky,', 'watch over their planetary companions with quiet vigilance.', 'Comets streak through the darkness,', 'leaving trails of stardust in their wake as they journey through the cold depths of space.', 'Asteroids,', 'remnants of ancient collisions,', 'drift silently through the void,', 'silent witnesses to the tumultuous history of the cosmos.', 'In the depths of the cosmos,', 'black holes lurk like cosmic predators,', 'their gravitational pull devouring everything that dares to venture too close.', 'But amidst the chaos and violence of the cosmos,', 'there exists a rare beauty,', 'a harmony that transcends the boundaries of time and space.', 'Stars are born in fiery explosions of light and energy,', 'their radiance illuminating the darkness of the void.', 'And in their death,', 'they scatter the building blocks of life,', 'seeding the cosmos with the raw materials from which new worlds will one day arise.', 'Throughout the ages,', 'civilizations have gazed upon the stars with wonder and awe,', 'seeking to unlock the secrets of the universe.', 'And though the cosmos may seem vast and unknowable,', 'it is also a place of boundless possibility,', 'where the dreams of humanity can take flight and soar among the stars.', 'In this vast celestial expanse,', 'the wonders of the universe await discovery,', 'beckoning explorers to journey beyond the confines of their world and into the unknown depths of space.', 'From distant galaxies to the smallest subatomic particles,', 'the cosmos is a playground of infinite diversity,', 'offering endless opportunities for exploration and discovery.', 'And as humanity ventures further into the cosmos,', 'new mysteries and wonders await,', 'challenging our understanding of the universe and our place within it.', 'For in the grand tapestry of the cosmos,', 'every star,', 'planet,', 'and galaxy has a story to tell,', 'a history written in the language of physics and mathematics.', 'And as we unravel these mysteries,', 'we come to understand not only the nature of the universe,', 'but also ourselves,', 'and our place within the vastness of creation.']\n",
            "Chunk set 5: ['In the vast expanse of the cosmos, among the countless stars and galaxies that stretch beyond the reaches of imagination, there exists a tapestry of wonder and mystery.', \"Within this cosmic quilt, celestial bodies dance to the rhythm of gravity's embrace, weaving intricate patterns across the velvet canvas of space.\", 'Nebulas swirl with colors unseen on Earth, their ethereal beauty captivating the gaze of distant observers.', 'Planets, each a world unto itself, orbit their parent stars in a delicate ballet of motion and time.', 'Moons, silent sentinels in the night sky, watch over their planetary companions with quiet vigilance.', 'Comets streak through the darkness, leaving trails of stardust in their wake as they journey through the cold depths of space.', 'Asteroids, remnants of ancient collisions, drift silently through the void, silent witnesses to the tumultuous history of the cosmos.', 'In the depths of the cosmos, black holes lurk like cosmic predators, their gravitational pull devouring everything that dares to venture too close.', 'But amidst the chaos and violence of the cosmos, there exists a rare beauty, a harmony that transcends the boundaries of time and space.', 'Stars are born in fiery explosions of light and energy, their radiance illuminating the darkness of the void.', 'And in their death, they scatter the building blocks of life, seeding the cosmos with the raw materials from which new worlds will one day arise.', 'Throughout the ages, civilizations have gazed upon the stars with wonder and awe, seeking to unlock the secrets of the universe.', 'And though the cosmos may seem vast and unknowable, it is also a place of boundless possibility, where the dreams of humanity can take flight and soar among the stars.', 'In this vast celestial expanse, the wonders of the universe await discovery, beckoning explorers to journey beyond the confines of their world and into the unknown depths of space.', 'From distant galaxies to the smallest subatomic particles, the cosmos is a playground of infinite diversity, offering endless opportunities for exploration and discovery.', 'And as humanity ventures further into the cosmos, new mysteries and wonders await, challenging our understanding of the universe and our place within it.', 'For in the grand tapestry of the cosmos, every star, planet, and galaxy has a story to tell, a history written in the language of physics and mathematics.', 'And as we unravel these mysteries, we come to understand not only the nature of the universe, but also ourselves, and our place within the vastness of creation.']\n"
          ]
        }
      ]
    },
    {
      "cell_type": "code",
      "source": [
        "for pr in pr_par: print(len(pr))"
      ],
      "metadata": {
        "colab": {
          "base_uri": "https://localhost:8080/"
        },
        "id": "78UFv5AUMWru",
        "outputId": "891c68e3-5461-4f22-a215-07a1dbc145cd"
      },
      "execution_count": 80,
      "outputs": [
        {
          "output_type": "stream",
          "name": "stdout",
          "text": [
            "83\n",
            "42\n",
            "21\n",
            "55\n",
            "18\n"
          ]
        }
      ]
    },
    {
      "cell_type": "code",
      "source": [
        "# # paragraph = 'This is a very long paragraph, detailing every account of what may or may not happen in life. Life as we know it, is not linear but rather karmic and cyclic.'\n",
        "# # paragraph = ''\n",
        "# # # read the input_file into \"paragraph\"\n",
        "# # with open(input_file, 'r', encoding='utf-8') as file:\n",
        "# #     paragraph = file.read()\n",
        "# # paragraph = paragraph.replace('\\n', ' ')\n",
        "\n",
        "# chunk_sizes = [5, 10, 15, 20]\n",
        "# pr_par = []\n",
        "# # loop through chunk sizes\n",
        "# for chunk_size in chunk_sizes:\n",
        "#     # break up chunks by number of words\n",
        "#     chunks = break_paragraph_by_length(paragraph, chunk_size)\n",
        "#     # print(chunks)\n",
        "#     print(chunk_size)\n",
        "#     # append all chunks to a list\n",
        "#     processed_paragraph = process_chunks(chunks)\n",
        "#     print(processed_paragraph)\n",
        "#     # save chunked paragraph in larger list\n",
        "#     pr_par.append(processed_paragraph)"
      ],
      "metadata": {
        "colab": {
          "base_uri": "https://localhost:8080/"
        },
        "id": "4ikIOUIkHQ-h",
        "outputId": "688f9f4d-dd61-4ceb-e550-8cd65ef9cf93"
      },
      "execution_count": 13,
      "outputs": [
        {
          "output_type": "stream",
          "name": "stdout",
          "text": [
            "5\n",
            "['This is a very long', 'paragraph, detailing every account of', 'what may or may not', 'happen in life. Life as', 'we know it, is not', 'linear but rather karmic and', 'cyclic.']\n",
            "10\n",
            "['This is a very long paragraph, detailing every account of', 'what may or may not happen in life. Life as', 'we know it, is not linear but rather karmic and', 'cyclic.']\n",
            "15\n",
            "['This is a very long paragraph, detailing every account of what may or may not', 'happen in life. Life as we know it, is not linear but rather karmic and', 'cyclic.']\n",
            "20\n",
            "['This is a very long paragraph, detailing every account of what may or may not happen in life. Life as', 'we know it, is not linear but rather karmic and cyclic.']\n"
          ]
        }
      ]
    },
    {
      "cell_type": "code",
      "source": [
        "# for idx,text in enumerate(pr_par[-1]):\n",
        "#   print(text)\n",
        "#   print(idx)\n",
        "# len(pr_par[-1])"
      ],
      "metadata": {
        "id": "ceypstA7kBpM"
      },
      "execution_count": 62,
      "outputs": []
    },
    {
      "cell_type": "code",
      "source": [
        "num_experiments = len(pr_par)\n",
        "# smoothing function for BLEU score calculation\n",
        "smoothie = SmoothingFunction().method4\n",
        "# prepare reference text for BLEU score calculation\n",
        "ref = [paragraph.split()]\n",
        "# print reference text\n",
        "print(' '.join(ref[0]))\n",
        "# prepare translation\n",
        "test = translate(source, target)\n",
        "\n",
        "bleu_scores = []\n",
        "total_inf_times = []\n",
        "avg_inf_times = []\n",
        "nums_chunks = np.zeros(num_experiments)\n",
        "\n",
        "# loop through chunk sizes\n",
        "for exp_num,pr in enumerate(pr_par):\n",
        "  # print(f'chunk size {chunk_sizes[exp_num]}')\n",
        "  num_chunks = len(pr)\n",
        "  nums_chunks[exp_num] = num_chunks\n",
        "  text_back = []\n",
        "\n",
        "  # initialize times for avg\n",
        "  inf_times_for_avg = np.zeros(num_chunks)\n",
        "  # start timer for total inf time\n",
        "  time1 = time.perf_counter()\n",
        "  # loop through chunks\n",
        "  for chunk_num,text in enumerate(pr):\n",
        "    # start timer for average inf time\n",
        "    time2 = time.perf_counter()\n",
        "    # print(text)\n",
        "    translated_text = test.infer(text)\n",
        "    inf_times_for_avg[chunk_num] = time.perf_counter() - time2\n",
        "    # print(translated_text)\n",
        "    test_back = translate(target, source)\n",
        "    translated_text_back = test_back.infer_back(translated_text)\n",
        "    # print(translated_text_back)\n",
        "    text_back.append(translated_text_back)\n",
        "\n",
        "  print(f'num chunks? {num_chunks}')\n",
        "  avg_inf_times.append(inf_times_for_avg.mean())\n",
        "  print(f'avg inf time {inf_times_for_avg.mean()}')\n",
        "  print(inf_times_for_avg.mean()*num_chunks)\n",
        "  # store total inference time\n",
        "  total_inf_time = time.perf_counter() - time1\n",
        "  total_inf_times.append(total_inf_time)\n",
        "  # print inference time\n",
        "  print(\"Time:\", total_inf_time)\n",
        "\n",
        "  # prepare translation for BLEU score\n",
        "  hyp = ' '.join(text_back).split()\n",
        "  print(' '.join(text_back))\n",
        "  # calculate BLEU score using the smoothing function\n",
        "  bleu_score = sentence_bleu(ref, hyp, smoothing_function=smoothie)\n",
        "  bleu_scores.append(bleu_score)\n",
        "\n",
        "  # print the BLEU score\n",
        "  print(\"BLEU score:\", bleu_score)\n",
        "  print('')"
      ],
      "metadata": {
        "colab": {
          "base_uri": "https://localhost:8080/"
        },
        "id": "c5QkT5AhHdis",
        "outputId": "c6dfd90d-bbba-4242-a095-aac24daedca7"
      },
      "execution_count": 81,
      "outputs": [
        {
          "output_type": "stream",
          "name": "stdout",
          "text": [
            "In the vast expanse of the cosmos, among the countless stars and galaxies that stretch beyond the reaches of imagination, there exists a tapestry of wonder and mystery. Within this cosmic quilt, celestial bodies dance to the rhythm of gravity's embrace, weaving intricate patterns across the velvet canvas of space. Nebulas swirl with colors unseen on Earth, their ethereal beauty captivating the gaze of distant observers. Planets, each a world unto itself, orbit their parent stars in a delicate ballet of motion and time. Moons, silent sentinels in the night sky, watch over their planetary companions with quiet vigilance. Comets streak through the darkness, leaving trails of stardust in their wake as they journey through the cold depths of space. Asteroids, remnants of ancient collisions, drift silently through the void, silent witnesses to the tumultuous history of the cosmos. In the depths of the cosmos, black holes lurk like cosmic predators, their gravitational pull devouring everything that dares to venture too close. But amidst the chaos and violence of the cosmos, there exists a rare beauty, a harmony that transcends the boundaries of time and space. Stars are born in fiery explosions of light and energy, their radiance illuminating the darkness of the void. And in their death, they scatter the building blocks of life, seeding the cosmos with the raw materials from which new worlds will one day arise. Throughout the ages, civilizations have gazed upon the stars with wonder and awe, seeking to unlock the secrets of the universe. And though the cosmos may seem vast and unknowable, it is also a place of boundless possibility, where the dreams of humanity can take flight and soar among the stars. In this vast celestial expanse, the wonders of the universe await discovery, beckoning explorers to journey beyond the confines of their world and into the unknown depths of space. From distant galaxies to the smallest subatomic particles, the cosmos is a playground of infinite diversity, offering endless opportunities for exploration and discovery. And as humanity ventures further into the cosmos, new mysteries and wonders await, challenging our understanding of the universe and our place within it. For in the grand tapestry of the cosmos, every star, planet, and galaxy has a story to tell, a history written in the language of physics and mathematics. And as we unravel these mysteries, we come to understand not only the nature of the universe, but also ourselves, and our place within the vastness of creation.\n",
            "num chunks? 83\n",
            "avg inf time 5.908431508072375\n",
            "490.3998151700071\n",
            "Time: 922.438195494\n",
            "In the vast expanse of The cosmos, among the countless The Stars and Galaxies That Are Expanding beyond all imagination, There is a tapestry of The wonder and the mystery. A cosmic blanket, celestial bodies dancing At the rhythm of gravity They shake hands, weaving intricate patterns across the The velvet web of space. The nebulae swirl with invisible colors. On the earth, their ethereal beauty Captivating the eyes of the far-off The planets, each a world. to itself, orbiting their parent The stars in a delicate ballet movement and time. Silent sentries in the night. Heaven, watch their planet Companions who are silent and vigilant. I'm going to walk in the dark, leaving Traces of stellar dust in their They wake up on the road The cold depths of space. Asteroids, the remains of ancient collisions, They drift silently into the void, Silent Witnesses to the Turmoil In the history of the cosmos. The depths of the cosmos, Black holes are hiding like cosmic rays. Predators, their gravitational pull devouring anything that dares to venture But in the middle of the Chaos and Violence Cosmos, there is a rare Beauty, a Harmony that Transcends the limits of time and Stars are born in space. light and light explosions The energy, their radiation illuminating the The darkness of the void. In their death, they disperse the building blocks of life, To sow the cosmos with the raw materials including new The worlds will appear one day. Over the centuries, civilizations have And the stars are measured by their measure. amazement and fear, seeking to Unlock the secrets of the And though the cosmos It can seem vast and unknowable, It's also a place The European Union is a world of unlimited possibilities, where the The dreams of mankind can take Theft and theft amongst the In this vast sky Space, the wonders of the universe The universe awaits discovery, attracting explorers To travel beyond the limits of their world and in The unknown depths of space. From distant galaxies to the The smallest subatomic particles, the cosmos is a playground of infinity The diversity of possibilities is endless Exploration and discovery. Humanity is venturing further into the The Cosmos, New Mysteries and Wonders We need to know what we're doing. the universe and our place The Commission has The great tapestry of the cosmos, every star, planet and galaxy has a story to tell, A story written in the The language of physics and mathematics. And how do we untangle these Mysteries, we come to understand The nature of the the universe, but also ourselves, and our place in the The vastness of creation.\n",
            "BLEU score: 0.28228663740978793\n",
            "\n",
            "num chunks? 42\n",
            "avg inf time 9.717689348499984\n",
            "408.1429526369993\n",
            "Time: 751.7036568269996\n",
            "In the vast expanse of the cosmos, among the countless Stars and galaxies beyond your imagination. There's a tapestry of wonder and mystery. The cosmic blanket, the celestial bodies dancing to the rhythm of gravity They kiss, weaving intricate patterns on the velvet web of space. Nebulae swirl with colors invisible on Earth, their ethereal beauty The planets, each a world, are planets that capture the eyes of distant observers. to itself, orbiting their mother stars in a delicate ballet The moons, the silent sentinels in the night Comets are planets that move in orbit, and they watch their planetary companions with silent vigilance. They walk through the darkness, leaving traces of dust in their eyes. They wake up traveling through the cold depths of space. Asteroids, remnants of ancient collisions, drift silently through the void. The stars are silent witnesses to the tumultuous history of the cosmos. In the depths of the cosmos, black holes hide like cosmic Predators, their gravitational pull devouring anything that dares to venture But in the midst of the chaos and violence of the There is a rare beauty, a harmony that transcends Stars are born in the sky. Explosions of light and energy, their radiation illuminating the sky. And when they die, they disperse. The building blocks of life, seeding the cosmos with the The raw materials from which new worlds will one day be born. Over the ages, civilizations have looked at the stars with Wonder and fear, seeking to unlock the secrets of the And although the cosmos may seem vast and unknowable, It is also a place of unlimited possibilities, where the The dreams of humanity can take flight and fly among the stars. In this vast expanse of sky, the wonders of the The universe is waiting to be discovered, inviting explorers to travel beyond the boundaries of their world and into the unknown depths of space. From distant galaxies to the smallest subatomic particles, the cosmos The diversity is endless, and it offers endless opportunities for children. Humanity is venturing further into the world. The cosmos, new mysteries and wonders await us, challenging our understanding of The universe and our place in it. The great tapestry of the cosmos, every star, planet and galaxy He has a story to tell, a story written in the and math. We have learned to understand not only the nature of mysteries, but also the nature of the universe, but also ourselves, and our place in the The vastness of creation.\n",
            "BLEU score: 0.4712025218630034\n",
            "\n",
            "num chunks? 21\n",
            "avg inf time 15.466050096857067\n",
            "324.7870520339984\n",
            "Time: 588.7941654950009\n",
            "In the vast expanse of the cosmos, among the countless stars and galaxies beyond imagination, In this cosmic blanket, celestial bodies dance to the rhythm of gravity. Nebulae swirl with colors invisible on Earth, their ethereal beauty The planets, each a world apart, revolve around their parent star in a delicate ballet The moons, silent sentinels in the night sky, watch over their fellow planets with quiet vigilance. They traverse the darkness, leaving traces of stellar dust in their wake as they travel through the cold depths of space. Asteroids, remnants of ancient collisions, drift silently through the void, silent witnesses to the tumultuous history of the cosmos. In the depths of the cosmos, black holes roam like cosmic predators, their gravitational pull devouring anything that dares to venture in. But amidst the chaos and violence of the cosmos, there is a rare beauty, a harmony that transcends Stars are born in explosions of light and energy, their radiation illuminating the sky. And in their death, they scatter the building blocks of life, seeding the cosmos with the Over the centuries, civilizations have looked at the stars with great curiosity. The wonder and awe, trying to unlock the secrets of the universe. It is also a place of unlimited possibilities, where humanity's dreams can take flight and soar among the stars. In this vast expanse of sky, the wonders of the universe await discovery, inviting explorers to travel beyond the limits From distant galaxies to the smallest subatomic particles, the cosmos Humanity is venturing further into the world, and humans are getting rid of nature. We need to know what we do for a living, and we need to know what we do for a living. Every star, planet and galaxy has a story to tell, a story written in the And by unraveling these mysteries, we come to understand not only the nature of physics and mathematics, but also the nature of science. The universe, but also ourselves, and our place in the vastness of creation.\n",
            "BLEU score: 0.43502254588305994\n",
            "\n",
            "num chunks? 55\n",
            "avg inf time 8.079680258491068\n",
            "444.3824142170088\n",
            "Time: 819.4051374680002\n",
            "In the vast expanse of the cosmos, Among the countless stars and galaxies beyond imagination, There is a tapestry of wonder and mystery. In this cosmic blanket, The celestial bodies dance to the rhythm of gravity's embrace, Weaving intricate patterns through the velvet web of space. Nebulae swirl with colors invisible on Earth. Their ethereal beauty captured the eye of distant observers. The planets, Each his own world, They orbit their parent stars in a delicate ballet of movement and time. The Mondays, Silent sentinels in the night sky, They watch their fellow planets with quiet vigilance. Comets fly through the darkness, Leaving traces of stellar dust in their wake as they travel through the cold depths of space. They're asteroids. the remnants of past collisions, They drift silently into the void, Silent witnesses to the tumultuous history of the cosmos. In the depths of the cosmos, Black holes are like cosmic predators. Their gravitational pull devours anything that dares to get too close. But in the midst of the chaos and violence of the cosmos, There is a rare beauty, A harmony that transcends the boundaries of time and space. Stars are born in explosions of light and energy. Their radiance illuminates the darkness of the void. And when they die, They scatter the blocks of life, To sow the cosmos with the raw materials from which new worlds will one day be born. Through the ages, Civilizations have looked up at the stars in wonder and fear. Trying to decipher the secrets of the universe. And although the cosmos may seem vast and unknowable, It's also a place where the possibilities are limitless. Where the dreams of humanity can take flight and soar among the stars. In this vast expanse of heaven, The wonders of the universe are waiting to be discovered. inviting explorers to travel beyond the confines of their world and into the unknown depths of space. From distant galaxies to the smallest subatomic particles, The cosmos is a playground of infinite diversity. It's a world of infinite possibilities for exploration and discovery. And as humanity ventures further into the cosmos, New mysteries and wonders await, It's challenging our understanding of the universe and our place in it. In the great carpet of the cosmos, every star, the planet, And Galaxy has a story to tell, A story written in the language of physics and mathematics. And as we unravel these mysteries, We're not just coming to understand the nature of the universe, But also ourselves, And our place in the vastness of creation.\n",
            "BLEU score: 0.4947817369564788\n",
            "\n",
            "num chunks? 18\n",
            "avg inf time 21.58635476077739\n",
            "388.554385693993\n",
            "Time: 709.4106189119993\n",
            "In the vastness of the universe, among the countless stars and galaxies beyond imagination, there is a tapestry of wonder and mystery. In this cosmic blanket, celestial bodies dance to the rhythm of gravity's embrace, weaving intricate patterns on the velvet web of space. Nebulae swirl with colors invisible on Earth, their ethereal beauty capturing the eye of distant observers. The planets, each a world apart, revolve around their parent star in a delicate ballet of motion and time. The moons, silent sentinels in the night sky, watch over their fellow planets with quiet vigilance. Comets pass through the darkness, leaving traces of stellar dust in their wake as they travel through the cold depths of space. Asteroids, remnants of ancient collisions, drift silently through the void, silent witnesses to the tumultuous history of the cosmos. Deep in the cosmos, black holes lurk like cosmic predators, their gravitational pull devouring anything that dares to get too close. But amid the chaos and violence of the cosmos, there is a rare beauty, a harmony that transcends the boundaries of time and space. Stars are born in explosions of light and energy, their radiation illuminating the darkness of the void. And when they die, they scatter the building blocks of life, seeding the cosmos with the raw materials from which new worlds will one day be born. Throughout the ages, civilizations have gazed at the stars with awe and awe, seeking to unlock the secrets of the universe. And while the cosmos may seem vast and unknowable, it is also a place of limitless possibilities, where humanity's dreams can take flight and soar among the stars. In this vast expanse of sky, the wonders of the universe await discovery, inviting explorers to travel beyond the confines of their world and into the unknown depths of space. From distant galaxies to the smallest subatomic particles, the cosmos is a playground of infinite diversity, offering endless possibilities for exploration and discovery. And as mankind ventures further into the cosmos, new mysteries and wonders await us, testing our understanding of the universe and our place in it. In the vast tapestry of the cosmos, every star, planet and galaxy has a story to tell, a story written in the language of physics and mathematics. And by unraveling these mysteries, we come to understand not only the nature of the universe, but also ourselves and our place in the vastness of creation.\n",
            "BLEU score: 0.6573158026102663\n",
            "\n"
          ]
        }
      ]
    },
    {
      "cell_type": "code",
      "source": [
        "avg_inf_times"
      ],
      "metadata": {
        "colab": {
          "base_uri": "https://localhost:8080/"
        },
        "id": "MvonKlhJ-nXE",
        "outputId": "687d84d3-e737-48f9-ca09-f9fb15af8481"
      },
      "execution_count": 48,
      "outputs": [
        {
          "output_type": "execute_result",
          "data": {
            "text/plain": [
              "[6.163763561428693, 7.154784842000026, 8.340546269333572, 11.81038511550014]"
            ]
          },
          "metadata": {},
          "execution_count": 48
        }
      ]
    },
    {
      "cell_type": "code",
      "source": [
        "inf_times_for_avg = np.zeros(len(pr))\n",
        "inf_times_for_avg[0] = 1\n",
        "inf_times_for_avg[1] = 2\n",
        "inf_times_for_avg.mean()"
      ],
      "metadata": {
        "colab": {
          "base_uri": "https://localhost:8080/"
        },
        "id": "t_HsOW_O6iLP",
        "outputId": "31ef9b8f-ef18-456e-ef33-6a28db5510d2"
      },
      "execution_count": 41,
      "outputs": [
        {
          "output_type": "execute_result",
          "data": {
            "text/plain": [
              "1.5"
            ]
          },
          "metadata": {},
          "execution_count": 41
        }
      ]
    },
    {
      "cell_type": "code",
      "source": [
        "# # Compute average translation time based on chunk sizes (wrong calc!)\n",
        "# result = [inf_time / chunk_size for inf_time, chunk_size in zip(inf_times, chunk_sizes)]\n",
        "\n",
        "# Create the scatter plot using plt.scatter\n",
        "scatter = plt.scatter(avg_inf_times, bleu_scores, c=nums_chunks, cmap='viridis', s=100)\n",
        "\n",
        "# Add a colorbar to show the mapping from chunk sizes to color\n",
        "cbar = plt.colorbar(scatter)\n",
        "cbar.set_label('Number of chunks')\n",
        "\n",
        "# Add axis labels and title\n",
        "plt.xlabel('Avg Inference Times')\n",
        "plt.ylabel('BLEU Scores')\n",
        "plt.title('Inference Times vs BLEU Scores')\n",
        "\n",
        "# Display the plot\n",
        "plt.show()"
      ],
      "metadata": {
        "colab": {
          "base_uri": "https://localhost:8080/",
          "height": 472
        },
        "id": "RVoxn0Fm5c9G",
        "outputId": "4113a3aa-f5d4-45e5-8640-04701d8ddc50"
      },
      "execution_count": 82,
      "outputs": [
        {
          "output_type": "display_data",
          "data": {
            "text/plain": [
              "<Figure size 640x480 with 2 Axes>"
            ],
            "image/png": "[encoded data removed]"
          },
          "metadata": {}
        }
      ]
    },
    {
      "cell_type": "code",
      "source": [
        "# import matplotlib.pyplot as plt\n",
        "plt.plot(chunk_sizes, bleu_scores, marker='o')\n",
        "plt.xlabel('chunk size')\n",
        "plt.ylabel('BLEU score')\n",
        "plt.show()"
      ],
      "metadata": {
        "colab": {
          "base_uri": "https://localhost:8080/",
          "height": 449
        },
        "id": "VcdHz5lM3ExN",
        "outputId": "546e216c-2bb9-4f14-96c7-98feb15ff2b8"
      },
      "execution_count": 24,
      "outputs": [
        {
          "output_type": "display_data",
          "data": {
            "text/plain": [
              "<Figure size 640x480 with 1 Axes>"
            ],
            "image/png": "[encoded data removed]"
          },
          "metadata": {}
        }
      ]
    },
    {
      "cell_type": "code",
      "source": [
        "# print(pr_par[-1])\n",
        "# paragraph.split()\n",
        "# # print(spl)"
      ],
      "metadata": {
        "id": "OqLzk2a8zqsI"
      },
      "execution_count": 74,
      "outputs": []
    },
    {
      "cell_type": "code",
      "source": [
        "# text_joined = ' '.join(pr_par[-1])\n",
        "# text_back_joined = ' '.join(text_back)\n",
        "# print(text_joined)\n",
        "# print(text_back_joined)\n",
        "\n",
        "# Original text and back-translated text split into words\n",
        "ref = [paragraph.split()]  # Note the double list for a single reference\n",
        "hyp = ' '.join(text_back).split()\n",
        "\n",
        "# Print out the tokenized sentences to verify\n",
        "# print(\"Reference:\", ref)\n",
        "# print(\"Hypothesis:\", hyp)\n",
        "# Choose a smoothing function\n",
        "smoothie = SmoothingFunction().method4\n",
        "\n",
        "# Calculate BLEU score using the smoothing function\n",
        "bleu_score = sentence_bleu(ref, hyp, smoothing_function=smoothie)\n",
        "\n",
        "# Print the BLEU score\n",
        "print(\"BLEU score:\", bleu_score)\n",
        "\n",
        "# bleu_score = sentence_bleu(text_joined, text_back_joined)\n",
        "# print(\"BLEU score:\", bleu_score)"
      ],
      "metadata": {
        "colab": {
          "base_uri": "https://localhost:8080/"
        },
        "id": "RHVUCYeuuMrr",
        "outputId": "54300c20-8e0c-4e10-a4ee-9aefab52e3ab"
      },
      "execution_count": 73,
      "outputs": [
        {
          "output_type": "stream",
          "name": "stdout",
          "text": [
            "Reference: [['This', 'is', 'a', 'very', 'long', 'paragraph,', 'detailing', 'every', 'account', 'of', 'what', 'may', 'or', 'may', 'not', 'happen', 'in', 'life.', 'Life', 'as', 'we', 'know', 'it,', 'is', 'not', 'linear', 'but', 'rather', 'karmic', 'and', 'cyclic.']]\n",
            "Hypothesis: [\"It's\", 'a', 'very', 'long', 'paragraph,', 'detailing', 'every', 'story', 'of', 'what', 'may', 'or', 'may', 'not', 'happen', 'in', 'life.', 'We', 'know', \"it's\", 'not', 'linear,', 'but', 'rather', 'karmic', 'and', 'cyclical.']\n",
            "BLEU score: 0.48933766303344434\n"
          ]
        }
      ]
    },
    {
      "cell_type": "code",
      "source": [
        "def translate_text(target: str, text: str) -> dict:\n",
        "    \"\"\"Translates text into the target language.\n",
        "\n",
        "    Target must be an ISO 639-1 language code.\n",
        "    See https://g.co/cloud/translate/v2/translate-reference#supported_languages\n",
        "    \"\"\"\n",
        "    from google.cloud import translate_v2 as translate\n",
        "\n",
        "    translate_client = translate.Client()\n",
        "\n",
        "    if isinstance(text, bytes):\n",
        "        text = text.decode(\"utf-8\")\n",
        "\n",
        "    # Text can also be a sequence of strings, in which case this method\n",
        "    # will return a sequence of results for each text.\n",
        "    result = translate_client.translate(text, target_language=target)\n",
        "\n",
        "    print(\"Text: {}\".format(result[\"input\"]))\n",
        "    print(\"Translation: {}\".format(result[\"translatedText\"]))\n",
        "    print(\"Detected source language: {}\".format(result[\"detectedSourceLanguage\"]))\n",
        "\n",
        "    return result\n",
        "\n",
        "\n",
        "translate_text('hi', 'this is a random')"
      ],
      "metadata": {
        "id": "OTP775VcNSde"
      },
      "execution_count": null,
      "outputs": []
    },
    {
      "cell_type": "code",
      "execution_count": 9,
      "metadata": {
        "colab": {
          "base_uri": "https://localhost:8080/",
          "height": 53
        },
        "id": "34VEBJopA5Eh",
        "outputId": "19f50538-7125-467b-85ce-84f0b5d0fbfd"
      },
      "outputs": [
        {
          "output_type": "display_data",
          "data": {
            "application/javascript": [
              "\n",
              "        if (typeof window.interactive_beam_jquery == 'undefined') {\n",
              "          var jqueryScript = document.createElement('script');\n",
              "          jqueryScript.src = 'https://code.jquery.com/jquery-3.4.1.slim.min.js';\n",
              "          jqueryScript.type = 'text/javascript';\n",
              "          jqueryScript.onload = function() {\n",
              "            var datatableScript = document.createElement('script');\n",
              "            datatableScript.src = 'https://cdn.datatables.net/1.10.20/js/jquery.dataTables.min.js';\n",
              "            datatableScript.type = 'text/javascript';\n",
              "            datatableScript.onload = function() {\n",
              "              window.interactive_beam_jquery = jQuery.noConflict(true);\n",
              "              window.interactive_beam_jquery(document).ready(function($){\n",
              "                \n",
              "              });\n",
              "            }\n",
              "            document.head.appendChild(datatableScript);\n",
              "          };\n",
              "          document.head.appendChild(jqueryScript);\n",
              "        } else {\n",
              "          window.interactive_beam_jquery(document).ready(function($){\n",
              "            \n",
              "          });\n",
              "        }"
            ]
          },
          "metadata": {}
        },
        {
          "output_type": "stream",
          "name": "stdout",
          "text": [
            "output-00000-of-00001.txt\n"
          ]
        },
        {
          "output_type": "execute_result",
          "data": {
            "text/plain": [
              "<apache_beam.runners.portability.fn_api_runner.fn_runner.RunnerResult at 0x7f2a7504b1c0>"
            ]
          },
          "metadata": {},
          "execution_count": 9
        }
      ],
      "source": [
        "beam_pipeline = beam.Pipeline()\n",
        "\n",
        "output_file_name = \"output\"\n",
        "\n",
        "outputs = (\n",
        "    beam_pipeline\n",
        "      | 'read the dataset' >> beam.io.ReadFromText(input_file)\n",
        "      | 'forward translation' >> beam.Map(infer_forward)\n",
        "      | 'backward translation' >> beam.Map(infer_backward)\n",
        "      | 'write results 2' >> beam.io.WriteToText(output_file_name, file_name_suffix = \".txt\")\n",
        "      | 'print the text file name' >> beam.Map(print)\n",
        ")\n",
        "\n",
        "beam_pipeline.run()"
      ]
    },
    {
      "cell_type": "code",
      "source": [
        "# !pwd\n",
        "# !ls -l\n",
        "!cp /content/output-00000-of-00001.txt \"/content/drive/My Drive/Colab Notebooks/outputs\""
      ],
      "metadata": {
        "id": "-giQiR_wWrJp"
      },
      "execution_count": 21,
      "outputs": []
    },
    {
      "cell_type": "code",
      "source": [
        "input_stream\n",
        "# ! cat MultiLingualTranslation\n",
        "# import os\n",
        "# os.chdir('..')\n",
        "# !pwd\n",
        "# !ls -l\n",
        "\n",
        "# !cp /content/dataset.txt \"/content/drive/My Drive/Colab Notebooks/outputs\"\n",
        "\n",
        "# !ls \"/content/drive/My Drive/Colab Notebooks/outputs\""
      ],
      "metadata": {
        "colab": {
          "base_uri": "https://localhost:8080/",
          "height": 143
        },
        "id": "SH79ITB7WaYK",
        "outputId": "299f2460-0230-45ae-aa33-d6014535de23"
      },
      "execution_count": 18,
      "outputs": [
        {
          "output_type": "execute_result",
          "data": {
            "text/plain": [
              "\"In the vast expanse of the cosmos, among the countless stars and galaxies that stretch beyond the reaches of imagination, there exists a tapestry of wonder and mystery.Within this cosmic quilt, celestial bodies dance to the rhythm of gravity's embrace, weaving intricate patterns across the velvet canvas of space.Nebulas swirl with colors unseen on Earth, their ethereal beauty captivating the gaze of distant observers.Planets, each a world unto itself, orbit their parent stars in a delicate ballet of motion and time.Moons, silent sentinels in the night sky, watch over their planetary companions with quiet vigilance.Comets streak through the darkness, leaving trails of stardust in their wake as they journey through the cold depths of space.Asteroids, remnants of ancient collisions, drift silently through the void, silent witnesses to the tumultuous history of the cosmos.In the depths of the cosmos, black holes lurk like cosmic predators, their gravitational pull devouring everything that dares to venture too close.But amidst the chaos and violence of the cosmos, there exists a rare beauty, a harmony that transcends the boundaries of time and space.Stars are born in fiery explosions of light and energy, their radiance illuminating the darkness of the void.And in their death, they scatter the building blocks of life, seeding the cosmos with the raw materials from which new worlds will one day arise.Throughout the ages, civilizations have gazed upon the stars with wonder and awe, seeking to unlock the secrets of the universe.And though the cosmos may seem vast and unknowable, it is also a place of boundless possibility, where the dreams of humanity can take flight and soar among the stars.In this vast celestial expanse, the wonders of the universe await discovery, beckoning explorers to journey beyond the confines of their world and into the unknown depths of space.From distant galaxies to the smallest subatomic particles, the cosmos is a playground of infinite diversity, offering endless opportunities for exploration and discovery.And as humanity ventures further into the cosmos, new mysteries and wonders await, challenging our understanding of the universe and our place within it.For in the grand tapestry of the cosmos, every star, planet, and galaxy has a story to tell, a history written in the language of physics and mathematics.And as we unravel these mysteries, we come to understand not only the nature of the universe, but also ourselves, and our place within the vastness of creation.\""
            ],
            "application/vnd.google.colaboratory.intrinsic+json": {
              "type": "string"
            }
          },
          "metadata": {},
          "execution_count": 18
        }
      ]
    },
    {
      "cell_type": "code",
      "source": [
        "output_stream"
      ],
      "metadata": {
        "colab": {
          "base_uri": "https://localhost:8080/",
          "height": 143
        },
        "id": "x95v7k7dWb8z",
        "outputId": "04b4b613-519d-402b-ce6b-ac00ae4c87ad"
      },
      "execution_count": 19,
      "outputs": [
        {
          "output_type": "execute_result",
          "data": {
            "text/plain": [
              "\"In the vast expanse of the universe, among countless stars and galaxies that stretch beyond the limits of imagination, there exists a tapestry of wonder and mystery.Within this cosmic blanket, celestial bodies dance to the rhythm of gravity's embrace, weaving intricate patterns on the velvet canvas of space.The blobs are surrounded by colors not seen on Earth, their abstract beauty catching the eye of distant observers.The planets, each a world unto themselves, orbit their parent stars in a delicate ballet of speed and time.The moon, silent watchman in the night sky, silently watches over its planetary companion with vigilance.Comets orbit in the dark, traveling through the cold depths of space, leaving behind traces of stellar dust.Asteroids, remnants of ancient collisions, flow silently through the void, silent witnesses to the turbulent history of the universe.Deep in the universe, black holes lurk like space predators, their gravity force eating away at anything that dares to get too close.But amid the chaos and violence of the universe, there is a rare beauty, a harmony that transcends the boundaries of time and space.Stars are born in bursts of light and energy, their brilliance shining light into the darkness of nothingness.And in their deaths, they scatter the building blocks of life, sowing the universe with raw materials that will one day give birth to new worlds.For centuries, civilizations have looked up at the stars with wonder and awe, trying to unlock the mysteries of the universe.And although the universe may seem vast and unknown, it is also a place of infinite possibilities, where humanity's dreams can fly and fly among the stars.In this vast sky, the wonders of the universe await discovery, inviting explorers to travel beyond the confines of their world and into the unknown depths of space.From distant galaxies to the smallest subatomic particles, the universe is a playground of infinite diversity, offering endless opportunities for exploration and discovery.And as mankind advances into the universe, new mysteries and wonders await, challenging our understanding of the universe and our place within it.Because in the vast tapestry of the universe, every star, planet and galaxy has a story, a history written in the language of physics and mathematics.And as we unravel these mysteries, we understand not only the nature of the universe, but also ourselves, and our place in the vastness of creation.\""
            ],
            "application/vnd.google.colaboratory.intrinsic+json": {
              "type": "string"
            }
          },
          "metadata": {},
          "execution_count": 19
        }
      ]
    },
    {
      "cell_type": "code",
      "execution_count": 22,
      "metadata": {
        "colab": {
          "base_uri": "https://localhost:8080/"
        },
        "id": "zTHIs5HCrUE8",
        "outputId": "c3e7fe9b-402c-48c4-e6fc-51df536545a0"
      },
      "outputs": [
        {
          "output_type": "stream",
          "name": "stdout",
          "text": [
            "In the vast expanse of the cosmos, among the countless stars and galaxies that stretch beyond the reaches of imagination, there exists a tapestry of wonder and mystery.Within this cosmic quilt, celestial bodies dance to the rhythm of gravity's embrace, weaving intricate patterns across the velvet canvas of space.Nebulas swirl with colors unseen on Earth, their ethereal beauty captivating the gaze of distant observers.Planets, each a world unto itself, orbit their parent stars in a delicate ballet of motion and time.Moons, silent sentinels in the night sky, watch over their planetary companions with quiet vigilance.Comets streak through the darkness, leaving trails of stardust in their wake as they journey through the cold depths of space.Asteroids, remnants of ancient collisions, drift silently through the void, silent witnesses to the tumultuous history of the cosmos.In the depths of the cosmos, black holes lurk like cosmic predators, their gravitational pull devouring everything that dares to venture too close.But amidst the chaos and violence of the cosmos, there exists a rare beauty, a harmony that transcends the boundaries of time and space.Stars are born in fiery explosions of light and energy, their radiance illuminating the darkness of the void.And in their death, they scatter the building blocks of life, seeding the cosmos with the raw materials from which new worlds will one day arise.Throughout the ages, civilizations have gazed upon the stars with wonder and awe, seeking to unlock the secrets of the universe.And though the cosmos may seem vast and unknowable, it is also a place of boundless possibility, where the dreams of humanity can take flight and soar among the stars.In this vast celestial expanse, the wonders of the universe await discovery, beckoning explorers to journey beyond the confines of their world and into the unknown depths of space.From distant galaxies to the smallest subatomic particles, the cosmos is a playground of infinite diversity, offering endless opportunities for exploration and discovery.And as humanity ventures further into the cosmos, new mysteries and wonders await, challenging our understanding of the universe and our place within it.For in the grand tapestry of the cosmos, every star, planet, and galaxy has a story to tell, a history written in the language of physics and mathematics.And as we unravel these mysteries, we come to understand not only the nature of the universe, but also ourselves, and our place within the vastness of creation.\n",
            "\n",
            "In the vast expanse of the universe, among countless stars and galaxies that stretch beyond the limits of imagination, there exists a tapestry of wonder and mystery.Within this cosmic blanket, celestial bodies dance to the rhythm of gravity's embrace, weaving intricate patterns on the velvet canvas of space.The blobs are surrounded by colors not seen on Earth, their abstract beauty catching the eye of distant observers.The planets, each a world unto themselves, orbit their parent stars in a delicate ballet of speed and time.The moon, silent watchman in the night sky, silently watches over its planetary companion with vigilance.Comets orbit in the dark, traveling through the cold depths of space, leaving behind traces of stellar dust.Asteroids, remnants of ancient collisions, flow silently through the void, silent witnesses to the turbulent history of the universe.Deep in the universe, black holes lurk like space predators, their gravity force eating away at anything that dares to get too close.But amid the chaos and violence of the universe, there is a rare beauty, a harmony that transcends the boundaries of time and space.Stars are born in bursts of light and energy, their brilliance shining light into the darkness of nothingness.And in their deaths, they scatter the building blocks of life, sowing the universe with raw materials that will one day give birth to new worlds.For centuries, civilizations have looked up at the stars with wonder and awe, trying to unlock the mysteries of the universe.And although the universe may seem vast and unknown, it is also a place of infinite possibilities, where humanity's dreams can fly and fly among the stars.In this vast sky, the wonders of the universe await discovery, inviting explorers to travel beyond the confines of their world and into the unknown depths of space.From distant galaxies to the smallest subatomic particles, the universe is a playground of infinite diversity, offering endless opportunities for exploration and discovery.And as mankind advances into the universe, new mysteries and wonders await, challenging our understanding of the universe and our place within it.Because in the vast tapestry of the universe, every star, planet and galaxy has a story, a history written in the language of physics and mathematics.And as we unravel these mysteries, we understand not only the nature of the universe, but also ourselves, and our place in the vastness of creation.\n",
            "0.54915\n",
            "0.96228\n",
            "16.79286\n"
          ]
        }
      ],
      "source": [
        "get()\n",
        "\n",
        "metric = Evaluate()\n",
        "\n",
        "print(metric.jaccard_similarity(input_stream, output_stream))\n",
        "print(metric.cosine_similarity(input_stream, output_stream))\n",
        "print(metric.eucledian_distance(input_stream, output_stream))"
      ]
    },
    {
      "cell_type": "code",
      "execution_count": 23,
      "metadata": {
        "colab": {
          "base_uri": "https://localhost:8080/",
          "height": 472
        },
        "id": "H01Zd6V6xl-y",
        "outputId": "60c4f563-e034-4fa5-b320-c390ffb24a65"
      },
      "outputs": [
        {
          "output_type": "display_data",
          "data": {
            "text/plain": [
              "<Figure size 640x480 with 1 Axes>"
            ],
            "image/png": "[encoded data removed]"
          },
          "metadata": {}
        }
      ],
      "source": [
        "import matplotlib.pyplot as plt\n",
        "\n",
        "plt.scatter(input_size, conversion_time, marker='o')\n",
        "\n",
        "plt.xlabel('word length')\n",
        "plt.ylabel('seconds')\n",
        "plt.title('LLM inference time')\n",
        "\n",
        "plt.show()"
      ]
    },
    {
      "cell_type": "code",
      "execution_count": 24,
      "metadata": {
        "colab": {
          "base_uri": "https://localhost:8080/"
        },
        "id": "XSn0f0pxPzbW",
        "outputId": "482d9db6-2057-46d8-a6f2-9925a322ed8b"
      },
      "outputs": [
        {
          "output_type": "stream",
          "name": "stdout",
          "text": [
            "original text\n",
            "In the vast expanse of the cosmos, among the countless stars and galaxies that stretch beyond the reaches of imagination, there exists a tapestry of wonder and mystery.\n",
            "Within this cosmic quilt, celestial bodies dance to the rhythm of gravity's embrace, weaving intricate patterns across the velvet canvas of space.\n",
            "Nebulas swirl with colors unseen on Earth, their ethereal beauty captivating the gaze of distant observers.\n",
            "Planets, each a world unto itself, orbit their parent stars in a delicate ballet of motion and time.\n",
            "Moons, silent sentinels in the night sky, watch over their planetary companions with quiet vigilance.\n",
            "Comets streak through the darkness, leaving trails of stardust in their wake as they journey through the cold depths of space.\n",
            "Asteroids, remnants of ancient collisions, drift silently through the void, silent witnesses to the tumultuous history of the cosmos.\n",
            "In the depths of the cosmos, black holes lurk like cosmic predators, their gravitational pull devouring everything that dares to venture too close.\n",
            "But amidst the chaos and violence of the cosmos, there exists a rare beauty, a harmony that transcends the boundaries of time and space.\n",
            "Stars are born in fiery explosions of light and energy, their radiance illuminating the darkness of the void.\n",
            "And in their death, they scatter the building blocks of life, seeding the cosmos with the raw materials from which new worlds will one day arise.\n",
            "Throughout the ages, civilizations have gazed upon the stars with wonder and awe, seeking to unlock the secrets of the universe.\n",
            "And though the cosmos may seem vast and unknowable, it is also a place of boundless possibility, where the dreams of humanity can take flight and soar among the stars.\n",
            "In this vast celestial expanse, the wonders of the universe await discovery, beckoning explorers to journey beyond the confines of their world and into the unknown depths of space.\n",
            "From distant galaxies to the smallest subatomic particles, the cosmos is a playground of infinite diversity, offering endless opportunities for exploration and discovery.\n",
            "And as humanity ventures further into the cosmos, new mysteries and wonders await, challenging our understanding of the universe and our place within it.\n",
            "For in the grand tapestry of the cosmos, every star, planet, and galaxy has a story to tell, a history written in the language of physics and mathematics.\n",
            "And as we unravel these mysteries, we come to understand not only the nature of the universe, but also ourselves, and our place within the vastness of creation.\n",
            "\n",
            "\n",
            "\n",
            "\n",
            "translated text\n",
            "In the vast expanse of the universe, among countless stars and galaxies that stretch beyond the limits of imagination, there exists a tapestry of wonder and mystery.\n",
            "Within this cosmic blanket, celestial bodies dance to the rhythm of gravity's embrace, weaving intricate patterns on the velvet canvas of space.\n",
            "The blobs are surrounded by colors not seen on Earth, their abstract beauty catching the eye of distant observers.\n",
            "The planets, each a world unto themselves, orbit their parent stars in a delicate ballet of speed and time.\n",
            "The moon, silent watchman in the night sky, silently watches over its planetary companion with vigilance.\n",
            "Comets orbit in the dark, traveling through the cold depths of space, leaving behind traces of stellar dust.\n",
            "Asteroids, remnants of ancient collisions, flow silently through the void, silent witnesses to the turbulent history of the universe.\n",
            "Deep in the universe, black holes lurk like space predators, their gravity force eating away at anything that dares to get too close.\n",
            "But amid the chaos and violence of the universe, there is a rare beauty, a harmony that transcends the boundaries of time and space.\n",
            "Stars are born in bursts of light and energy, their brilliance shining light into the darkness of nothingness.\n",
            "And in their deaths, they scatter the building blocks of life, sowing the universe with raw materials that will one day give birth to new worlds.\n",
            "For centuries, civilizations have looked up at the stars with wonder and awe, trying to unlock the mysteries of the universe.\n",
            "And although the universe may seem vast and unknown, it is also a place of infinite possibilities, where humanity's dreams can fly and fly among the stars.\n",
            "In this vast sky, the wonders of the universe await discovery, inviting explorers to travel beyond the confines of their world and into the unknown depths of space.\n",
            "From distant galaxies to the smallest subatomic particles, the universe is a playground of infinite diversity, offering endless opportunities for exploration and discovery.\n",
            "And as mankind advances into the universe, new mysteries and wonders await, challenging our understanding of the universe and our place within it.\n",
            "Because in the vast tapestry of the universe, every star, planet and galaxy has a story, a history written in the language of physics and mathematics.\n",
            "And as we unravel these mysteries, we understand not only the nature of the universe, but also ourselves, and our place in the vastness of creation.\n"
          ]
        }
      ],
      "source": [
        "print(\"original text\")\n",
        "! cat dataset.txt\n",
        "\n",
        "print(\"\\n\\n\\n\")\n",
        "print(\"translated text\")\n",
        "! cat output-00000-of-00001.txt"
      ]
    },
    {
      "cell_type": "code",
      "execution_count": 16,
      "metadata": {
        "colab": {
          "base_uri": "https://localhost:8080/"
        },
        "id": "uwYfaYS6fJbk",
        "outputId": "0aedabad-3f97-4e0a-e360-a7bd70ebc8b0"
      },
      "outputs": [
        {
          "output_type": "stream",
          "name": "stdout",
          "text": [
            "beam-temp-output-3516f8e80a7d11ef830b0242ac1c000c  drive\t\t      sample_data\n",
            "beam-temp-output-6248657a0a7f11ef830b0242ac1c000c  MultiLingualTranslation\n",
            "dataset.txt\t\t\t\t\t   output-00000-of-00001.txt\n",
            "/content\n"
          ]
        }
      ],
      "source": [
        "! ls\n",
        "! pwd"
      ]
    },
    {
      "cell_type": "code",
      "source": [],
      "metadata": {
        "id": "769I5mZWG5LN"
      },
      "execution_count": 27,
      "outputs": []
    },
    {
      "cell_type": "code",
      "source": [],
      "metadata": {
        "id": "e5LLAXcqHADd"
      },
      "execution_count": null,
      "outputs": []
    }
  ],
  "metadata": {
    "colab": {
      "provenance": [],
      "include_colab_link": true
    },
    "kernelspec": {
      "display_name": "Python 3",
      "language": "python",
      "name": "python3"
    },
    "language_info": {
      "codemirror_mode": {
        "name": "ipython",
        "version": 3
      },
      "file_extension": ".py",
      "mimetype": "text/x-python",
      "name": "python",
      "nbconvert_exporter": "python",
      "pygments_lexer": "ipython3",
      "version": "3.7.12"
    },
    "widgets": {
      "application/vnd.jupyter.widget-state+json": {
        "8f37e9ff1c454b05bcab2f7443c22a2c": {
          "model_module": "@jupyter-widgets/controls",
          "model_name": "HBoxModel",
          "model_module_version": "1.5.0",
          "state": {
            "_dom_classes": [],
            "_model_module": "@jupyter-widgets/controls",
            "_model_module_version": "1.5.0",
            "_model_name": "HBoxModel",
            "_view_count": null,
            "_view_module": "@jupyter-widgets/controls",
            "_view_module_version": "1.5.0",
            "_view_name": "HBoxView",
            "box_style": "",
            "children": [
              "IPY_MODEL_83c044f5f74f4cbabbf49ff562c52ce3",
              "IPY_MODEL_1dcaa81e8d554fdd8dc039589c8e4a96",
              "IPY_MODEL_d37970f84ab942fd95af24ceea3e1fa5"
            ],
            "layout": "IPY_MODEL_eb527e61fefc4b26a1cd80420779abbc"
          }
        },
        "83c044f5f74f4cbabbf49ff562c52ce3": {
          "model_module": "@jupyter-widgets/controls",
          "model_name": "HTMLModel",
          "model_module_version": "1.5.0",
          "state": {
            "_dom_classes": [],
            "_model_module": "@jupyter-widgets/controls",
            "_model_module_version": "1.5.0",
            "_model_name": "HTMLModel",
            "_view_count": null,
            "_view_module": "@jupyter-widgets/controls",
            "_view_module_version": "1.5.0",
            "_view_name": "HTMLView",
            "description": "",
            "description_tooltip": null,
            "layout": "IPY_MODEL_f9c9057121ef47b380af7c7fa7fd472e",
            "placeholder": "​",
            "style": "IPY_MODEL_be04cb4c603d48389a496f9622a4e0dc",
            "value": "config.json: 100%"
          }
        },
        "1dcaa81e8d554fdd8dc039589c8e4a96": {
          "model_module": "@jupyter-widgets/controls",
          "model_name": "FloatProgressModel",
          "model_module_version": "1.5.0",
          "state": {
            "_dom_classes": [],
            "_model_module": "@jupyter-widgets/controls",
            "_model_module_version": "1.5.0",
            "_model_name": "FloatProgressModel",
            "_view_count": null,
            "_view_module": "@jupyter-widgets/controls",
            "_view_module_version": "1.5.0",
            "_view_name": "ProgressView",
            "bar_style": "success",
            "description": "",
            "description_tooltip": null,
            "layout": "IPY_MODEL_56df267e937041399c521c7389051b01",
            "max": 808,
            "min": 0,
            "orientation": "horizontal",
            "style": "IPY_MODEL_5e8e1855bbc141bf9ec6adda93d130b7",
            "value": 808
          }
        },
        "d37970f84ab942fd95af24ceea3e1fa5": {
          "model_module": "@jupyter-widgets/controls",
          "model_name": "HTMLModel",
          "model_module_version": "1.5.0",
          "state": {
            "_dom_classes": [],
            "_model_module": "@jupyter-widgets/controls",
            "_model_module_version": "1.5.0",
            "_model_name": "HTMLModel",
            "_view_count": null,
            "_view_module": "@jupyter-widgets/controls",
            "_view_module_version": "1.5.0",
            "_view_name": "HTMLView",
            "description": "",
            "description_tooltip": null,
            "layout": "IPY_MODEL_f41d894573be4f9ebfac718a35c169da",
            "placeholder": "​",
            "style": "IPY_MODEL_de20a53960864d4da75a1d77b1acd716",
            "value": " 808/808 [00:00&lt;00:00, 31.8kB/s]"
          }
        },
        "eb527e61fefc4b26a1cd80420779abbc": {
          "model_module": "@jupyter-widgets/base",
          "model_name": "LayoutModel",
          "model_module_version": "1.2.0",
          "state": {
            "_model_module": "@jupyter-widgets/base",
            "_model_module_version": "1.2.0",
            "_model_name": "LayoutModel",
            "_view_count": null,
            "_view_module": "@jupyter-widgets/base",
            "_view_module_version": "1.2.0",
            "_view_name": "LayoutView",
            "align_content": null,
            "align_items": null,
            "align_self": null,
            "border": null,
            "bottom": null,
            "display": null,
            "flex": null,
            "flex_flow": null,
            "grid_area": null,
            "grid_auto_columns": null,
            "grid_auto_flow": null,
            "grid_auto_rows": null,
            "grid_column": null,
            "grid_gap": null,
            "grid_row": null,
            "grid_template_areas": null,
            "grid_template_columns": null,
            "grid_template_rows": null,
            "height": null,
            "justify_content": null,
            "justify_items": null,
            "left": null,
            "margin": null,
            "max_height": null,
            "max_width": null,
            "min_height": null,
            "min_width": null,
            "object_fit": null,
            "object_position": null,
            "order": null,
            "overflow": null,
            "overflow_x": null,
            "overflow_y": null,
            "padding": null,
            "right": null,
            "top": null,
            "visibility": null,
            "width": null
          }
        },
        "f9c9057121ef47b380af7c7fa7fd472e": {
          "model_module": "@jupyter-widgets/base",
          "model_name": "LayoutModel",
          "model_module_version": "1.2.0",
          "state": {
            "_model_module": "@jupyter-widgets/base",
            "_model_module_version": "1.2.0",
            "_model_name": "LayoutModel",
            "_view_count": null,
            "_view_module": "@jupyter-widgets/base",
            "_view_module_version": "1.2.0",
            "_view_name": "LayoutView",
            "align_content": null,
            "align_items": null,
            "align_self": null,
            "border": null,
            "bottom": null,
            "display": null,
            "flex": null,
            "flex_flow": null,
            "grid_area": null,
            "grid_auto_columns": null,
            "grid_auto_flow": null,
            "grid_auto_rows": null,
            "grid_column": null,
            "grid_gap": null,
            "grid_row": null,
            "grid_template_areas": null,
            "grid_template_columns": null,
            "grid_template_rows": null,
            "height": null,
            "justify_content": null,
            "justify_items": null,
            "left": null,
            "margin": null,
            "max_height": null,
            "max_width": null,
            "min_height": null,
            "min_width": null,
            "object_fit": null,
            "object_position": null,
            "order": null,
            "overflow": null,
            "overflow_x": null,
            "overflow_y": null,
            "padding": null,
            "right": null,
            "top": null,
            "visibility": null,
            "width": null
          }
        },
        "be04cb4c603d48389a496f9622a4e0dc": {
          "model_module": "@jupyter-widgets/controls",
          "model_name": "DescriptionStyleModel",
          "model_module_version": "1.5.0",
          "state": {
            "_model_module": "@jupyter-widgets/controls",
            "_model_module_version": "1.5.0",
            "_model_name": "DescriptionStyleModel",
            "_view_count": null,
            "_view_module": "@jupyter-widgets/base",
            "_view_module_version": "1.2.0",
            "_view_name": "StyleView",
            "description_width": ""
          }
        },
        "56df267e937041399c521c7389051b01": {
          "model_module": "@jupyter-widgets/base",
          "model_name": "LayoutModel",
          "model_module_version": "1.2.0",
          "state": {
            "_model_module": "@jupyter-widgets/base",
            "_model_module_version": "1.2.0",
            "_model_name": "LayoutModel",
            "_view_count": null,
            "_view_module": "@jupyter-widgets/base",
            "_view_module_version": "1.2.0",
            "_view_name": "LayoutView",
            "align_content": null,
            "align_items": null,
            "align_self": null,
            "border": null,
            "bottom": null,
            "display": null,
            "flex": null,
            "flex_flow": null,
            "grid_area": null,
            "grid_auto_columns": null,
            "grid_auto_flow": null,
            "grid_auto_rows": null,
            "grid_column": null,
            "grid_gap": null,
            "grid_row": null,
            "grid_template_areas": null,
            "grid_template_columns": null,
            "grid_template_rows": null,
            "height": null,
            "justify_content": null,
            "justify_items": null,
            "left": null,
            "margin": null,
            "max_height": null,
            "max_width": null,
            "min_height": null,
            "min_width": null,
            "object_fit": null,
            "object_position": null,
            "order": null,
            "overflow": null,
            "overflow_x": null,
            "overflow_y": null,
            "padding": null,
            "right": null,
            "top": null,
            "visibility": null,
            "width": null
          }
        },
        "5e8e1855bbc141bf9ec6adda93d130b7": {
          "model_module": "@jupyter-widgets/controls",
          "model_name": "ProgressStyleModel",
          "model_module_version": "1.5.0",
          "state": {
            "_model_module": "@jupyter-widgets/controls",
            "_model_module_version": "1.5.0",
            "_model_name": "ProgressStyleModel",
            "_view_count": null,
            "_view_module": "@jupyter-widgets/base",
            "_view_module_version": "1.2.0",
            "_view_name": "StyleView",
            "bar_color": null,
            "description_width": ""
          }
        },
        "f41d894573be4f9ebfac718a35c169da": {
          "model_module": "@jupyter-widgets/base",
          "model_name": "LayoutModel",
          "model_module_version": "1.2.0",
          "state": {
            "_model_module": "@jupyter-widgets/base",
            "_model_module_version": "1.2.0",
            "_model_name": "LayoutModel",
            "_view_count": null,
            "_view_module": "@jupyter-widgets/base",
            "_view_module_version": "1.2.0",
            "_view_name": "LayoutView",
            "align_content": null,
            "align_items": null,
            "align_self": null,
            "border": null,
            "bottom": null,
            "display": null,
            "flex": null,
            "flex_flow": null,
            "grid_area": null,
            "grid_auto_columns": null,
            "grid_auto_flow": null,
            "grid_auto_rows": null,
            "grid_column": null,
            "grid_gap": null,
            "grid_row": null,
            "grid_template_areas": null,
            "grid_template_columns": null,
            "grid_template_rows": null,
            "height": null,
            "justify_content": null,
            "justify_items": null,
            "left": null,
            "margin": null,
            "max_height": null,
            "max_width": null,
            "min_height": null,
            "min_width": null,
            "object_fit": null,
            "object_position": null,
            "order": null,
            "overflow": null,
            "overflow_x": null,
            "overflow_y": null,
            "padding": null,
            "right": null,
            "top": null,
            "visibility": null,
            "width": null
          }
        },
        "de20a53960864d4da75a1d77b1acd716": {
          "model_module": "@jupyter-widgets/controls",
          "model_name": "DescriptionStyleModel",
          "model_module_version": "1.5.0",
          "state": {
            "_model_module": "@jupyter-widgets/controls",
            "_model_module_version": "1.5.0",
            "_model_name": "DescriptionStyleModel",
            "_view_count": null,
            "_view_module": "@jupyter-widgets/base",
            "_view_module_version": "1.2.0",
            "_view_name": "StyleView",
            "description_width": ""
          }
        },
        "f7c8f15d13e5451ebfefdda978808261": {
          "model_module": "@jupyter-widgets/controls",
          "model_name": "HBoxModel",
          "model_module_version": "1.5.0",
          "state": {
            "_dom_classes": [],
            "_model_module": "@jupyter-widgets/controls",
            "_model_module_version": "1.5.0",
            "_model_name": "HBoxModel",
            "_view_count": null,
            "_view_module": "@jupyter-widgets/controls",
            "_view_module_version": "1.5.0",
            "_view_name": "HBoxView",
            "box_style": "",
            "children": [
              "IPY_MODEL_944cb470b8f04ba69d90762acd3db669",
              "IPY_MODEL_ba29085181554fd5b117a0cbd7da5fe1",
              "IPY_MODEL_04e5f70872aa448ebf10bb3d067c25ae"
            ],
            "layout": "IPY_MODEL_253f39d19e22477ba6ee74f54030ba47"
          }
        },
        "944cb470b8f04ba69d90762acd3db669": {
          "model_module": "@jupyter-widgets/controls",
          "model_name": "HTMLModel",
          "model_module_version": "1.5.0",
          "state": {
            "_dom_classes": [],
            "_model_module": "@jupyter-widgets/controls",
            "_model_module_version": "1.5.0",
            "_model_name": "HTMLModel",
            "_view_count": null,
            "_view_module": "@jupyter-widgets/controls",
            "_view_module_version": "1.5.0",
            "_view_name": "HTMLView",
            "description": "",
            "description_tooltip": null,
            "layout": "IPY_MODEL_9419bde5d3884f5d9aa0fbeaad4d6adf",
            "placeholder": "​",
            "style": "IPY_MODEL_857255c978274c7ea14a86c20ce22234",
            "value": "pytorch_model.bin: 100%"
          }
        },
        "ba29085181554fd5b117a0cbd7da5fe1": {
          "model_module": "@jupyter-widgets/controls",
          "model_name": "FloatProgressModel",
          "model_module_version": "1.5.0",
          "state": {
            "_dom_classes": [],
            "_model_module": "@jupyter-widgets/controls",
            "_model_module_version": "1.5.0",
            "_model_name": "FloatProgressModel",
            "_view_count": null,
            "_view_module": "@jupyter-widgets/controls",
            "_view_module_version": "1.5.0",
            "_view_name": "ProgressView",
            "bar_style": "success",
            "description": "",
            "description_tooltip": null,
            "layout": "IPY_MODEL_146f5937496c42a1ba27d69d2d0b8753",
            "max": 5482882236,
            "min": 0,
            "orientation": "horizontal",
            "style": "IPY_MODEL_86726fa57a0e415cb529b977f8d6d5a1",
            "value": 5482882236
          }
        },
        "04e5f70872aa448ebf10bb3d067c25ae": {
          "model_module": "@jupyter-widgets/controls",
          "model_name": "HTMLModel",
          "model_module_version": "1.5.0",
          "state": {
            "_dom_classes": [],
            "_model_module": "@jupyter-widgets/controls",
            "_model_module_version": "1.5.0",
            "_model_name": "HTMLModel",
            "_view_count": null,
            "_view_module": "@jupyter-widgets/controls",
            "_view_module_version": "1.5.0",
            "_view_name": "HTMLView",
            "description": "",
            "description_tooltip": null,
            "layout": "IPY_MODEL_95dd34c945554546aa909a060c43dc05",
            "placeholder": "​",
            "style": "IPY_MODEL_dec4640d798d48cb831e6da6d0bb7e77",
            "value": " 5.48G/5.48G [00:55&lt;00:00, 162MB/s]"
          }
        },
        "253f39d19e22477ba6ee74f54030ba47": {
          "model_module": "@jupyter-widgets/base",
          "model_name": "LayoutModel",
          "model_module_version": "1.2.0",
          "state": {
            "_model_module": "@jupyter-widgets/base",
            "_model_module_version": "1.2.0",
            "_model_name": "LayoutModel",
            "_view_count": null,
            "_view_module": "@jupyter-widgets/base",
            "_view_module_version": "1.2.0",
            "_view_name": "LayoutView",
            "align_content": null,
            "align_items": null,
            "align_self": null,
            "border": null,
            "bottom": null,
            "display": null,
            "flex": null,
            "flex_flow": null,
            "grid_area": null,
            "grid_auto_columns": null,
            "grid_auto_flow": null,
            "grid_auto_rows": null,
            "grid_column": null,
            "grid_gap": null,
            "grid_row": null,
            "grid_template_areas": null,
            "grid_template_columns": null,
            "grid_template_rows": null,
            "height": null,
            "justify_content": null,
            "justify_items": null,
            "left": null,
            "margin": null,
            "max_height": null,
            "max_width": null,
            "min_height": null,
            "min_width": null,
            "object_fit": null,
            "object_position": null,
            "order": null,
            "overflow": null,
            "overflow_x": null,
            "overflow_y": null,
            "padding": null,
            "right": null,
            "top": null,
            "visibility": null,
            "width": null
          }
        },
        "9419bde5d3884f5d9aa0fbeaad4d6adf": {
          "model_module": "@jupyter-widgets/base",
          "model_name": "LayoutModel",
          "model_module_version": "1.2.0",
          "state": {
            "_model_module": "@jupyter-widgets/base",
            "_model_module_version": "1.2.0",
            "_model_name": "LayoutModel",
            "_view_count": null,
            "_view_module": "@jupyter-widgets/base",
            "_view_module_version": "1.2.0",
            "_view_name": "LayoutView",
            "align_content": null,
            "align_items": null,
            "align_self": null,
            "border": null,
            "bottom": null,
            "display": null,
            "flex": null,
            "flex_flow": null,
            "grid_area": null,
            "grid_auto_columns": null,
            "grid_auto_flow": null,
            "grid_auto_rows": null,
            "grid_column": null,
            "grid_gap": null,
            "grid_row": null,
            "grid_template_areas": null,
            "grid_template_columns": null,
            "grid_template_rows": null,
            "height": null,
            "justify_content": null,
            "justify_items": null,
            "left": null,
            "margin": null,
            "max_height": null,
            "max_width": null,
            "min_height": null,
            "min_width": null,
            "object_fit": null,
            "object_position": null,
            "order": null,
            "overflow": null,
            "overflow_x": null,
            "overflow_y": null,
            "padding": null,
            "right": null,
            "top": null,
            "visibility": null,
            "width": null
          }
        },
        "857255c978274c7ea14a86c20ce22234": {
          "model_module": "@jupyter-widgets/controls",
          "model_name": "DescriptionStyleModel",
          "model_module_version": "1.5.0",
          "state": {
            "_model_module": "@jupyter-widgets/controls",
            "_model_module_version": "1.5.0",
            "_model_name": "DescriptionStyleModel",
            "_view_count": null,
            "_view_module": "@jupyter-widgets/base",
            "_view_module_version": "1.2.0",
            "_view_name": "StyleView",
            "description_width": ""
          }
        },
        "146f5937496c42a1ba27d69d2d0b8753": {
          "model_module": "@jupyter-widgets/base",
          "model_name": "LayoutModel",
          "model_module_version": "1.2.0",
          "state": {
            "_model_module": "@jupyter-widgets/base",
            "_model_module_version": "1.2.0",
            "_model_name": "LayoutModel",
            "_view_count": null,
            "_view_module": "@jupyter-widgets/base",
            "_view_module_version": "1.2.0",
            "_view_name": "LayoutView",
            "align_content": null,
            "align_items": null,
            "align_self": null,
            "border": null,
            "bottom": null,
            "display": null,
            "flex": null,
            "flex_flow": null,
            "grid_area": null,
            "grid_auto_columns": null,
            "grid_auto_flow": null,
            "grid_auto_rows": null,
            "grid_column": null,
            "grid_gap": null,
            "grid_row": null,
            "grid_template_areas": null,
            "grid_template_columns": null,
            "grid_template_rows": null,
            "height": null,
            "justify_content": null,
            "justify_items": null,
            "left": null,
            "margin": null,
            "max_height": null,
            "max_width": null,
            "min_height": null,
            "min_width": null,
            "object_fit": null,
            "object_position": null,
            "order": null,
            "overflow": null,
            "overflow_x": null,
            "overflow_y": null,
            "padding": null,
            "right": null,
            "top": null,
            "visibility": null,
            "width": null
          }
        },
        "86726fa57a0e415cb529b977f8d6d5a1": {
          "model_module": "@jupyter-widgets/controls",
          "model_name": "ProgressStyleModel",
          "model_module_version": "1.5.0",
          "state": {
            "_model_module": "@jupyter-widgets/controls",
            "_model_module_version": "1.5.0",
            "_model_name": "ProgressStyleModel",
            "_view_count": null,
            "_view_module": "@jupyter-widgets/base",
            "_view_module_version": "1.2.0",
            "_view_name": "StyleView",
            "bar_color": null,
            "description_width": ""
          }
        },
        "95dd34c945554546aa909a060c43dc05": {
          "model_module": "@jupyter-widgets/base",
          "model_name": "LayoutModel",
          "model_module_version": "1.2.0",
          "state": {
            "_model_module": "@jupyter-widgets/base",
            "_model_module_version": "1.2.0",
            "_model_name": "LayoutModel",
            "_view_count": null,
            "_view_module": "@jupyter-widgets/base",
            "_view_module_version": "1.2.0",
            "_view_name": "LayoutView",
            "align_content": null,
            "align_items": null,
            "align_self": null,
            "border": null,
            "bottom": null,
            "display": null,
            "flex": null,
            "flex_flow": null,
            "grid_area": null,
            "grid_auto_columns": null,
            "grid_auto_flow": null,
            "grid_auto_rows": null,
            "grid_column": null,
            "grid_gap": null,
            "grid_row": null,
            "grid_template_areas": null,
            "grid_template_columns": null,
            "grid_template_rows": null,
            "height": null,
            "justify_content": null,
            "justify_items": null,
            "left": null,
            "margin": null,
            "max_height": null,
            "max_width": null,
            "min_height": null,
            "min_width": null,
            "object_fit": null,
            "object_position": null,
            "order": null,
            "overflow": null,
            "overflow_x": null,
            "overflow_y": null,
            "padding": null,
            "right": null,
            "top": null,
            "visibility": null,
            "width": null
          }
        },
        "dec4640d798d48cb831e6da6d0bb7e77": {
          "model_module": "@jupyter-widgets/controls",
          "model_name": "DescriptionStyleModel",
          "model_module_version": "1.5.0",
          "state": {
            "_model_module": "@jupyter-widgets/controls",
            "_model_module_version": "1.5.0",
            "_model_name": "DescriptionStyleModel",
            "_view_count": null,
            "_view_module": "@jupyter-widgets/base",
            "_view_module_version": "1.2.0",
            "_view_name": "StyleView",
            "description_width": ""
          }
        },
        "fab7c87bc7564a7082cf31c5fcf33620": {
          "model_module": "@jupyter-widgets/controls",
          "model_name": "HBoxModel",
          "model_module_version": "1.5.0",
          "state": {
            "_dom_classes": [],
            "_model_module": "@jupyter-widgets/controls",
            "_model_module_version": "1.5.0",
            "_model_name": "HBoxModel",
            "_view_count": null,
            "_view_module": "@jupyter-widgets/controls",
            "_view_module_version": "1.5.0",
            "_view_name": "HBoxView",
            "box_style": "",
            "children": [
              "IPY_MODEL_c4fcd21df458486d8c9ac4ba2c341af9",
              "IPY_MODEL_e97f2d72f7ae4a5091819052405abbdc",
              "IPY_MODEL_3edbbc7748dc4fd6ac3b5f8c9e62cb29"
            ],
            "layout": "IPY_MODEL_4cac84e6572f4aafbea2191cae9574a2"
          }
        },
        "c4fcd21df458486d8c9ac4ba2c341af9": {
          "model_module": "@jupyter-widgets/controls",
          "model_name": "HTMLModel",
          "model_module_version": "1.5.0",
          "state": {
            "_dom_classes": [],
            "_model_module": "@jupyter-widgets/controls",
            "_model_module_version": "1.5.0",
            "_model_name": "HTMLModel",
            "_view_count": null,
            "_view_module": "@jupyter-widgets/controls",
            "_view_module_version": "1.5.0",
            "_view_name": "HTMLView",
            "description": "",
            "description_tooltip": null,
            "layout": "IPY_MODEL_c5228e052aa94c7bbf69e2295b48be67",
            "placeholder": "​",
            "style": "IPY_MODEL_2b0eea6e1b5f40b9839403e2a5906bf7",
            "value": "generation_config.json: 100%"
          }
        },
        "e97f2d72f7ae4a5091819052405abbdc": {
          "model_module": "@jupyter-widgets/controls",
          "model_name": "FloatProgressModel",
          "model_module_version": "1.5.0",
          "state": {
            "_dom_classes": [],
            "_model_module": "@jupyter-widgets/controls",
            "_model_module_version": "1.5.0",
            "_model_name": "FloatProgressModel",
            "_view_count": null,
            "_view_module": "@jupyter-widgets/controls",
            "_view_module_version": "1.5.0",
            "_view_name": "ProgressView",
            "bar_style": "success",
            "description": "",
            "description_tooltip": null,
            "layout": "IPY_MODEL_8a3385cd852f49a19499988b1fda628a",
            "max": 189,
            "min": 0,
            "orientation": "horizontal",
            "style": "IPY_MODEL_6df641d0712f4e139979a47c0a0fa55b",
            "value": 189
          }
        },
        "3edbbc7748dc4fd6ac3b5f8c9e62cb29": {
          "model_module": "@jupyter-widgets/controls",
          "model_name": "HTMLModel",
          "model_module_version": "1.5.0",
          "state": {
            "_dom_classes": [],
            "_model_module": "@jupyter-widgets/controls",
            "_model_module_version": "1.5.0",
            "_model_name": "HTMLModel",
            "_view_count": null,
            "_view_module": "@jupyter-widgets/controls",
            "_view_module_version": "1.5.0",
            "_view_name": "HTMLView",
            "description": "",
            "description_tooltip": null,
            "layout": "IPY_MODEL_fd8df3bfb77a4cab81a7050cfeaba455",
            "placeholder": "​",
            "style": "IPY_MODEL_cd81b6d6d637484084aecc0ea941578b",
            "value": " 189/189 [00:00&lt;00:00, 6.82kB/s]"
          }
        },
        "4cac84e6572f4aafbea2191cae9574a2": {
          "model_module": "@jupyter-widgets/base",
          "model_name": "LayoutModel",
          "model_module_version": "1.2.0",
          "state": {
            "_model_module": "@jupyter-widgets/base",
            "_model_module_version": "1.2.0",
            "_model_name": "LayoutModel",
            "_view_count": null,
            "_view_module": "@jupyter-widgets/base",
            "_view_module_version": "1.2.0",
            "_view_name": "LayoutView",
            "align_content": null,
            "align_items": null,
            "align_self": null,
            "border": null,
            "bottom": null,
            "display": null,
            "flex": null,
            "flex_flow": null,
            "grid_area": null,
            "grid_auto_columns": null,
            "grid_auto_flow": null,
            "grid_auto_rows": null,
            "grid_column": null,
            "grid_gap": null,
            "grid_row": null,
            "grid_template_areas": null,
            "grid_template_columns": null,
            "grid_template_rows": null,
            "height": null,
            "justify_content": null,
            "justify_items": null,
            "left": null,
            "margin": null,
            "max_height": null,
            "max_width": null,
            "min_height": null,
            "min_width": null,
            "object_fit": null,
            "object_position": null,
            "order": null,
            "overflow": null,
            "overflow_x": null,
            "overflow_y": null,
            "padding": null,
            "right": null,
            "top": null,
            "visibility": null,
            "width": null
          }
        },
        "c5228e052aa94c7bbf69e2295b48be67": {
          "model_module": "@jupyter-widgets/base",
          "model_name": "LayoutModel",
          "model_module_version": "1.2.0",
          "state": {
            "_model_module": "@jupyter-widgets/base",
            "_model_module_version": "1.2.0",
            "_model_name": "LayoutModel",
            "_view_count": null,
            "_view_module": "@jupyter-widgets/base",
            "_view_module_version": "1.2.0",
            "_view_name": "LayoutView",
            "align_content": null,
            "align_items": null,
            "align_self": null,
            "border": null,
            "bottom": null,
            "display": null,
            "flex": null,
            "flex_flow": null,
            "grid_area": null,
            "grid_auto_columns": null,
            "grid_auto_flow": null,
            "grid_auto_rows": null,
            "grid_column": null,
            "grid_gap": null,
            "grid_row": null,
            "grid_template_areas": null,
            "grid_template_columns": null,
            "grid_template_rows": null,
            "height": null,
            "justify_content": null,
            "justify_items": null,
            "left": null,
            "margin": null,
            "max_height": null,
            "max_width": null,
            "min_height": null,
            "min_width": null,
            "object_fit": null,
            "object_position": null,
            "order": null,
            "overflow": null,
            "overflow_x": null,
            "overflow_y": null,
            "padding": null,
            "right": null,
            "top": null,
            "visibility": null,
            "width": null
          }
        },
        "2b0eea6e1b5f40b9839403e2a5906bf7": {
          "model_module": "@jupyter-widgets/controls",
          "model_name": "DescriptionStyleModel",
          "model_module_version": "1.5.0",
          "state": {
            "_model_module": "@jupyter-widgets/controls",
            "_model_module_version": "1.5.0",
            "_model_name": "DescriptionStyleModel",
            "_view_count": null,
            "_view_module": "@jupyter-widgets/base",
            "_view_module_version": "1.2.0",
            "_view_name": "StyleView",
            "description_width": ""
          }
        },
        "8a3385cd852f49a19499988b1fda628a": {
          "model_module": "@jupyter-widgets/base",
          "model_name": "LayoutModel",
          "model_module_version": "1.2.0",
          "state": {
            "_model_module": "@jupyter-widgets/base",
            "_model_module_version": "1.2.0",
            "_model_name": "LayoutModel",
            "_view_count": null,
            "_view_module": "@jupyter-widgets/base",
            "_view_module_version": "1.2.0",
            "_view_name": "LayoutView",
            "align_content": null,
            "align_items": null,
            "align_self": null,
            "border": null,
            "bottom": null,
            "display": null,
            "flex": null,
            "flex_flow": null,
            "grid_area": null,
            "grid_auto_columns": null,
            "grid_auto_flow": null,
            "grid_auto_rows": null,
            "grid_column": null,
            "grid_gap": null,
            "grid_row": null,
            "grid_template_areas": null,
            "grid_template_columns": null,
            "grid_template_rows": null,
            "height": null,
            "justify_content": null,
            "justify_items": null,
            "left": null,
            "margin": null,
            "max_height": null,
            "max_width": null,
            "min_height": null,
            "min_width": null,
            "object_fit": null,
            "object_position": null,
            "order": null,
            "overflow": null,
            "overflow_x": null,
            "overflow_y": null,
            "padding": null,
            "right": null,
            "top": null,
            "visibility": null,
            "width": null
          }
        },
        "6df641d0712f4e139979a47c0a0fa55b": {
          "model_module": "@jupyter-widgets/controls",
          "model_name": "ProgressStyleModel",
          "model_module_version": "1.5.0",
          "state": {
            "_model_module": "@jupyter-widgets/controls",
            "_model_module_version": "1.5.0",
            "_model_name": "ProgressStyleModel",
            "_view_count": null,
            "_view_module": "@jupyter-widgets/base",
            "_view_module_version": "1.2.0",
            "_view_name": "StyleView",
            "bar_color": null,
            "description_width": ""
          }
        },
        "fd8df3bfb77a4cab81a7050cfeaba455": {
          "model_module": "@jupyter-widgets/base",
          "model_name": "LayoutModel",
          "model_module_version": "1.2.0",
          "state": {
            "_model_module": "@jupyter-widgets/base",
            "_model_module_version": "1.2.0",
            "_model_name": "LayoutModel",
            "_view_count": null,
            "_view_module": "@jupyter-widgets/base",
            "_view_module_version": "1.2.0",
            "_view_name": "LayoutView",
            "align_content": null,
            "align_items": null,
            "align_self": null,
            "border": null,
            "bottom": null,
            "display": null,
            "flex": null,
            "flex_flow": null,
            "grid_area": null,
            "grid_auto_columns": null,
            "grid_auto_flow": null,
            "grid_auto_rows": null,
            "grid_column": null,
            "grid_gap": null,
            "grid_row": null,
            "grid_template_areas": null,
            "grid_template_columns": null,
            "grid_template_rows": null,
            "height": null,
            "justify_content": null,
            "justify_items": null,
            "left": null,
            "margin": null,
            "max_height": null,
            "max_width": null,
            "min_height": null,
            "min_width": null,
            "object_fit": null,
            "object_position": null,
            "order": null,
            "overflow": null,
            "overflow_x": null,
            "overflow_y": null,
            "padding": null,
            "right": null,
            "top": null,
            "visibility": null,
            "width": null
          }
        },
        "cd81b6d6d637484084aecc0ea941578b": {
          "model_module": "@jupyter-widgets/controls",
          "model_name": "DescriptionStyleModel",
          "model_module_version": "1.5.0",
          "state": {
            "_model_module": "@jupyter-widgets/controls",
            "_model_module_version": "1.5.0",
            "_model_name": "DescriptionStyleModel",
            "_view_count": null,
            "_view_module": "@jupyter-widgets/base",
            "_view_module_version": "1.2.0",
            "_view_name": "StyleView",
            "description_width": ""
          }
        },
        "0290ccc8c6ee468b89bf5d70037f1e2f": {
          "model_module": "@jupyter-widgets/controls",
          "model_name": "HBoxModel",
          "model_module_version": "1.5.0",
          "state": {
            "_dom_classes": [],
            "_model_module": "@jupyter-widgets/controls",
            "_model_module_version": "1.5.0",
            "_model_name": "HBoxModel",
            "_view_count": null,
            "_view_module": "@jupyter-widgets/controls",
            "_view_module_version": "1.5.0",
            "_view_name": "HBoxView",
            "box_style": "",
            "children": [
              "IPY_MODEL_e65d49b6212948ffa3e5ba862ef514bd",
              "IPY_MODEL_49ca4e1898d64d5b98bbe6037bc7bd4e",
              "IPY_MODEL_272f45d96c194952b9f38de827b3a92e"
            ],
            "layout": "IPY_MODEL_d88f462bd4584a2b90cf2f95b025fafa"
          }
        },
        "e65d49b6212948ffa3e5ba862ef514bd": {
          "model_module": "@jupyter-widgets/controls",
          "model_name": "HTMLModel",
          "model_module_version": "1.5.0",
          "state": {
            "_dom_classes": [],
            "_model_module": "@jupyter-widgets/controls",
            "_model_module_version": "1.5.0",
            "_model_name": "HTMLModel",
            "_view_count": null,
            "_view_module": "@jupyter-widgets/controls",
            "_view_module_version": "1.5.0",
            "_view_name": "HTMLView",
            "description": "",
            "description_tooltip": null,
            "layout": "IPY_MODEL_78aa3f5989e44e1f82824c48358b00a9",
            "placeholder": "​",
            "style": "IPY_MODEL_cd3aaa55caa94382b31a34c47b766e5c",
            "value": "tokenizer_config.json: 100%"
          }
        },
        "49ca4e1898d64d5b98bbe6037bc7bd4e": {
          "model_module": "@jupyter-widgets/controls",
          "model_name": "FloatProgressModel",
          "model_module_version": "1.5.0",
          "state": {
            "_dom_classes": [],
            "_model_module": "@jupyter-widgets/controls",
            "_model_module_version": "1.5.0",
            "_model_name": "FloatProgressModel",
            "_view_count": null,
            "_view_module": "@jupyter-widgets/controls",
            "_view_module_version": "1.5.0",
            "_view_name": "ProgressView",
            "bar_style": "success",
            "description": "",
            "description_tooltip": null,
            "layout": "IPY_MODEL_ecf22eecf2554fb3ae926f5ae4e64092",
            "max": 564,
            "min": 0,
            "orientation": "horizontal",
            "style": "IPY_MODEL_fae4b80000a445ceb2d90b7e9d6ce98f",
            "value": 564
          }
        },
        "272f45d96c194952b9f38de827b3a92e": {
          "model_module": "@jupyter-widgets/controls",
          "model_name": "HTMLModel",
          "model_module_version": "1.5.0",
          "state": {
            "_dom_classes": [],
            "_model_module": "@jupyter-widgets/controls",
            "_model_module_version": "1.5.0",
            "_model_name": "HTMLModel",
            "_view_count": null,
            "_view_module": "@jupyter-widgets/controls",
            "_view_module_version": "1.5.0",
            "_view_name": "HTMLView",
            "description": "",
            "description_tooltip": null,
            "layout": "IPY_MODEL_4601882b563f4d13b244a5b8a3b8ae5b",
            "placeholder": "​",
            "style": "IPY_MODEL_056c5ce299934fbb849682d467012b8e",
            "value": " 564/564 [00:00&lt;00:00, 36.0kB/s]"
          }
        },
        "d88f462bd4584a2b90cf2f95b025fafa": {
          "model_module": "@jupyter-widgets/base",
          "model_name": "LayoutModel",
          "model_module_version": "1.2.0",
          "state": {
            "_model_module": "@jupyter-widgets/base",
            "_model_module_version": "1.2.0",
            "_model_name": "LayoutModel",
            "_view_count": null,
            "_view_module": "@jupyter-widgets/base",
            "_view_module_version": "1.2.0",
            "_view_name": "LayoutView",
            "align_content": null,
            "align_items": null,
            "align_self": null,
            "border": null,
            "bottom": null,
            "display": null,
            "flex": null,
            "flex_flow": null,
            "grid_area": null,
            "grid_auto_columns": null,
            "grid_auto_flow": null,
            "grid_auto_rows": null,
            "grid_column": null,
            "grid_gap": null,
            "grid_row": null,
            "grid_template_areas": null,
            "grid_template_columns": null,
            "grid_template_rows": null,
            "height": null,
            "justify_content": null,
            "justify_items": null,
            "left": null,
            "margin": null,
            "max_height": null,
            "max_width": null,
            "min_height": null,
            "min_width": null,
            "object_fit": null,
            "object_position": null,
            "order": null,
            "overflow": null,
            "overflow_x": null,
            "overflow_y": null,
            "padding": null,
            "right": null,
            "top": null,
            "visibility": null,
            "width": null
          }
        },
        "78aa3f5989e44e1f82824c48358b00a9": {
          "model_module": "@jupyter-widgets/base",
          "model_name": "LayoutModel",
          "model_module_version": "1.2.0",
          "state": {
            "_model_module": "@jupyter-widgets/base",
            "_model_module_version": "1.2.0",
            "_model_name": "LayoutModel",
            "_view_count": null,
            "_view_module": "@jupyter-widgets/base",
            "_view_module_version": "1.2.0",
            "_view_name": "LayoutView",
            "align_content": null,
            "align_items": null,
            "align_self": null,
            "border": null,
            "bottom": null,
            "display": null,
            "flex": null,
            "flex_flow": null,
            "grid_area": null,
            "grid_auto_columns": null,
            "grid_auto_flow": null,
            "grid_auto_rows": null,
            "grid_column": null,
            "grid_gap": null,
            "grid_row": null,
            "grid_template_areas": null,
            "grid_template_columns": null,
            "grid_template_rows": null,
            "height": null,
            "justify_content": null,
            "justify_items": null,
            "left": null,
            "margin": null,
            "max_height": null,
            "max_width": null,
            "min_height": null,
            "min_width": null,
            "object_fit": null,
            "object_position": null,
            "order": null,
            "overflow": null,
            "overflow_x": null,
            "overflow_y": null,
            "padding": null,
            "right": null,
            "top": null,
            "visibility": null,
            "width": null
          }
        },
        "cd3aaa55caa94382b31a34c47b766e5c": {
          "model_module": "@jupyter-widgets/controls",
          "model_name": "DescriptionStyleModel",
          "model_module_version": "1.5.0",
          "state": {
            "_model_module": "@jupyter-widgets/controls",
            "_model_module_version": "1.5.0",
            "_model_name": "DescriptionStyleModel",
            "_view_count": null,
            "_view_module": "@jupyter-widgets/base",
            "_view_module_version": "1.2.0",
            "_view_name": "StyleView",
            "description_width": ""
          }
        },
        "ecf22eecf2554fb3ae926f5ae4e64092": {
          "model_module": "@jupyter-widgets/base",
          "model_name": "LayoutModel",
          "model_module_version": "1.2.0",
          "state": {
            "_model_module": "@jupyter-widgets/base",
            "_model_module_version": "1.2.0",
            "_model_name": "LayoutModel",
            "_view_count": null,
            "_view_module": "@jupyter-widgets/base",
            "_view_module_version": "1.2.0",
            "_view_name": "LayoutView",
            "align_content": null,
            "align_items": null,
            "align_self": null,
            "border": null,
            "bottom": null,
            "display": null,
            "flex": null,
            "flex_flow": null,
            "grid_area": null,
            "grid_auto_columns": null,
            "grid_auto_flow": null,
            "grid_auto_rows": null,
            "grid_column": null,
            "grid_gap": null,
            "grid_row": null,
            "grid_template_areas": null,
            "grid_template_columns": null,
            "grid_template_rows": null,
            "height": null,
            "justify_content": null,
            "justify_items": null,
            "left": null,
            "margin": null,
            "max_height": null,
            "max_width": null,
            "min_height": null,
            "min_width": null,
            "object_fit": null,
            "object_position": null,
            "order": null,
            "overflow": null,
            "overflow_x": null,
            "overflow_y": null,
            "padding": null,
            "right": null,
            "top": null,
            "visibility": null,
            "width": null
          }
        },
        "fae4b80000a445ceb2d90b7e9d6ce98f": {
          "model_module": "@jupyter-widgets/controls",
          "model_name": "ProgressStyleModel",
          "model_module_version": "1.5.0",
          "state": {
            "_model_module": "@jupyter-widgets/controls",
            "_model_module_version": "1.5.0",
            "_model_name": "ProgressStyleModel",
            "_view_count": null,
            "_view_module": "@jupyter-widgets/base",
            "_view_module_version": "1.2.0",
            "_view_name": "StyleView",
            "bar_color": null,
            "description_width": ""
          }
        },
        "4601882b563f4d13b244a5b8a3b8ae5b": {
          "model_module": "@jupyter-widgets/base",
          "model_name": "LayoutModel",
          "model_module_version": "1.2.0",
          "state": {
            "_model_module": "@jupyter-widgets/base",
            "_model_module_version": "1.2.0",
            "_model_name": "LayoutModel",
            "_view_count": null,
            "_view_module": "@jupyter-widgets/base",
            "_view_module_version": "1.2.0",
            "_view_name": "LayoutView",
            "align_content": null,
            "align_items": null,
            "align_self": null,
            "border": null,
            "bottom": null,
            "display": null,
            "flex": null,
            "flex_flow": null,
            "grid_area": null,
            "grid_auto_columns": null,
            "grid_auto_flow": null,
            "grid_auto_rows": null,
            "grid_column": null,
            "grid_gap": null,
            "grid_row": null,
            "grid_template_areas": null,
            "grid_template_columns": null,
            "grid_template_rows": null,
            "height": null,
            "justify_content": null,
            "justify_items": null,
            "left": null,
            "margin": null,
            "max_height": null,
            "max_width": null,
            "min_height": null,
            "min_width": null,
            "object_fit": null,
            "object_position": null,
            "order": null,
            "overflow": null,
            "overflow_x": null,
            "overflow_y": null,
            "padding": null,
            "right": null,
            "top": null,
            "visibility": null,
            "width": null
          }
        },
        "056c5ce299934fbb849682d467012b8e": {
          "model_module": "@jupyter-widgets/controls",
          "model_name": "DescriptionStyleModel",
          "model_module_version": "1.5.0",
          "state": {
            "_model_module": "@jupyter-widgets/controls",
            "_model_module_version": "1.5.0",
            "_model_name": "DescriptionStyleModel",
            "_view_count": null,
            "_view_module": "@jupyter-widgets/base",
            "_view_module_version": "1.2.0",
            "_view_name": "StyleView",
            "description_width": ""
          }
        },
        "7d9d71c749944a86af04ca9b4ba16b5e": {
          "model_module": "@jupyter-widgets/controls",
          "model_name": "HBoxModel",
          "model_module_version": "1.5.0",
          "state": {
            "_dom_classes": [],
            "_model_module": "@jupyter-widgets/controls",
            "_model_module_version": "1.5.0",
            "_model_name": "HBoxModel",
            "_view_count": null,
            "_view_module": "@jupyter-widgets/controls",
            "_view_module_version": "1.5.0",
            "_view_name": "HBoxView",
            "box_style": "",
            "children": [
              "IPY_MODEL_c54aa5962efa4b77aeb735afc75cd5fd",
              "IPY_MODEL_ef44dbd40677481d8892759a0c48ca59",
              "IPY_MODEL_27a2b739b35644bf886907e5ded49f92"
            ],
            "layout": "IPY_MODEL_52473569cbdb4de68e149e99d5f6670b"
          }
        },
        "c54aa5962efa4b77aeb735afc75cd5fd": {
          "model_module": "@jupyter-widgets/controls",
          "model_name": "HTMLModel",
          "model_module_version": "1.5.0",
          "state": {
            "_dom_classes": [],
            "_model_module": "@jupyter-widgets/controls",
            "_model_module_version": "1.5.0",
            "_model_name": "HTMLModel",
            "_view_count": null,
            "_view_module": "@jupyter-widgets/controls",
            "_view_module_version": "1.5.0",
            "_view_name": "HTMLView",
            "description": "",
            "description_tooltip": null,
            "layout": "IPY_MODEL_42c9b2036cf740a992395230a40473e8",
            "placeholder": "​",
            "style": "IPY_MODEL_341c6f67062043ada04359b1dc3a1039",
            "value": "sentencepiece.bpe.model: 100%"
          }
        },
        "ef44dbd40677481d8892759a0c48ca59": {
          "model_module": "@jupyter-widgets/controls",
          "model_name": "FloatProgressModel",
          "model_module_version": "1.5.0",
          "state": {
            "_dom_classes": [],
            "_model_module": "@jupyter-widgets/controls",
            "_model_module_version": "1.5.0",
            "_model_name": "FloatProgressModel",
            "_view_count": null,
            "_view_module": "@jupyter-widgets/controls",
            "_view_module_version": "1.5.0",
            "_view_name": "ProgressView",
            "bar_style": "success",
            "description": "",
            "description_tooltip": null,
            "layout": "IPY_MODEL_24eb000454eb4e4b93d707df7a7bd354",
            "max": 4852054,
            "min": 0,
            "orientation": "horizontal",
            "style": "IPY_MODEL_46ed9c1395c94e74a7f0bf268157a66a",
            "value": 4852054
          }
        },
        "27a2b739b35644bf886907e5ded49f92": {
          "model_module": "@jupyter-widgets/controls",
          "model_name": "HTMLModel",
          "model_module_version": "1.5.0",
          "state": {
            "_dom_classes": [],
            "_model_module": "@jupyter-widgets/controls",
            "_model_module_version": "1.5.0",
            "_model_name": "HTMLModel",
            "_view_count": null,
            "_view_module": "@jupyter-widgets/controls",
            "_view_module_version": "1.5.0",
            "_view_name": "HTMLView",
            "description": "",
            "description_tooltip": null,
            "layout": "IPY_MODEL_843b9a1246dd42a98ceb752110dc810d",
            "placeholder": "​",
            "style": "IPY_MODEL_41fcc25b35984894ade923bc69ceeb85",
            "value": " 4.85M/4.85M [00:00&lt;00:00, 18.5MB/s]"
          }
        },
        "52473569cbdb4de68e149e99d5f6670b": {
          "model_module": "@jupyter-widgets/base",
          "model_name": "LayoutModel",
          "model_module_version": "1.2.0",
          "state": {
            "_model_module": "@jupyter-widgets/base",
            "_model_module_version": "1.2.0",
            "_model_name": "LayoutModel",
            "_view_count": null,
            "_view_module": "@jupyter-widgets/base",
            "_view_module_version": "1.2.0",
            "_view_name": "LayoutView",
            "align_content": null,
            "align_items": null,
            "align_self": null,
            "border": null,
            "bottom": null,
            "display": null,
            "flex": null,
            "flex_flow": null,
            "grid_area": null,
            "grid_auto_columns": null,
            "grid_auto_flow": null,
            "grid_auto_rows": null,
            "grid_column": null,
            "grid_gap": null,
            "grid_row": null,
            "grid_template_areas": null,
            "grid_template_columns": null,
            "grid_template_rows": null,
            "height": null,
            "justify_content": null,
            "justify_items": null,
            "left": null,
            "margin": null,
            "max_height": null,
            "max_width": null,
            "min_height": null,
            "min_width": null,
            "object_fit": null,
            "object_position": null,
            "order": null,
            "overflow": null,
            "overflow_x": null,
            "overflow_y": null,
            "padding": null,
            "right": null,
            "top": null,
            "visibility": null,
            "width": null
          }
        },
        "42c9b2036cf740a992395230a40473e8": {
          "model_module": "@jupyter-widgets/base",
          "model_name": "LayoutModel",
          "model_module_version": "1.2.0",
          "state": {
            "_model_module": "@jupyter-widgets/base",
            "_model_module_version": "1.2.0",
            "_model_name": "LayoutModel",
            "_view_count": null,
            "_view_module": "@jupyter-widgets/base",
            "_view_module_version": "1.2.0",
            "_view_name": "LayoutView",
            "align_content": null,
            "align_items": null,
            "align_self": null,
            "border": null,
            "bottom": null,
            "display": null,
            "flex": null,
            "flex_flow": null,
            "grid_area": null,
            "grid_auto_columns": null,
            "grid_auto_flow": null,
            "grid_auto_rows": null,
            "grid_column": null,
            "grid_gap": null,
            "grid_row": null,
            "grid_template_areas": null,
            "grid_template_columns": null,
            "grid_template_rows": null,
            "height": null,
            "justify_content": null,
            "justify_items": null,
            "left": null,
            "margin": null,
            "max_height": null,
            "max_width": null,
            "min_height": null,
            "min_width": null,
            "object_fit": null,
            "object_position": null,
            "order": null,
            "overflow": null,
            "overflow_x": null,
            "overflow_y": null,
            "padding": null,
            "right": null,
            "top": null,
            "visibility": null,
            "width": null
          }
        },
        "341c6f67062043ada04359b1dc3a1039": {
          "model_module": "@jupyter-widgets/controls",
          "model_name": "DescriptionStyleModel",
          "model_module_version": "1.5.0",
          "state": {
            "_model_module": "@jupyter-widgets/controls",
            "_model_module_version": "1.5.0",
            "_model_name": "DescriptionStyleModel",
            "_view_count": null,
            "_view_module": "@jupyter-widgets/base",
            "_view_module_version": "1.2.0",
            "_view_name": "StyleView",
            "description_width": ""
          }
        },
        "24eb000454eb4e4b93d707df7a7bd354": {
          "model_module": "@jupyter-widgets/base",
          "model_name": "LayoutModel",
          "model_module_version": "1.2.0",
          "state": {
            "_model_module": "@jupyter-widgets/base",
            "_model_module_version": "1.2.0",
            "_model_name": "LayoutModel",
            "_view_count": null,
            "_view_module": "@jupyter-widgets/base",
            "_view_module_version": "1.2.0",
            "_view_name": "LayoutView",
            "align_content": null,
            "align_items": null,
            "align_self": null,
            "border": null,
            "bottom": null,
            "display": null,
            "flex": null,
            "flex_flow": null,
            "grid_area": null,
            "grid_auto_columns": null,
            "grid_auto_flow": null,
            "grid_auto_rows": null,
            "grid_column": null,
            "grid_gap": null,
            "grid_row": null,
            "grid_template_areas": null,
            "grid_template_columns": null,
            "grid_template_rows": null,
            "height": null,
            "justify_content": null,
            "justify_items": null,
            "left": null,
            "margin": null,
            "max_height": null,
            "max_width": null,
            "min_height": null,
            "min_width": null,
            "object_fit": null,
            "object_position": null,
            "order": null,
            "overflow": null,
            "overflow_x": null,
            "overflow_y": null,
            "padding": null,
            "right": null,
            "top": null,
            "visibility": null,
            "width": null
          }
        },
        "46ed9c1395c94e74a7f0bf268157a66a": {
          "model_module": "@jupyter-widgets/controls",
          "model_name": "ProgressStyleModel",
          "model_module_version": "1.5.0",
          "state": {
            "_model_module": "@jupyter-widgets/controls",
            "_model_module_version": "1.5.0",
            "_model_name": "ProgressStyleModel",
            "_view_count": null,
            "_view_module": "@jupyter-widgets/base",
            "_view_module_version": "1.2.0",
            "_view_name": "StyleView",
            "bar_color": null,
            "description_width": ""
          }
        },
        "843b9a1246dd42a98ceb752110dc810d": {
          "model_module": "@jupyter-widgets/base",
          "model_name": "LayoutModel",
          "model_module_version": "1.2.0",
          "state": {
            "_model_module": "@jupyter-widgets/base",
            "_model_module_version": "1.2.0",
            "_model_name": "LayoutModel",
            "_view_count": null,
            "_view_module": "@jupyter-widgets/base",
            "_view_module_version": "1.2.0",
            "_view_name": "LayoutView",
            "align_content": null,
            "align_items": null,
            "align_self": null,
            "border": null,
            "bottom": null,
            "display": null,
            "flex": null,
            "flex_flow": null,
            "grid_area": null,
            "grid_auto_columns": null,
            "grid_auto_flow": null,
            "grid_auto_rows": null,
            "grid_column": null,
            "grid_gap": null,
            "grid_row": null,
            "grid_template_areas": null,
            "grid_template_columns": null,
            "grid_template_rows": null,
            "height": null,
            "justify_content": null,
            "justify_items": null,
            "left": null,
            "margin": null,
            "max_height": null,
            "max_width": null,
            "min_height": null,
            "min_width": null,
            "object_fit": null,
            "object_position": null,
            "order": null,
            "overflow": null,
            "overflow_x": null,
            "overflow_y": null,
            "padding": null,
            "right": null,
            "top": null,
            "visibility": null,
            "width": null
          }
        },
        "41fcc25b35984894ade923bc69ceeb85": {
          "model_module": "@jupyter-widgets/controls",
          "model_name": "DescriptionStyleModel",
          "model_module_version": "1.5.0",
          "state": {
            "_model_module": "@jupyter-widgets/controls",
            "_model_module_version": "1.5.0",
            "_model_name": "DescriptionStyleModel",
            "_view_count": null,
            "_view_module": "@jupyter-widgets/base",
            "_view_module_version": "1.2.0",
            "_view_name": "StyleView",
            "description_width": ""
          }
        },
        "50784a7f236f40b0bf06d86f23095fe5": {
          "model_module": "@jupyter-widgets/controls",
          "model_name": "HBoxModel",
          "model_module_version": "1.5.0",
          "state": {
            "_dom_classes": [],
            "_model_module": "@jupyter-widgets/controls",
            "_model_module_version": "1.5.0",
            "_model_name": "HBoxModel",
            "_view_count": null,
            "_view_module": "@jupyter-widgets/controls",
            "_view_module_version": "1.5.0",
            "_view_name": "HBoxView",
            "box_style": "",
            "children": [
              "IPY_MODEL_4d6bfec5422942dc980876be613b0bab",
              "IPY_MODEL_9349916dddc0442c909cfc0a9c520b0a",
              "IPY_MODEL_039c45f1e4924b3e993fb916a5ff5253"
            ],
            "layout": "IPY_MODEL_e64d351dc2b74271a9fa9b100dfdbfdf"
          }
        },
        "4d6bfec5422942dc980876be613b0bab": {
          "model_module": "@jupyter-widgets/controls",
          "model_name": "HTMLModel",
          "model_module_version": "1.5.0",
          "state": {
            "_dom_classes": [],
            "_model_module": "@jupyter-widgets/controls",
            "_model_module_version": "1.5.0",
            "_model_name": "HTMLModel",
            "_view_count": null,
            "_view_module": "@jupyter-widgets/controls",
            "_view_module_version": "1.5.0",
            "_view_name": "HTMLView",
            "description": "",
            "description_tooltip": null,
            "layout": "IPY_MODEL_be67026985c047f6abed114e703da5f4",
            "placeholder": "​",
            "style": "IPY_MODEL_2bd462d8f56642c58534c76646ba7b33",
            "value": "tokenizer.json: 100%"
          }
        },
        "9349916dddc0442c909cfc0a9c520b0a": {
          "model_module": "@jupyter-widgets/controls",
          "model_name": "FloatProgressModel",
          "model_module_version": "1.5.0",
          "state": {
            "_dom_classes": [],
            "_model_module": "@jupyter-widgets/controls",
            "_model_module_version": "1.5.0",
            "_model_name": "FloatProgressModel",
            "_view_count": null,
            "_view_module": "@jupyter-widgets/controls",
            "_view_module_version": "1.5.0",
            "_view_name": "ProgressView",
            "bar_style": "success",
            "description": "",
            "description_tooltip": null,
            "layout": "IPY_MODEL_c5d42c8d8f47461ea7028475cd5aba66",
            "max": 17331176,
            "min": 0,
            "orientation": "horizontal",
            "style": "IPY_MODEL_bb8d96e960204125848deadc78171e65",
            "value": 17331176
          }
        },
        "039c45f1e4924b3e993fb916a5ff5253": {
          "model_module": "@jupyter-widgets/controls",
          "model_name": "HTMLModel",
          "model_module_version": "1.5.0",
          "state": {
            "_dom_classes": [],
            "_model_module": "@jupyter-widgets/controls",
            "_model_module_version": "1.5.0",
            "_model_name": "HTMLModel",
            "_view_count": null,
            "_view_module": "@jupyter-widgets/controls",
            "_view_module_version": "1.5.0",
            "_view_name": "HTMLView",
            "description": "",
            "description_tooltip": null,
            "layout": "IPY_MODEL_6e5b532759944b2589470c01e0c646f5",
            "placeholder": "​",
            "style": "IPY_MODEL_ceacbd8ef8a04c39a65f0aef95d46f5d",
            "value": " 17.3M/17.3M [00:00&lt;00:00, 61.5MB/s]"
          }
        },
        "e64d351dc2b74271a9fa9b100dfdbfdf": {
          "model_module": "@jupyter-widgets/base",
          "model_name": "LayoutModel",
          "model_module_version": "1.2.0",
          "state": {
            "_model_module": "@jupyter-widgets/base",
            "_model_module_version": "1.2.0",
            "_model_name": "LayoutModel",
            "_view_count": null,
            "_view_module": "@jupyter-widgets/base",
            "_view_module_version": "1.2.0",
            "_view_name": "LayoutView",
            "align_content": null,
            "align_items": null,
            "align_self": null,
            "border": null,
            "bottom": null,
            "display": null,
            "flex": null,
            "flex_flow": null,
            "grid_area": null,
            "grid_auto_columns": null,
            "grid_auto_flow": null,
            "grid_auto_rows": null,
            "grid_column": null,
            "grid_gap": null,
            "grid_row": null,
            "grid_template_areas": null,
            "grid_template_columns": null,
            "grid_template_rows": null,
            "height": null,
            "justify_content": null,
            "justify_items": null,
            "left": null,
            "margin": null,
            "max_height": null,
            "max_width": null,
            "min_height": null,
            "min_width": null,
            "object_fit": null,
            "object_position": null,
            "order": null,
            "overflow": null,
            "overflow_x": null,
            "overflow_y": null,
            "padding": null,
            "right": null,
            "top": null,
            "visibility": null,
            "width": null
          }
        },
        "be67026985c047f6abed114e703da5f4": {
          "model_module": "@jupyter-widgets/base",
          "model_name": "LayoutModel",
          "model_module_version": "1.2.0",
          "state": {
            "_model_module": "@jupyter-widgets/base",
            "_model_module_version": "1.2.0",
            "_model_name": "LayoutModel",
            "_view_count": null,
            "_view_module": "@jupyter-widgets/base",
            "_view_module_version": "1.2.0",
            "_view_name": "LayoutView",
            "align_content": null,
            "align_items": null,
            "align_self": null,
            "border": null,
            "bottom": null,
            "display": null,
            "flex": null,
            "flex_flow": null,
            "grid_area": null,
            "grid_auto_columns": null,
            "grid_auto_flow": null,
            "grid_auto_rows": null,
            "grid_column": null,
            "grid_gap": null,
            "grid_row": null,
            "grid_template_areas": null,
            "grid_template_columns": null,
            "grid_template_rows": null,
            "height": null,
            "justify_content": null,
            "justify_items": null,
            "left": null,
            "margin": null,
            "max_height": null,
            "max_width": null,
            "min_height": null,
            "min_width": null,
            "object_fit": null,
            "object_position": null,
            "order": null,
            "overflow": null,
            "overflow_x": null,
            "overflow_y": null,
            "padding": null,
            "right": null,
            "top": null,
            "visibility": null,
            "width": null
          }
        },
        "2bd462d8f56642c58534c76646ba7b33": {
          "model_module": "@jupyter-widgets/controls",
          "model_name": "DescriptionStyleModel",
          "model_module_version": "1.5.0",
          "state": {
            "_model_module": "@jupyter-widgets/controls",
            "_model_module_version": "1.5.0",
            "_model_name": "DescriptionStyleModel",
            "_view_count": null,
            "_view_module": "@jupyter-widgets/base",
            "_view_module_version": "1.2.0",
            "_view_name": "StyleView",
            "description_width": ""
          }
        },
        "c5d42c8d8f47461ea7028475cd5aba66": {
          "model_module": "@jupyter-widgets/base",
          "model_name": "LayoutModel",
          "model_module_version": "1.2.0",
          "state": {
            "_model_module": "@jupyter-widgets/base",
            "_model_module_version": "1.2.0",
            "_model_name": "LayoutModel",
            "_view_count": null,
            "_view_module": "@jupyter-widgets/base",
            "_view_module_version": "1.2.0",
            "_view_name": "LayoutView",
            "align_content": null,
            "align_items": null,
            "align_self": null,
            "border": null,
            "bottom": null,
            "display": null,
            "flex": null,
            "flex_flow": null,
            "grid_area": null,
            "grid_auto_columns": null,
            "grid_auto_flow": null,
            "grid_auto_rows": null,
            "grid_column": null,
            "grid_gap": null,
            "grid_row": null,
            "grid_template_areas": null,
            "grid_template_columns": null,
            "grid_template_rows": null,
            "height": null,
            "justify_content": null,
            "justify_items": null,
            "left": null,
            "margin": null,
            "max_height": null,
            "max_width": null,
            "min_height": null,
            "min_width": null,
            "object_fit": null,
            "object_position": null,
            "order": null,
            "overflow": null,
            "overflow_x": null,
            "overflow_y": null,
            "padding": null,
            "right": null,
            "top": null,
            "visibility": null,
            "width": null
          }
        },
        "bb8d96e960204125848deadc78171e65": {
          "model_module": "@jupyter-widgets/controls",
          "model_name": "ProgressStyleModel",
          "model_module_version": "1.5.0",
          "state": {
            "_model_module": "@jupyter-widgets/controls",
            "_model_module_version": "1.5.0",
            "_model_name": "ProgressStyleModel",
            "_view_count": null,
            "_view_module": "@jupyter-widgets/base",
            "_view_module_version": "1.2.0",
            "_view_name": "StyleView",
            "bar_color": null,
            "description_width": ""
          }
        },
        "6e5b532759944b2589470c01e0c646f5": {
          "model_module": "@jupyter-widgets/base",
          "model_name": "LayoutModel",
          "model_module_version": "1.2.0",
          "state": {
            "_model_module": "@jupyter-widgets/base",
            "_model_module_version": "1.2.0",
            "_model_name": "LayoutModel",
            "_view_count": null,
            "_view_module": "@jupyter-widgets/base",
            "_view_module_version": "1.2.0",
            "_view_name": "LayoutView",
            "align_content": null,
            "align_items": null,
            "align_self": null,
            "border": null,
            "bottom": null,
            "display": null,
            "flex": null,
            "flex_flow": null,
            "grid_area": null,
            "grid_auto_columns": null,
            "grid_auto_flow": null,
            "grid_auto_rows": null,
            "grid_column": null,
            "grid_gap": null,
            "grid_row": null,
            "grid_template_areas": null,
            "grid_template_columns": null,
            "grid_template_rows": null,
            "height": null,
            "justify_content": null,
            "justify_items": null,
            "left": null,
            "margin": null,
            "max_height": null,
            "max_width": null,
            "min_height": null,
            "min_width": null,
            "object_fit": null,
            "object_position": null,
            "order": null,
            "overflow": null,
            "overflow_x": null,
            "overflow_y": null,
            "padding": null,
            "right": null,
            "top": null,
            "visibility": null,
            "width": null
          }
        },
        "ceacbd8ef8a04c39a65f0aef95d46f5d": {
          "model_module": "@jupyter-widgets/controls",
          "model_name": "DescriptionStyleModel",
          "model_module_version": "1.5.0",
          "state": {
            "_model_module": "@jupyter-widgets/controls",
            "_model_module_version": "1.5.0",
            "_model_name": "DescriptionStyleModel",
            "_view_count": null,
            "_view_module": "@jupyter-widgets/base",
            "_view_module_version": "1.2.0",
            "_view_name": "StyleView",
            "description_width": ""
          }
        },
        "ec4d0a41c95248a39de71a6bcd1db70d": {
          "model_module": "@jupyter-widgets/controls",
          "model_name": "HBoxModel",
          "model_module_version": "1.5.0",
          "state": {
            "_dom_classes": [],
            "_model_module": "@jupyter-widgets/controls",
            "_model_module_version": "1.5.0",
            "_model_name": "HBoxModel",
            "_view_count": null,
            "_view_module": "@jupyter-widgets/controls",
            "_view_module_version": "1.5.0",
            "_view_name": "HBoxView",
            "box_style": "",
            "children": [
              "IPY_MODEL_eb78b9106de34000a058e755a8e91991",
              "IPY_MODEL_f652b1a7e9924d7489306ac297b59221",
              "IPY_MODEL_fef22b6270d14286975a97fe24311795"
            ],
            "layout": "IPY_MODEL_11da906089b246508b933de8d5ba1d14"
          }
        },
        "eb78b9106de34000a058e755a8e91991": {
          "model_module": "@jupyter-widgets/controls",
          "model_name": "HTMLModel",
          "model_module_version": "1.5.0",
          "state": {
            "_dom_classes": [],
            "_model_module": "@jupyter-widgets/controls",
            "_model_module_version": "1.5.0",
            "_model_name": "HTMLModel",
            "_view_count": null,
            "_view_module": "@jupyter-widgets/controls",
            "_view_module_version": "1.5.0",
            "_view_name": "HTMLView",
            "description": "",
            "description_tooltip": null,
            "layout": "IPY_MODEL_0b700a0b6df049d2a90c8628a4cbb743",
            "placeholder": "​",
            "style": "IPY_MODEL_324ec1b6ac8c4761b222910bff4d79f1",
            "value": "special_tokens_map.json: 100%"
          }
        },
        "f652b1a7e9924d7489306ac297b59221": {
          "model_module": "@jupyter-widgets/controls",
          "model_name": "FloatProgressModel",
          "model_module_version": "1.5.0",
          "state": {
            "_dom_classes": [],
            "_model_module": "@jupyter-widgets/controls",
            "_model_module_version": "1.5.0",
            "_model_name": "FloatProgressModel",
            "_view_count": null,
            "_view_module": "@jupyter-widgets/controls",
            "_view_module_version": "1.5.0",
            "_view_name": "ProgressView",
            "bar_style": "success",
            "description": "",
            "description_tooltip": null,
            "layout": "IPY_MODEL_9c04c31e3d5d439880b567370851656d",
            "max": 3548,
            "min": 0,
            "orientation": "horizontal",
            "style": "IPY_MODEL_8ab61b4bfb404b2593b3cb30574f8fa2",
            "value": 3548
          }
        },
        "fef22b6270d14286975a97fe24311795": {
          "model_module": "@jupyter-widgets/controls",
          "model_name": "HTMLModel",
          "model_module_version": "1.5.0",
          "state": {
            "_dom_classes": [],
            "_model_module": "@jupyter-widgets/controls",
            "_model_module_version": "1.5.0",
            "_model_name": "HTMLModel",
            "_view_count": null,
            "_view_module": "@jupyter-widgets/controls",
            "_view_module_version": "1.5.0",
            "_view_name": "HTMLView",
            "description": "",
            "description_tooltip": null,
            "layout": "IPY_MODEL_10032587d4d3433ca46fc0f0bbe6fae4",
            "placeholder": "​",
            "style": "IPY_MODEL_38d79d8b6a664387b0e5cbbc96f19b19",
            "value": " 3.55k/3.55k [00:00&lt;00:00, 194kB/s]"
          }
        },
        "11da906089b246508b933de8d5ba1d14": {
          "model_module": "@jupyter-widgets/base",
          "model_name": "LayoutModel",
          "model_module_version": "1.2.0",
          "state": {
            "_model_module": "@jupyter-widgets/base",
            "_model_module_version": "1.2.0",
            "_model_name": "LayoutModel",
            "_view_count": null,
            "_view_module": "@jupyter-widgets/base",
            "_view_module_version": "1.2.0",
            "_view_name": "LayoutView",
            "align_content": null,
            "align_items": null,
            "align_self": null,
            "border": null,
            "bottom": null,
            "display": null,
            "flex": null,
            "flex_flow": null,
            "grid_area": null,
            "grid_auto_columns": null,
            "grid_auto_flow": null,
            "grid_auto_rows": null,
            "grid_column": null,
            "grid_gap": null,
            "grid_row": null,
            "grid_template_areas": null,
            "grid_template_columns": null,
            "grid_template_rows": null,
            "height": null,
            "justify_content": null,
            "justify_items": null,
            "left": null,
            "margin": null,
            "max_height": null,
            "max_width": null,
            "min_height": null,
            "min_width": null,
            "object_fit": null,
            "object_position": null,
            "order": null,
            "overflow": null,
            "overflow_x": null,
            "overflow_y": null,
            "padding": null,
            "right": null,
            "top": null,
            "visibility": null,
            "width": null
          }
        },
        "0b700a0b6df049d2a90c8628a4cbb743": {
          "model_module": "@jupyter-widgets/base",
          "model_name": "LayoutModel",
          "model_module_version": "1.2.0",
          "state": {
            "_model_module": "@jupyter-widgets/base",
            "_model_module_version": "1.2.0",
            "_model_name": "LayoutModel",
            "_view_count": null,
            "_view_module": "@jupyter-widgets/base",
            "_view_module_version": "1.2.0",
            "_view_name": "LayoutView",
            "align_content": null,
            "align_items": null,
            "align_self": null,
            "border": null,
            "bottom": null,
            "display": null,
            "flex": null,
            "flex_flow": null,
            "grid_area": null,
            "grid_auto_columns": null,
            "grid_auto_flow": null,
            "grid_auto_rows": null,
            "grid_column": null,
            "grid_gap": null,
            "grid_row": null,
            "grid_template_areas": null,
            "grid_template_columns": null,
            "grid_template_rows": null,
            "height": null,
            "justify_content": null,
            "justify_items": null,
            "left": null,
            "margin": null,
            "max_height": null,
            "max_width": null,
            "min_height": null,
            "min_width": null,
            "object_fit": null,
            "object_position": null,
            "order": null,
            "overflow": null,
            "overflow_x": null,
            "overflow_y": null,
            "padding": null,
            "right": null,
            "top": null,
            "visibility": null,
            "width": null
          }
        },
        "324ec1b6ac8c4761b222910bff4d79f1": {
          "model_module": "@jupyter-widgets/controls",
          "model_name": "DescriptionStyleModel",
          "model_module_version": "1.5.0",
          "state": {
            "_model_module": "@jupyter-widgets/controls",
            "_model_module_version": "1.5.0",
            "_model_name": "DescriptionStyleModel",
            "_view_count": null,
            "_view_module": "@jupyter-widgets/base",
            "_view_module_version": "1.2.0",
            "_view_name": "StyleView",
            "description_width": ""
          }
        },
        "9c04c31e3d5d439880b567370851656d": {
          "model_module": "@jupyter-widgets/base",
          "model_name": "LayoutModel",
          "model_module_version": "1.2.0",
          "state": {
            "_model_module": "@jupyter-widgets/base",
            "_model_module_version": "1.2.0",
            "_model_name": "LayoutModel",
            "_view_count": null,
            "_view_module": "@jupyter-widgets/base",
            "_view_module_version": "1.2.0",
            "_view_name": "LayoutView",
            "align_content": null,
            "align_items": null,
            "align_self": null,
            "border": null,
            "bottom": null,
            "display": null,
            "flex": null,
            "flex_flow": null,
            "grid_area": null,
            "grid_auto_columns": null,
            "grid_auto_flow": null,
            "grid_auto_rows": null,
            "grid_column": null,
            "grid_gap": null,
            "grid_row": null,
            "grid_template_areas": null,
            "grid_template_columns": null,
            "grid_template_rows": null,
            "height": null,
            "justify_content": null,
            "justify_items": null,
            "left": null,
            "margin": null,
            "max_height": null,
            "max_width": null,
            "min_height": null,
            "min_width": null,
            "object_fit": null,
            "object_position": null,
            "order": null,
            "overflow": null,
            "overflow_x": null,
            "overflow_y": null,
            "padding": null,
            "right": null,
            "top": null,
            "visibility": null,
            "width": null
          }
        },
        "8ab61b4bfb404b2593b3cb30574f8fa2": {
          "model_module": "@jupyter-widgets/controls",
          "model_name": "ProgressStyleModel",
          "model_module_version": "1.5.0",
          "state": {
            "_model_module": "@jupyter-widgets/controls",
            "_model_module_version": "1.5.0",
            "_model_name": "ProgressStyleModel",
            "_view_count": null,
            "_view_module": "@jupyter-widgets/base",
            "_view_module_version": "1.2.0",
            "_view_name": "StyleView",
            "bar_color": null,
            "description_width": ""
          }
        },
        "10032587d4d3433ca46fc0f0bbe6fae4": {
          "model_module": "@jupyter-widgets/base",
          "model_name": "LayoutModel",
          "model_module_version": "1.2.0",
          "state": {
            "_model_module": "@jupyter-widgets/base",
            "_model_module_version": "1.2.0",
            "_model_name": "LayoutModel",
            "_view_count": null,
            "_view_module": "@jupyter-widgets/base",
            "_view_module_version": "1.2.0",
            "_view_name": "LayoutView",
            "align_content": null,
            "align_items": null,
            "align_self": null,
            "border": null,
            "bottom": null,
            "display": null,
            "flex": null,
            "flex_flow": null,
            "grid_area": null,
            "grid_auto_columns": null,
            "grid_auto_flow": null,
            "grid_auto_rows": null,
            "grid_column": null,
            "grid_gap": null,
            "grid_row": null,
            "grid_template_areas": null,
            "grid_template_columns": null,
            "grid_template_rows": null,
            "height": null,
            "justify_content": null,
            "justify_items": null,
            "left": null,
            "margin": null,
            "max_height": null,
            "max_width": null,
            "min_height": null,
            "min_width": null,
            "object_fit": null,
            "object_position": null,
            "order": null,
            "overflow": null,
            "overflow_x": null,
            "overflow_y": null,
            "padding": null,
            "right": null,
            "top": null,
            "visibility": null,
            "width": null
          }
        },
        "38d79d8b6a664387b0e5cbbc96f19b19": {
          "model_module": "@jupyter-widgets/controls",
          "model_name": "DescriptionStyleModel",
          "model_module_version": "1.5.0",
          "state": {
            "_model_module": "@jupyter-widgets/controls",
            "_model_module_version": "1.5.0",
            "_model_name": "DescriptionStyleModel",
            "_view_count": null,
            "_view_module": "@jupyter-widgets/base",
            "_view_module_version": "1.2.0",
            "_view_name": "StyleView",
            "description_width": ""
          }
        }
      }
    }
  },
  "nbformat": 4,
  "nbformat_minor": 0
}