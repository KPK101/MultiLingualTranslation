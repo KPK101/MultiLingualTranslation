{
 "cells": [
  {
   "cell_type": "code",
   "execution_count": 1,
   "id": "f595acaa-4a46-4f40-8e2b-4c0dfcd3c31c",
   "metadata": {},
   "outputs": [],
   "source": [
    "from google.cloud import pubsub_v1"
   ]
  },
  {
   "cell_type": "code",
   "execution_count": 2,
   "id": "902828cc-d866-4a85-abfb-707da4ffb451",
   "metadata": {},
   "outputs": [],
   "source": [
    "project_id = \"e6889-pkk2125\"\n",
    "topic_name = \"translation-stream\""
   ]
  },
  {
   "cell_type": "code",
   "execution_count": 3,
   "id": "bd914505-816e-42be-aa47-e68d33383ce5",
   "metadata": {},
   "outputs": [],
   "source": [
    "subscription_name = 'translation-stream-sub'\n",
    "subscriber = pubsub_v1.SubscriberClient()\n",
    "subscription_path = subscriber.subscription_path(project_id, subscription_name)"
   ]
  },
  {
   "cell_type": "code",
   "execution_count": 4,
   "id": "72b5c67f-d47c-4f65-af8b-5c89ab0a43d1",
   "metadata": {},
   "outputs": [],
   "source": [
    "data_buffer = []"
   ]
  },
  {
   "cell_type": "code",
   "execution_count": 5,
   "id": "18b5ef07-2d9b-4282-a338-20d12956eee6",
   "metadata": {},
   "outputs": [],
   "source": [
    "def callback(message):\n",
    "    data_buffer.append(message.data)\n",
    "    # print(message.data)\n",
    "    message.ack()"
   ]
  },
  {
   "cell_type": "code",
   "execution_count": 6,
   "id": "d854e747-7a4f-47d0-8924-4e95acf993f0",
   "metadata": {},
   "outputs": [
    {
     "data": {
      "text/plain": [
       "<StreamingPullFuture at 0x12cead282e0 state=pending>"
      ]
     },
     "execution_count": 6,
     "metadata": {},
     "output_type": "execute_result"
    }
   ],
   "source": [
    "subscriber.subscribe(subscription_path, callback=callback)"
   ]
  },
  {
   "cell_type": "code",
   "execution_count": 14,
   "id": "bbd83a27-dd1f-4cf6-8b8a-fbef818ab4bc",
   "metadata": {},
   "outputs": [
    {
     "name": "stdout",
     "output_type": "stream",
     "text": [
      "[b'This is a test message.', b'This is a new test message.', b'This is a new new test message.']\n"
     ]
    }
   ],
   "source": [
    "print(data_buffer)"
   ]
  }
 ],
 "metadata": {
  "kernelspec": {
   "display_name": "Python 3",
   "language": "python",
   "name": "python3"
  },
  "language_info": {
   "codemirror_mode": {
    "name": "ipython",
    "version": 3
   },
   "file_extension": ".py",
   "mimetype": "text/x-python",
   "name": "python",
   "nbconvert_exporter": "python",
   "pygments_lexer": "ipython3",
   "version": "3.7.12"
  }
 },
 "nbformat": 4,
 "nbformat_minor": 5
}
