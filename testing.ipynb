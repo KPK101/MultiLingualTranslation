{
 "cells": [
  {
   "cell_type": "code",
   "execution_count": null,
   "metadata": {
    "id": "tYUy94xxEwC-"
   },
   "outputs": [],
   "source": [
    "# managing the LLMs\n",
    "\n",
    "\"\"\"\n",
    "\n",
    "from google.colab import drive\n",
    "drive.mount('/content/drive')\n",
    "\n",
    "import os\n",
    "os.chdir(\"/content/drive/MyDrive/Colab Notebooks/LSSP_code/project\")\n",
    "\n",
    "from transformers import AutoTokenizer, AutoModelForSeq2SeqLM\n",
    "\n",
    "! pip install --quiet apache-beam\n",
    "! pip install --quiet transformers\n",
    "\n",
    "\n",
    "def make_model(model_name):\n",
    "    model = AutoModelForSeq2SeqLM.from_pretrained(model_name)\n",
    "    tokenizer = AutoTokenizer.from_pretrained(model_name)\n",
    "    return model, tokenizer\n",
    "\n",
    "def save_model(model, token, folder):\n",
    "    model.save_pretrained(os.path.join(folder, \"model\"))\n",
    "    tokenizer.save_pretrained(os.path.join(folder, \"tokenizer\"))\n",
    "\n",
    "def load_model(folder):\n",
    "    model = AutoModelForSeq2SeqLM.from_pretrained(os.path.join(folder, \"model\"))\n",
    "    tokenizer = AutoTokenizer.from_pretrained(os.path.join(folder, \"tokenizer\"))\n",
    "    return model, tokenizer\n",
    "\n",
    "model = 'facebook/nllb-200-distilled-1.3B'\n",
    "\n",
    "model, tokenizer = make_model(model)\n",
    "\n",
    "save_model(model, tokenizer, \"data\")\n",
    "\n",
    "model, tokenizer = load_model(\"data\")\n",
    "\n",
    "\"\"\""
   ]
  },
  {
   "cell_type": "code",
   "execution_count": null,
   "metadata": {
    "colab": {
     "base_uri": "https://localhost:8080/",
     "height": 35
    },
    "executionInfo": {
     "elapsed": 164,
     "status": "ok",
     "timestamp": 1712862438264,
     "user": {
      "displayName": "Harsh Benahalkar",
      "userId": "09467154720224739289"
     },
     "user_tz": 240
    },
    "id": "y4Nuim2yEyi3",
    "outputId": "b63d837d-9183-4958-ef3c-946c1b95d1d7"
   },
   "outputs": [
    {
     "data": {
      "application/vnd.google.colaboratory.intrinsic+json": {
       "type": "string"
      },
      "text/plain": [
       "'THU 11/04/2024 19:07:20 '"
      ]
     },
     "execution_count": 2,
     "metadata": {},
     "output_type": "execute_result"
    }
   ],
   "source": [
    "# evaluation metrics for LLMs\n",
    "\n",
    "\"\"\"\n",
    "import numpy as np\n",
    "from datetime import datetime\n",
    "\n",
    "def get_default_entry():\n",
    "    now = datetime.now()\n",
    "    return now.strftime(\"%a %d/%m/%Y %H:%M:%S %Z\").upper()\n",
    "\n",
    "\n",
    "class Evaluate():\n",
    "\n",
    "    def __init__(self, save_path=\"./evaluation_metrics.txt\", verbose=False, decimals=5):\n",
    "        self.path = save_path\n",
    "        self.verbose = verbose\n",
    "        self.decimal = decimals\n",
    "\n",
    "        self.data = []\n",
    "        self.temp = \"\"\n",
    "\n",
    "\n",
    "\n",
    "    def make_new_entry(self, data=\"\"):\n",
    "        if self.temp != \"\":\n",
    "            self.data.append(self.temp)\n",
    "\n",
    "        self.temp = f\"{get_default_entry()} >> {data} >> \"\n",
    "\n",
    "\n",
    "\n",
    "    def jaccard_similarity(self, text1, text2):\n",
    "        text1 = np.array(text1.lower().split(\" \"))\n",
    "        text2 = np.array(text2.lower().split(\" \"))\n",
    "\n",
    "        intersection = len(np.intersect1d(text1, text2))\n",
    "        union = len(np.union1d(text1, text2))\n",
    "\n",
    "        j_similarity = round(float(intersection/union), self.decimal)\n",
    "        self.temp = self.temp + str(j_similarity)\n",
    "        if self.verbose : print(self.temp)\n",
    "\n",
    "        return j_similarity\n",
    "\n",
    "\n",
    "\n",
    "    def cosine_similarity(self, text1, text2):\n",
    "        text1 = text1.lower().split(\" \")\n",
    "        text2 = text2.lower().split(\" \")\n",
    "\n",
    "        unique_words = set(text1 + text2)\n",
    "\n",
    "        vector1 = np.array([text1.count(word) for word in unique_words])\n",
    "        vector2 = np.array([text2.count(word) for word in unique_words])\n",
    "\n",
    "        dot_product = np.dot(vector1, vector2)\n",
    "        magnitude1 = np.sqrt(np.sum(vector1 ** 2))\n",
    "        magnitude2 = np.sqrt(np.sum(vector2 ** 2))\n",
    "\n",
    "        cosine_sim = round(float(dot_product / (magnitude1 * magnitude2)), self.decimal)\n",
    "        self.temp = self.temp + str(cosine_sim)\n",
    "        if self.verbose : print(self.temp)\n",
    "\n",
    "        return cosine_sim\n",
    "\n",
    "\n",
    "\n",
    "    def eucledian_distance(self, text1, text2):\n",
    "        text1 = text1.lower().split(\" \")\n",
    "        text2 = text2.lower().split(\" \")\n",
    "\n",
    "        unique_words = set(text1 + text2)\n",
    "\n",
    "        vector1 = np.array([text1.count(word) for word in unique_words])\n",
    "        vector2 = np.array([text2.count(word) for word in unique_words])\n",
    "\n",
    "        eucledian_dist = round(float(np.sqrt(np.sum((vector1 - vector2) ** 2))), self.decimal)\n",
    "        self.temp = self.temp + str(eucledian_dist)\n",
    "        if self.verbose : print(self.temp)\n",
    "\n",
    "        return eucledian_dist\n",
    "\n",
    "\n",
    "\n",
    "    def save_data(self):\n",
    "        with open(self.path, \"w\") as file:\n",
    "            for line in self.data:\n",
    "                file.write(line + '\\n')\n",
    "\n",
    "            file.close()\n",
    "\n",
    "\"\"\""
   ]
  },
  {
   "cell_type": "code",
   "execution_count": 1,
   "metadata": {
    "colab": {
     "base_uri": "https://localhost:8080/"
    },
    "executionInfo": {
     "elapsed": 52905,
     "status": "ok",
     "timestamp": 1712872176701,
     "user": {
      "displayName": "Harsh Benahalkar",
      "userId": "09467154720224739289"
     },
     "user_tz": 240
    },
    "id": "kdtLnVCtj_bB",
    "outputId": "6415a3b0-6939-4aa9-ebca-92544b1fab3a"
   },
   "outputs": [
    {
     "name": "stdout",
     "output_type": "stream",
     "text": [
      "Mounted at /content/drive\n"
     ]
    }
   ],
   "source": [
    "from google.colab import drive\n",
    "drive.mount('/content/drive')\n",
    "\n",
    "import os\n",
    "os.chdir(\"/content/drive/MyDrive/Colab Notebooks/LSSP_code/project\")"
   ]
  },
  {
   "cell_type": "code",
   "execution_count": 2,
   "metadata": {
    "colab": {
     "base_uri": "https://localhost:8080/"
    },
    "executionInfo": {
     "elapsed": 31908,
     "status": "ok",
     "timestamp": 1712872212471,
     "user": {
      "displayName": "Harsh Benahalkar",
      "userId": "09467154720224739289"
     },
     "user_tz": 240
    },
    "id": "HtyoqlWr_vAT",
    "outputId": "3c99c320-a426-4c00-af14-4e00d04ed47a"
   },
   "outputs": [
    {
     "name": "stdout",
     "output_type": "stream",
     "text": [
      "\u001b[2K     \u001b[90m━━━━━━━━━━━━━━━━━━━━━━━━━━━━━━━━━━━━━━━━\u001b[0m \u001b[32m14.8/14.8 MB\u001b[0m \u001b[31m47.3 MB/s\u001b[0m eta \u001b[36m0:00:00\u001b[0m\n",
      "\u001b[2K     \u001b[90m━━━━━━━━━━━━━━━━━━━━━━━━━━━━━━━━━━━━━━━━\u001b[0m \u001b[32m89.7/89.7 kB\u001b[0m \u001b[31m9.4 MB/s\u001b[0m eta \u001b[36m0:00:00\u001b[0m\n",
      "\u001b[?25h  Preparing metadata (setup.py) ... \u001b[?25l\u001b[?25hdone\n",
      "\u001b[2K     \u001b[90m━━━━━━━━━━━━━━━━━━━━━━━━━━━━━━━━━━━━━━━━\u001b[0m \u001b[32m144.8/144.8 kB\u001b[0m \u001b[31m16.6 MB/s\u001b[0m eta \u001b[36m0:00:00\u001b[0m\n",
      "\u001b[2K     \u001b[90m━━━━━━━━━━━━━━━━━━━━━━━━━━━━━━━━━━━━━━━━\u001b[0m \u001b[32m152.0/152.0 kB\u001b[0m \u001b[31m15.4 MB/s\u001b[0m eta \u001b[36m0:00:00\u001b[0m\n",
      "\u001b[?25h  Preparing metadata (setup.py) ... \u001b[?25l\u001b[?25hdone\n",
      "\u001b[2K     \u001b[90m━━━━━━━━━━━━━━━━━━━━━━━━━━━━━━━━━━━━━━━━\u001b[0m \u001b[32m3.1/3.1 MB\u001b[0m \u001b[31m72.1 MB/s\u001b[0m eta \u001b[36m0:00:00\u001b[0m\n",
      "\u001b[2K     \u001b[90m━━━━━━━━━━━━━━━━━━━━━━━━━━━━━━━━━━━━━━━━\u001b[0m \u001b[32m43.5/43.5 kB\u001b[0m \u001b[31m5.5 MB/s\u001b[0m eta \u001b[36m0:00:00\u001b[0m\n",
      "\u001b[?25h  Preparing metadata (setup.py) ... \u001b[?25l\u001b[?25hdone\n",
      "\u001b[2K     \u001b[90m━━━━━━━━━━━━━━━━━━━━━━━━━━━━━━━━━━━━━━━━\u001b[0m \u001b[32m1.0/1.0 MB\u001b[0m \u001b[31m65.3 MB/s\u001b[0m eta \u001b[36m0:00:00\u001b[0m\n",
      "\u001b[2K     \u001b[90m━━━━━━━━━━━━━━━━━━━━━━━━━━━━━━━━━━━━━━━━\u001b[0m \u001b[32m676.9/676.9 kB\u001b[0m \u001b[31m51.3 MB/s\u001b[0m eta \u001b[36m0:00:00\u001b[0m\n",
      "\u001b[2K     \u001b[90m━━━━━━━━━━━━━━━━━━━━━━━━━━━━━━━━━━━━━━━━\u001b[0m \u001b[32m5.4/5.4 MB\u001b[0m \u001b[31m90.3 MB/s\u001b[0m eta \u001b[36m0:00:00\u001b[0m\n",
      "\u001b[?25h  Preparing metadata (setup.py) ... \u001b[?25l\u001b[?25hdone\n",
      "  Preparing metadata (setup.py) ... \u001b[?25l\u001b[?25hdone\n",
      "\u001b[2K     \u001b[90m━━━━━━━━━━━━━━━━━━━━━━━━━━━━━━━━━━━━━━━━\u001b[0m \u001b[32m307.7/307.7 kB\u001b[0m \u001b[31m31.8 MB/s\u001b[0m eta \u001b[36m0:00:00\u001b[0m\n",
      "\u001b[?25h  Building wheel for crcmod (setup.py) ... \u001b[?25l\u001b[?25hdone\n",
      "  Building wheel for dill (setup.py) ... \u001b[?25l\u001b[?25hdone\n",
      "  Building wheel for hdfs (setup.py) ... \u001b[?25l\u001b[?25hdone\n",
      "  Building wheel for pyjsparser (setup.py) ... \u001b[?25l\u001b[?25hdone\n",
      "  Building wheel for docopt (setup.py) ... \u001b[?25l\u001b[?25hdone\n"
     ]
    }
   ],
   "source": [
    "! pip install --quiet apache-beam"
   ]
  },
  {
   "cell_type": "code",
   "execution_count": 14,
   "metadata": {
    "colab": {
     "base_uri": "https://localhost:8080/"
    },
    "executionInfo": {
     "elapsed": 2746,
     "status": "ok",
     "timestamp": 1712873309244,
     "user": {
      "displayName": "Harsh Benahalkar",
      "userId": "09467154720224739289"
     },
     "user_tz": 240
    },
    "id": "2701Rvlc-w_-",
    "outputId": "77ba6ad7-8ba9-48cf-9451-767167e82cbc"
   },
   "outputs": [
    {
     "name": "stdout",
     "output_type": "stream",
     "text": [
      "output-00000-of-00001.txt\n"
     ]
    }
   ],
   "source": [
    "! python testing.py"
   ]
  },
  {
   "cell_type": "code",
   "execution_count": 12,
   "metadata": {
    "colab": {
     "base_uri": "https://localhost:8080/"
    },
    "executionInfo": {
     "elapsed": 177,
     "status": "ok",
     "timestamp": 1712873188457,
     "user": {
      "displayName": "Harsh Benahalkar",
      "userId": "09467154720224739289"
     },
     "user_tz": 240
    },
    "id": "BMLa3DxFJGAX",
    "outputId": "36174f03-c4a4-4a14-9f64-2e62c120a532"
   },
   "outputs": [
    {
     "name": "stdout",
     "output_type": "stream",
     "text": [
      "In the vast expanse of the cosmos, among the countless stars and galaxies that stretch beyond the reaches of imagination, there exists a tapestry of wonder and mystery.\n",
      "Within this cosmic quilt, celestial bodies dance to the rhythm of gravity's embrace, weaving intricate patterns across the velvet canvas of space.\n",
      "Nebulas swirl with colors unseen on Earth, their ethereal beauty captivating the gaze of distant observers.\n",
      "Planets, each a world unto itself, orbit their parent stars in a delicate ballet of motion and time.\n",
      "Moons, silent sentinels in the night sky, watch over their planetary companions with quiet vigilance.\n",
      "Comets streak through the darkness, leaving trails of stardust in their wake as they journey through the cold depths of space.\n",
      "Asteroids, remnants of ancient collisions, drift silently through the void, silent witnesses to the tumultuous history of the cosmos.\n",
      "In the depths of the cosmos, black holes lurk like cosmic predators, their gravitational pull devouring everything that dares to venture too close.\n",
      "But amidst the chaos and violence of the cosmos, there exists a rare beauty, a harmony that transcends the boundaries of time and space.\n",
      "Stars are born in fiery explosions of light and energy, their radiance illuminating the darkness of the void.\n",
      "And in their death, they scatter the building blocks of life, seeding the cosmos with the raw materials from which new worlds will one day arise.\n",
      "Throughout the ages, civilizations have gazed upon the stars with wonder and awe, seeking to unlock the secrets of the universe.\n",
      "And though the cosmos may seem vast and unknowable, it is also a place of boundless possibility, where the dreams of humanity can take flight and soar among the stars.\n",
      "In this vast celestial expanse, the wonders of the universe await discovery, beckoning explorers to journey beyond the confines of their world and into the unknown depths of space.\n",
      "From distant galaxies to the smallest subatomic particles, the cosmos is a playground of infinite diversity, offering endless opportunities for exploration and discovery.\n",
      "And as humanity ventures further into the cosmos, new mysteries and wonders await, challenging our understanding of the universe and our place within it.\n",
      "For in the grand tapestry of the cosmos, every star, planet, and galaxy has a story to tell, a history written in the language of physics and mathematics.\n",
      "And as we unravel these mysteries, we come to understand not only the nature of the universe, but also ourselves, and our place within the vastness of creation,\n"
     ]
    }
   ],
   "source": [
    "! cat dataset.txt"
   ]
  },
  {
   "cell_type": "code",
   "execution_count": 15,
   "metadata": {
    "colab": {
     "base_uri": "https://localhost:8080/"
    },
    "executionInfo": {
     "elapsed": 263,
     "status": "ok",
     "timestamp": 1712873311719,
     "user": {
      "displayName": "Harsh Benahalkar",
      "userId": "09467154720224739289"
     },
     "user_tz": 240
    },
    "id": "leMo-CbzCckl",
    "outputId": "19fa59b3-a7aa-4df2-e86d-f42abb3ef77b"
   },
   "outputs": [
    {
     "name": "stdout",
     "output_type": "stream",
     "text": [
      "[[[[[[[[[[[[[[[[[['In the vast expanse of the cosmos, among the countless stars and galaxies that stretch beyond the reaches of imagination, there exists a tapestry of wonder and mystery.', \"Within this cosmic quilt, celestial bodies dance to the rhythm of gravity's embrace, weaving intricate patterns across the velvet canvas of space.\"], 'Nebulas swirl with colors unseen on Earth, their ethereal beauty captivating the gaze of distant observers.'], 'Planets, each a world unto itself, orbit their parent stars in a delicate ballet of motion and time.'], 'Moons, silent sentinels in the night sky, watch over their planetary companions with quiet vigilance.'], 'Comets streak through the darkness, leaving trails of stardust in their wake as they journey through the cold depths of space.'], 'Asteroids, remnants of ancient collisions, drift silently through the void, silent witnesses to the tumultuous history of the cosmos.'], 'In the depths of the cosmos, black holes lurk like cosmic predators, their gravitational pull devouring everything that dares to venture too close.'], 'But amidst the chaos and violence of the cosmos, there exists a rare beauty, a harmony that transcends the boundaries of time and space.'], 'Stars are born in fiery explosions of light and energy, their radiance illuminating the darkness of the void.'], 'And in their death, they scatter the building blocks of life, seeding the cosmos with the raw materials from which new worlds will one day arise.'], 'Throughout the ages, civilizations have gazed upon the stars with wonder and awe, seeking to unlock the secrets of the universe.'], 'And though the cosmos may seem vast and unknowable, it is also a place of boundless possibility, where the dreams of humanity can take flight and soar among the stars.'], 'In this vast celestial expanse, the wonders of the universe await discovery, beckoning explorers to journey beyond the confines of their world and into the unknown depths of space.'], 'From distant galaxies to the smallest subatomic particles, the cosmos is a playground of infinite diversity, offering endless opportunities for exploration and discovery.'], 'And as humanity ventures further into the cosmos, new mysteries and wonders await, challenging our understanding of the universe and our place within it.'], 'For in the grand tapestry of the cosmos, every star, planet, and galaxy has a story to tell, a history written in the language of physics and mathematics.'], 'And as we unravel these mysteries, we come to understand not only the nature of the universe, but also ourselves, and our place within the vastness of creation,']]\n"
     ]
    }
   ],
   "source": [
    "! cat output-00000-of-00001.txt"
   ]
  }
 ],
 "metadata": {
  "colab": {
   "authorship_tag": "ABX9TyNmzdyoJGvIO2dBqNN2q5AJ",
   "provenance": []
  },
  "kernelspec": {
   "display_name": "Python 3",
   "language": "python",
   "name": "python3"
  },
  "language_info": {
   "codemirror_mode": {
    "name": "ipython",
    "version": 3
   },
   "file_extension": ".py",
   "mimetype": "text/x-python",
   "name": "python",
   "nbconvert_exporter": "python",
   "pygments_lexer": "ipython3",
   "version": "3.7.12"
  }
 },
 "nbformat": 4,
 "nbformat_minor": 4
}
