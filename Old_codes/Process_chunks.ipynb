{
 "cells": [
  {
   "cell_type": "code",
   "execution_count": 1,
   "id": "3a006a4d-1398-4888-9b7a-b92891702b68",
   "metadata": {},
   "outputs": [],
   "source": [
    "%load_ext autoreload\n",
    "%autoreload 2"
   ]
  },
  {
   "cell_type": "code",
   "execution_count": 2,
   "id": "dd7350e7-5ec4-4614-a1a9-02fbc7f10d43",
   "metadata": {},
   "outputs": [],
   "source": [
    "import numpy as np\n",
    "import matplotlib.pyplot\n",
    "from llm import model"
   ]
  },
  {
   "cell_type": "code",
   "execution_count": 14,
   "id": "54299576-2c54-4dde-beaa-a8a4b3ac99a0",
   "metadata": {
    "scrolled": true
   },
   "outputs": [
    {
     "name": "stdout",
     "output_type": "stream",
     "text": [
      "[['Lorem', 'ipsum', 'dolor'], ['sit', 'amet,', 'consectetur'], ['adipiscing', 'elit.', 'Sed'], ['do', 'eiusmod', 'tempor'], ['incididunt', 'ut', 'labore'], ['et', 'dolore', 'magna'], ['aliqua.', 'Ut', 'enim'], ['ad', 'minim', 'veniam,'], ['quis', 'nostrud', 'exercitation'], ['ullamco', 'laboris', 'nisi'], ['ut', 'aliquip', 'ex'], ['ea', 'commodo', 'consequat.'], ['Duis', 'aute', 'irure'], ['dolor', 'in', 'reprehenderit'], ['in', 'voluptate', 'velit'], ['esse', 'cillum', 'dolore'], ['eu', 'fugiat', 'nulla'], ['pariatur.', 'Excepteur', 'sint'], ['occaecat', 'cupidatat', 'non'], ['proident,', 'sunt', 'in'], ['culpa', 'qui', 'officia'], ['deserunt', 'mollit', 'anim']]\n",
      "['Lorem ipsum dolor', 'sit amet, consectetur', 'adipiscing elit. Sed', 'do eiusmod tempor', 'incididunt ut labore', 'et dolore magna', 'aliqua. Ut enim', 'ad minim veniam,', 'quis nostrud exercitation', 'ullamco laboris nisi', 'ut aliquip ex', 'ea commodo consequat.', 'Duis aute irure', 'dolor in reprehenderit', 'in voluptate velit', 'esse cillum dolore', 'eu fugiat nulla', 'pariatur. Excepteur sint', 'occaecat cupidatat non', 'proident, sunt in', 'culpa qui officia', 'deserunt mollit anim']\n"
     ]
    }
   ],
   "source": [
    "def break_paragraph(paragraph, chunk_size):\n",
    "    chunks = []\n",
    "    start_index = 0\n",
    "    lists = paragraph.split(' ')\n",
    "    # print(lists)\n",
    "    csize = len(lists)//chunk_size\n",
    "    while(start_index+csize<len(lists)):\n",
    "        chunk = lists[start_index:start_index+csize]\n",
    "        chunks.append(chunk)\n",
    "        start_index += csize\n",
    "    return chunks\n",
    "    \n",
    "def process_chunks(chunks):\n",
    "    phrases = []\n",
    "    for c in chunks:\n",
    "        phrases.append(\" \".join(c))\n",
    "    return phrases\n",
    "# Example usage:\n",
    "paragraph = \"Lorem ipsum dolor sit amet, consectetur adipiscing elit. Sed do eiusmod tempor incididunt ut labore et dolore magna aliqua. Ut enim ad minim veniam, quis nostrud exercitation ullamco laboris nisi ut aliquip ex ea commodo consequat. Duis aute irure dolor in reprehenderit in voluptate velit esse cillum dolore eu fugiat nulla pariatur. Excepteur sint occaecat cupidatat non proident, sunt in culpa qui officia deserunt mollit anim id est laborum.\"\n",
    "\n",
    "chunk_sizes = 20\n",
    "chunks = break_paragraph(paragraph, chunk_sizes)\n",
    "print(chunks)\n",
    "processed_paragraph = process_chunks(chunks)\n",
    "print(processed_paragraph)"
   ]
  },
  {
   "cell_type": "code",
   "execution_count": null,
   "id": "6a7fcd38-20a6-4311-94d9-c27279415ca9",
   "metadata": {},
   "outputs": [],
   "source": []
  }
 ],
 "metadata": {
  "kernelspec": {
   "display_name": "Python 3 (ipykernel)",
   "language": "python",
   "name": "python3"
  },
  "language_info": {
   "codemirror_mode": {
    "name": "ipython",
    "version": 3
   },
   "file_extension": ".py",
   "mimetype": "text/x-python",
   "name": "python",
   "nbconvert_exporter": "python",
   "pygments_lexer": "ipython3",
   "version": "3.10.5"
  }
 },
 "nbformat": 4,
 "nbformat_minor": 5
}
